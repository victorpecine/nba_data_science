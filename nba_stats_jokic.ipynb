{
  "nbformat": 4,
  "nbformat_minor": 0,
  "metadata": {
    "colab": {
      "provenance": [],
      "toc_visible": true,
      "authorship_tag": "ABX9TyP+zCt9zGcdxTGT8oZIQVY3"
    },
    "kernelspec": {
      "name": "python3",
      "display_name": "Python 3"
    },
    "language_info": {
      "name": "python"
    }
  },
  "cells": [
    {
      "cell_type": "markdown",
      "source": [
        "# Bibliotecas"
      ],
      "metadata": {
        "id": "tl21fEEhcmUF"
      }
    },
    {
      "cell_type": "code",
      "metadata": {
        "id": "3HgONlLfnFks"
      },
      "source": [
        "# ! pip install selenium -U --quiet\n",
        "# ! apt-get update -U --quiet\n",
        "# ! apt install chromium-chromedriver -U --quiet"
      ],
      "execution_count": 299,
      "outputs": []
    },
    {
      "cell_type": "code",
      "metadata": {
        "id": "cbGg6Csc6XBN"
      },
      "source": [
        "import  pandas as pd\n",
        "import  numpy as np\n",
        "import  re\n",
        "import  plotly.express as px\n",
        "import  plotly.graph_objects as go\n",
        "import  matplotlib.pyplot as plt\n",
        "import  requests\n",
        "\n",
        "from    plotly.subplots import make_subplots\n",
        "from    sklearn.decomposition import PCA\n",
        "from    sklearn.preprocessing import OneHotEncoder\n",
        "from    sklearn.preprocessing import (StandardScaler,\n",
        "                                      Normalizer,\n",
        "                                      LabelEncoder)\n",
        "from    sklearn.model_selection import (train_test_split,\n",
        "                                        KFold)\n",
        "from    sklearn.metrics import (confusion_matrix,\n",
        "                                accuracy_score,\n",
        "                                mean_absolute_error,\n",
        "                                mean_squared_error)\n",
        "from    scipy.stats import bartlett\n",
        "from    selenium import webdriver\n",
        "from    datetime import datetime\n",
        "from    google.colab import drive"
      ],
      "execution_count": 300,
      "outputs": []
    },
    {
      "cell_type": "code",
      "source": [
        "drive.mount('/content/drive')"
      ],
      "metadata": {
        "colab": {
          "base_uri": "https://localhost:8080/"
        },
        "id": "tSbuuyJXtvOJ",
        "outputId": "ce0134ef-c60a-4ef5-b851-5145602a5c40"
      },
      "execution_count": 301,
      "outputs": [
        {
          "output_type": "stream",
          "name": "stdout",
          "text": [
            "Drive already mounted at /content/drive; to attempt to forcibly remount, call drive.mount(\"/content/drive\", force_remount=True).\n"
          ]
        }
      ]
    },
    {
      "cell_type": "markdown",
      "source": [
        "# Webdriver"
      ],
      "metadata": {
        "id": "eUxJTizo_fXr"
      }
    },
    {
      "cell_type": "code",
      "metadata": {
        "id": "_7EX9wT8sY52"
      },
      "source": [
        "# options = webdriver.ChromeOptions()\n",
        "# options.add_argument('--headless')\n",
        "# options.add_argument('--no-sandbox')\n",
        "# options.add_argument('--disable-dev-shm-usage')\n",
        "# options.add_experimental_option('prefs', {'intl': {'timezone': 'Sao_Paulo'}})"
      ],
      "execution_count": 302,
      "outputs": []
    },
    {
      "cell_type": "markdown",
      "source": [
        "# Web scraping"
      ],
      "metadata": {
        "id": "Zv2KGpAT_tTL"
      }
    },
    {
      "cell_type": "code",
      "source": [
        "# wd = webdriver.Chrome(options=options)"
      ],
      "metadata": {
        "id": "sX4iuo9yQiAx"
      },
      "execution_count": 303,
      "outputs": []
    },
    {
      "cell_type": "code",
      "source": [
        "# ano_atual = datetime.now().year\n",
        "\n",
        "# ano_atual"
      ],
      "metadata": {
        "id": "mRPJLBpbRZ5m"
      },
      "execution_count": 304,
      "outputs": []
    },
    {
      "cell_type": "code",
      "source": [
        "# temporadas_jokic = np.arange(2015, ano_atual + 1)\n",
        "# # Soma 1 para que o range inclua a temporada atual\n",
        "\n",
        "# lista_frames_scrapping = []\n",
        "\n",
        "# df_stats_jokic_raw = pd.DataFrame()\n",
        "\n",
        "# # Coleta os dados do jogador nas temporadas\n",
        "# for i, ano in enumerate(temporadas_jokic):\n",
        "\n",
        "#     url = 'https://sports.yahoo.com/nba/players/5352/gamelog/?guccounter=1&guce_referrer       \\\n",
        "#            =aHR0cHM6Ly93d3cuZ29vZ2xlLmNvbS8&guce_referrer_sig=AQAAALAJHhWY9VoPRZ3jQV_Kza8xe    \\\n",
        "#            Il8O9eRZUhKOU9gZA7T3hcnrB3sxOAIQEacPNovcAf1Hf_A72rqE-qIWiZeeZHLeRQiFWpryJBxU1vH7ne  \\\n",
        "#            twg81HkJ6TJipGCdzUL-SUdACT_gx9sYkMYeNOPX126leoR5LSS1YTGlm1XbyCARt&selectedTable=0&season=' + str(ano)\n",
        "\n",
        "#     # Verifica a requisição\n",
        "#     response = requests.get(url)\n",
        "\n",
        "#     if response.ok:\n",
        "#         print(ano)\n",
        "#         print('This URL is working properly!\\n')\n",
        "#     else:\n",
        "#         print(ano)\n",
        "#         print('This page either does not exist or is out.')\n",
        "\n",
        "#     wd.get(url)\n",
        "\n",
        "#     html = wd.page_source\n",
        "\n",
        "#     frame_scrapping = pd.read_html(html)\n",
        "\n",
        "#     lista_frames_scrapping.append([ano, frame_scrapping[0]])\n",
        "#     # Add o ano da temporada no dataset\n",
        "#     lista_frames_scrapping[i][1]['Temporada'] = lista_frames_scrapping[i][0]\n",
        "\n",
        "#     # Concatena todas em temporadas em um dataset\n",
        "#     df_stats_jokic_raw = pd.concat([df_stats_jokic_raw, lista_frames_scrapping[i][1]], axis=0)"
      ],
      "metadata": {
        "id": "u619N_4aFw4e"
      },
      "execution_count": 305,
      "outputs": []
    },
    {
      "cell_type": "code",
      "source": [
        "# df_stats_jokic_raw"
      ],
      "metadata": {
        "id": "1BjZN0K543BE"
      },
      "execution_count": 306,
      "outputs": []
    },
    {
      "cell_type": "code",
      "source": [
        "# df_stats_jokic_raw.columns = df_stats_jokic_raw.columns.droplevel(0)\n",
        "\n",
        "# df_stats_jokic_raw.rename(columns={'': 'Temporada'}, inplace=True)\n",
        "\n",
        "# df_stats_jokic_raw"
      ],
      "metadata": {
        "id": "qIMwmW6hzZyE"
      },
      "execution_count": 307,
      "outputs": []
    },
    {
      "cell_type": "code",
      "source": [
        "# df_stats_jokic_raw.isnull().sum()"
      ],
      "metadata": {
        "id": "pkgQydw1MFRH"
      },
      "execution_count": 308,
      "outputs": []
    },
    {
      "cell_type": "code",
      "source": [
        "# df_stats_jokic_raw.dtypes"
      ],
      "metadata": {
        "id": "MNN0DZJnMJMu"
      },
      "execution_count": 309,
      "outputs": []
    },
    {
      "cell_type": "code",
      "source": [
        "# df_stats_jokic_raw.drop(columns=['+/-'], inplace=True)"
      ],
      "metadata": {
        "id": "JRsfeH4nXT7s"
      },
      "execution_count": 310,
      "outputs": []
    },
    {
      "cell_type": "code",
      "source": [
        "# df_stats_jokic_raw.to_csv('/content/drive/MyDrive/NBA Analysis/nba_stats_jokic_raw.csv',\n",
        "#                           encoding='utf-8',\n",
        "#                           sep=',',\n",
        "#                           index=False)"
      ],
      "metadata": {
        "id": "gXEuhsbDtrIe"
      },
      "execution_count": 311,
      "outputs": []
    },
    {
      "cell_type": "markdown",
      "source": [
        "# Dataset raw from csv"
      ],
      "metadata": {
        "id": "aDua_fnkuMtT"
      }
    },
    {
      "cell_type": "code",
      "source": [
        "df_stats_jokic_raw = pd.read_csv('/content/drive/MyDrive/NBA Analysis/nba_stats_jokic_raw.csv',\n",
        "                                 encoding='utf-8',\n",
        "                                 sep=',')\n",
        "\n",
        "df_stats_jokic_raw.reset_index(drop=True, inplace=True)"
      ],
      "metadata": {
        "id": "WuQV4hCLuLP2"
      },
      "execution_count": 312,
      "outputs": []
    },
    {
      "cell_type": "code",
      "source": [
        "df_stats_jokic_raw"
      ],
      "metadata": {
        "id": "UrjRiXgyASDT",
        "colab": {
          "base_uri": "https://localhost:8080/",
          "height": 423
        },
        "outputId": "7ff5d5b8-8e76-47f9-ca0c-f6a199609208"
      },
      "execution_count": 313,
      "outputs": [
        {
          "output_type": "execute_result",
          "data": {
            "text/plain": [
              "       Date   Opp      Score Type    Min  FGM  FGA   FG%  3PM  3PA  ... OR  \\\n",
              "0    Apr 14  @POR   L 99-107  Reg  34:56    7   10  70.0    1    2  ...  6   \n",
              "1    Apr 10   UTA   L 100-84  Reg  36:02    7    9  77.8    0    2  ...  3   \n",
              "2     Apr 9    SA   W 98-102  Reg  32:13    3    9  33.3    0    2  ...  3   \n",
              "3     Apr 6   OKC  L 124-102  Reg  19:03    3    5  60.0    1    3  ...  0   \n",
              "4     Apr 3   SAC  L 115-106  Reg  32:14    2    6  33.3    0    1  ...  4   \n",
              "..      ...   ...        ...  ...    ...  ...  ...   ...  ...  ...  ... ..   \n",
              "615   Nov 2  @MIN   L 89-110  Reg  29:58   11   23  47.8    1    6  ...  2   \n",
              "616  Oct 31   UTA  W 102-110  Reg  35:14   12   16  75.0    1    3  ...  1   \n",
              "617  Oct 29  @OKC   W 128-95  Reg  29:52   12   16  75.0    1    2  ...  2   \n",
              "618  Oct 27  @MEM  W 108-104  Reg  34:58    8   14  57.1    1    4  ...  3   \n",
              "619  Oct 24   LAL  W 107-119  Reg  36:16   12   22  54.5    3    5  ...  3   \n",
              "\n",
              "     DR  Reb Ast  TO  Stl  Blk  PF  Pts  Temporada  \n",
              "0     7   13   5   2    0    0   3   18       2015  \n",
              "1     8   11   4   1    2    1   4   19       2015  \n",
              "2    12   15   4   0    1    1   2    8       2015  \n",
              "3     2    2   2   0    0    2   2    7       2015  \n",
              "4     9   13   5   0    1    2   2    6       2015  \n",
              "..   ..  ...  ..  ..  ...  ...  ..  ...        ...  \n",
              "615   8   10   3   5    0    0   0   25       2023  \n",
              "616   9   10  11   1    0    2   3   27       2023  \n",
              "617  12   14   5   4    0    0   3   28       2023  \n",
              "618   9   12   7   9    1    1   1   22       2023  \n",
              "619  10   13  11   2    1    1   2   29       2023  \n",
              "\n",
              "[620 rows x 24 columns]"
            ],
            "text/html": [
              "\n",
              "  <div id=\"df-7ba0f534-f73e-4fd4-867f-395a63e839b2\" class=\"colab-df-container\">\n",
              "    <div>\n",
              "<style scoped>\n",
              "    .dataframe tbody tr th:only-of-type {\n",
              "        vertical-align: middle;\n",
              "    }\n",
              "\n",
              "    .dataframe tbody tr th {\n",
              "        vertical-align: top;\n",
              "    }\n",
              "\n",
              "    .dataframe thead th {\n",
              "        text-align: right;\n",
              "    }\n",
              "</style>\n",
              "<table border=\"1\" class=\"dataframe\">\n",
              "  <thead>\n",
              "    <tr style=\"text-align: right;\">\n",
              "      <th></th>\n",
              "      <th>Date</th>\n",
              "      <th>Opp</th>\n",
              "      <th>Score</th>\n",
              "      <th>Type</th>\n",
              "      <th>Min</th>\n",
              "      <th>FGM</th>\n",
              "      <th>FGA</th>\n",
              "      <th>FG%</th>\n",
              "      <th>3PM</th>\n",
              "      <th>3PA</th>\n",
              "      <th>...</th>\n",
              "      <th>OR</th>\n",
              "      <th>DR</th>\n",
              "      <th>Reb</th>\n",
              "      <th>Ast</th>\n",
              "      <th>TO</th>\n",
              "      <th>Stl</th>\n",
              "      <th>Blk</th>\n",
              "      <th>PF</th>\n",
              "      <th>Pts</th>\n",
              "      <th>Temporada</th>\n",
              "    </tr>\n",
              "  </thead>\n",
              "  <tbody>\n",
              "    <tr>\n",
              "      <th>0</th>\n",
              "      <td>Apr 14</td>\n",
              "      <td>@POR</td>\n",
              "      <td>L 99-107</td>\n",
              "      <td>Reg</td>\n",
              "      <td>34:56</td>\n",
              "      <td>7</td>\n",
              "      <td>10</td>\n",
              "      <td>70.0</td>\n",
              "      <td>1</td>\n",
              "      <td>2</td>\n",
              "      <td>...</td>\n",
              "      <td>6</td>\n",
              "      <td>7</td>\n",
              "      <td>13</td>\n",
              "      <td>5</td>\n",
              "      <td>2</td>\n",
              "      <td>0</td>\n",
              "      <td>0</td>\n",
              "      <td>3</td>\n",
              "      <td>18</td>\n",
              "      <td>2015</td>\n",
              "    </tr>\n",
              "    <tr>\n",
              "      <th>1</th>\n",
              "      <td>Apr 10</td>\n",
              "      <td>UTA</td>\n",
              "      <td>L 100-84</td>\n",
              "      <td>Reg</td>\n",
              "      <td>36:02</td>\n",
              "      <td>7</td>\n",
              "      <td>9</td>\n",
              "      <td>77.8</td>\n",
              "      <td>0</td>\n",
              "      <td>2</td>\n",
              "      <td>...</td>\n",
              "      <td>3</td>\n",
              "      <td>8</td>\n",
              "      <td>11</td>\n",
              "      <td>4</td>\n",
              "      <td>1</td>\n",
              "      <td>2</td>\n",
              "      <td>1</td>\n",
              "      <td>4</td>\n",
              "      <td>19</td>\n",
              "      <td>2015</td>\n",
              "    </tr>\n",
              "    <tr>\n",
              "      <th>2</th>\n",
              "      <td>Apr 9</td>\n",
              "      <td>SA</td>\n",
              "      <td>W 98-102</td>\n",
              "      <td>Reg</td>\n",
              "      <td>32:13</td>\n",
              "      <td>3</td>\n",
              "      <td>9</td>\n",
              "      <td>33.3</td>\n",
              "      <td>0</td>\n",
              "      <td>2</td>\n",
              "      <td>...</td>\n",
              "      <td>3</td>\n",
              "      <td>12</td>\n",
              "      <td>15</td>\n",
              "      <td>4</td>\n",
              "      <td>0</td>\n",
              "      <td>1</td>\n",
              "      <td>1</td>\n",
              "      <td>2</td>\n",
              "      <td>8</td>\n",
              "      <td>2015</td>\n",
              "    </tr>\n",
              "    <tr>\n",
              "      <th>3</th>\n",
              "      <td>Apr 6</td>\n",
              "      <td>OKC</td>\n",
              "      <td>L 124-102</td>\n",
              "      <td>Reg</td>\n",
              "      <td>19:03</td>\n",
              "      <td>3</td>\n",
              "      <td>5</td>\n",
              "      <td>60.0</td>\n",
              "      <td>1</td>\n",
              "      <td>3</td>\n",
              "      <td>...</td>\n",
              "      <td>0</td>\n",
              "      <td>2</td>\n",
              "      <td>2</td>\n",
              "      <td>2</td>\n",
              "      <td>0</td>\n",
              "      <td>0</td>\n",
              "      <td>2</td>\n",
              "      <td>2</td>\n",
              "      <td>7</td>\n",
              "      <td>2015</td>\n",
              "    </tr>\n",
              "    <tr>\n",
              "      <th>4</th>\n",
              "      <td>Apr 3</td>\n",
              "      <td>SAC</td>\n",
              "      <td>L 115-106</td>\n",
              "      <td>Reg</td>\n",
              "      <td>32:14</td>\n",
              "      <td>2</td>\n",
              "      <td>6</td>\n",
              "      <td>33.3</td>\n",
              "      <td>0</td>\n",
              "      <td>1</td>\n",
              "      <td>...</td>\n",
              "      <td>4</td>\n",
              "      <td>9</td>\n",
              "      <td>13</td>\n",
              "      <td>5</td>\n",
              "      <td>0</td>\n",
              "      <td>1</td>\n",
              "      <td>2</td>\n",
              "      <td>2</td>\n",
              "      <td>6</td>\n",
              "      <td>2015</td>\n",
              "    </tr>\n",
              "    <tr>\n",
              "      <th>...</th>\n",
              "      <td>...</td>\n",
              "      <td>...</td>\n",
              "      <td>...</td>\n",
              "      <td>...</td>\n",
              "      <td>...</td>\n",
              "      <td>...</td>\n",
              "      <td>...</td>\n",
              "      <td>...</td>\n",
              "      <td>...</td>\n",
              "      <td>...</td>\n",
              "      <td>...</td>\n",
              "      <td>...</td>\n",
              "      <td>...</td>\n",
              "      <td>...</td>\n",
              "      <td>...</td>\n",
              "      <td>...</td>\n",
              "      <td>...</td>\n",
              "      <td>...</td>\n",
              "      <td>...</td>\n",
              "      <td>...</td>\n",
              "      <td>...</td>\n",
              "    </tr>\n",
              "    <tr>\n",
              "      <th>615</th>\n",
              "      <td>Nov 2</td>\n",
              "      <td>@MIN</td>\n",
              "      <td>L 89-110</td>\n",
              "      <td>Reg</td>\n",
              "      <td>29:58</td>\n",
              "      <td>11</td>\n",
              "      <td>23</td>\n",
              "      <td>47.8</td>\n",
              "      <td>1</td>\n",
              "      <td>6</td>\n",
              "      <td>...</td>\n",
              "      <td>2</td>\n",
              "      <td>8</td>\n",
              "      <td>10</td>\n",
              "      <td>3</td>\n",
              "      <td>5</td>\n",
              "      <td>0</td>\n",
              "      <td>0</td>\n",
              "      <td>0</td>\n",
              "      <td>25</td>\n",
              "      <td>2023</td>\n",
              "    </tr>\n",
              "    <tr>\n",
              "      <th>616</th>\n",
              "      <td>Oct 31</td>\n",
              "      <td>UTA</td>\n",
              "      <td>W 102-110</td>\n",
              "      <td>Reg</td>\n",
              "      <td>35:14</td>\n",
              "      <td>12</td>\n",
              "      <td>16</td>\n",
              "      <td>75.0</td>\n",
              "      <td>1</td>\n",
              "      <td>3</td>\n",
              "      <td>...</td>\n",
              "      <td>1</td>\n",
              "      <td>9</td>\n",
              "      <td>10</td>\n",
              "      <td>11</td>\n",
              "      <td>1</td>\n",
              "      <td>0</td>\n",
              "      <td>2</td>\n",
              "      <td>3</td>\n",
              "      <td>27</td>\n",
              "      <td>2023</td>\n",
              "    </tr>\n",
              "    <tr>\n",
              "      <th>617</th>\n",
              "      <td>Oct 29</td>\n",
              "      <td>@OKC</td>\n",
              "      <td>W 128-95</td>\n",
              "      <td>Reg</td>\n",
              "      <td>29:52</td>\n",
              "      <td>12</td>\n",
              "      <td>16</td>\n",
              "      <td>75.0</td>\n",
              "      <td>1</td>\n",
              "      <td>2</td>\n",
              "      <td>...</td>\n",
              "      <td>2</td>\n",
              "      <td>12</td>\n",
              "      <td>14</td>\n",
              "      <td>5</td>\n",
              "      <td>4</td>\n",
              "      <td>0</td>\n",
              "      <td>0</td>\n",
              "      <td>3</td>\n",
              "      <td>28</td>\n",
              "      <td>2023</td>\n",
              "    </tr>\n",
              "    <tr>\n",
              "      <th>618</th>\n",
              "      <td>Oct 27</td>\n",
              "      <td>@MEM</td>\n",
              "      <td>W 108-104</td>\n",
              "      <td>Reg</td>\n",
              "      <td>34:58</td>\n",
              "      <td>8</td>\n",
              "      <td>14</td>\n",
              "      <td>57.1</td>\n",
              "      <td>1</td>\n",
              "      <td>4</td>\n",
              "      <td>...</td>\n",
              "      <td>3</td>\n",
              "      <td>9</td>\n",
              "      <td>12</td>\n",
              "      <td>7</td>\n",
              "      <td>9</td>\n",
              "      <td>1</td>\n",
              "      <td>1</td>\n",
              "      <td>1</td>\n",
              "      <td>22</td>\n",
              "      <td>2023</td>\n",
              "    </tr>\n",
              "    <tr>\n",
              "      <th>619</th>\n",
              "      <td>Oct 24</td>\n",
              "      <td>LAL</td>\n",
              "      <td>W 107-119</td>\n",
              "      <td>Reg</td>\n",
              "      <td>36:16</td>\n",
              "      <td>12</td>\n",
              "      <td>22</td>\n",
              "      <td>54.5</td>\n",
              "      <td>3</td>\n",
              "      <td>5</td>\n",
              "      <td>...</td>\n",
              "      <td>3</td>\n",
              "      <td>10</td>\n",
              "      <td>13</td>\n",
              "      <td>11</td>\n",
              "      <td>2</td>\n",
              "      <td>1</td>\n",
              "      <td>1</td>\n",
              "      <td>2</td>\n",
              "      <td>29</td>\n",
              "      <td>2023</td>\n",
              "    </tr>\n",
              "  </tbody>\n",
              "</table>\n",
              "<p>620 rows × 24 columns</p>\n",
              "</div>\n",
              "    <div class=\"colab-df-buttons\">\n",
              "\n",
              "  <div class=\"colab-df-container\">\n",
              "    <button class=\"colab-df-convert\" onclick=\"convertToInteractive('df-7ba0f534-f73e-4fd4-867f-395a63e839b2')\"\n",
              "            title=\"Convert this dataframe to an interactive table.\"\n",
              "            style=\"display:none;\">\n",
              "\n",
              "  <svg xmlns=\"http://www.w3.org/2000/svg\" height=\"24px\" viewBox=\"0 -960 960 960\">\n",
              "    <path d=\"M120-120v-720h720v720H120Zm60-500h600v-160H180v160Zm220 220h160v-160H400v160Zm0 220h160v-160H400v160ZM180-400h160v-160H180v160Zm440 0h160v-160H620v160ZM180-180h160v-160H180v160Zm440 0h160v-160H620v160Z\"/>\n",
              "  </svg>\n",
              "    </button>\n",
              "\n",
              "  <style>\n",
              "    .colab-df-container {\n",
              "      display:flex;\n",
              "      gap: 12px;\n",
              "    }\n",
              "\n",
              "    .colab-df-convert {\n",
              "      background-color: #E8F0FE;\n",
              "      border: none;\n",
              "      border-radius: 50%;\n",
              "      cursor: pointer;\n",
              "      display: none;\n",
              "      fill: #1967D2;\n",
              "      height: 32px;\n",
              "      padding: 0 0 0 0;\n",
              "      width: 32px;\n",
              "    }\n",
              "\n",
              "    .colab-df-convert:hover {\n",
              "      background-color: #E2EBFA;\n",
              "      box-shadow: 0px 1px 2px rgba(60, 64, 67, 0.3), 0px 1px 3px 1px rgba(60, 64, 67, 0.15);\n",
              "      fill: #174EA6;\n",
              "    }\n",
              "\n",
              "    .colab-df-buttons div {\n",
              "      margin-bottom: 4px;\n",
              "    }\n",
              "\n",
              "    [theme=dark] .colab-df-convert {\n",
              "      background-color: #3B4455;\n",
              "      fill: #D2E3FC;\n",
              "    }\n",
              "\n",
              "    [theme=dark] .colab-df-convert:hover {\n",
              "      background-color: #434B5C;\n",
              "      box-shadow: 0px 1px 3px 1px rgba(0, 0, 0, 0.15);\n",
              "      filter: drop-shadow(0px 1px 2px rgba(0, 0, 0, 0.3));\n",
              "      fill: #FFFFFF;\n",
              "    }\n",
              "  </style>\n",
              "\n",
              "    <script>\n",
              "      const buttonEl =\n",
              "        document.querySelector('#df-7ba0f534-f73e-4fd4-867f-395a63e839b2 button.colab-df-convert');\n",
              "      buttonEl.style.display =\n",
              "        google.colab.kernel.accessAllowed ? 'block' : 'none';\n",
              "\n",
              "      async function convertToInteractive(key) {\n",
              "        const element = document.querySelector('#df-7ba0f534-f73e-4fd4-867f-395a63e839b2');\n",
              "        const dataTable =\n",
              "          await google.colab.kernel.invokeFunction('convertToInteractive',\n",
              "                                                    [key], {});\n",
              "        if (!dataTable) return;\n",
              "\n",
              "        const docLinkHtml = 'Like what you see? Visit the ' +\n",
              "          '<a target=\"_blank\" href=https://colab.research.google.com/notebooks/data_table.ipynb>data table notebook</a>'\n",
              "          + ' to learn more about interactive tables.';\n",
              "        element.innerHTML = '';\n",
              "        dataTable['output_type'] = 'display_data';\n",
              "        await google.colab.output.renderOutput(dataTable, element);\n",
              "        const docLink = document.createElement('div');\n",
              "        docLink.innerHTML = docLinkHtml;\n",
              "        element.appendChild(docLink);\n",
              "      }\n",
              "    </script>\n",
              "  </div>\n",
              "\n",
              "\n",
              "<div id=\"df-6b5eeff2-c495-4109-b2cd-25d5c21ecd28\">\n",
              "  <button class=\"colab-df-quickchart\" onclick=\"quickchart('df-6b5eeff2-c495-4109-b2cd-25d5c21ecd28')\"\n",
              "            title=\"Suggest charts\"\n",
              "            style=\"display:none;\">\n",
              "\n",
              "<svg xmlns=\"http://www.w3.org/2000/svg\" height=\"24px\"viewBox=\"0 0 24 24\"\n",
              "     width=\"24px\">\n",
              "    <g>\n",
              "        <path d=\"M19 3H5c-1.1 0-2 .9-2 2v14c0 1.1.9 2 2 2h14c1.1 0 2-.9 2-2V5c0-1.1-.9-2-2-2zM9 17H7v-7h2v7zm4 0h-2V7h2v10zm4 0h-2v-4h2v4z\"/>\n",
              "    </g>\n",
              "</svg>\n",
              "  </button>\n",
              "\n",
              "<style>\n",
              "  .colab-df-quickchart {\n",
              "      --bg-color: #E8F0FE;\n",
              "      --fill-color: #1967D2;\n",
              "      --hover-bg-color: #E2EBFA;\n",
              "      --hover-fill-color: #174EA6;\n",
              "      --disabled-fill-color: #AAA;\n",
              "      --disabled-bg-color: #DDD;\n",
              "  }\n",
              "\n",
              "  [theme=dark] .colab-df-quickchart {\n",
              "      --bg-color: #3B4455;\n",
              "      --fill-color: #D2E3FC;\n",
              "      --hover-bg-color: #434B5C;\n",
              "      --hover-fill-color: #FFFFFF;\n",
              "      --disabled-bg-color: #3B4455;\n",
              "      --disabled-fill-color: #666;\n",
              "  }\n",
              "\n",
              "  .colab-df-quickchart {\n",
              "    background-color: var(--bg-color);\n",
              "    border: none;\n",
              "    border-radius: 50%;\n",
              "    cursor: pointer;\n",
              "    display: none;\n",
              "    fill: var(--fill-color);\n",
              "    height: 32px;\n",
              "    padding: 0;\n",
              "    width: 32px;\n",
              "  }\n",
              "\n",
              "  .colab-df-quickchart:hover {\n",
              "    background-color: var(--hover-bg-color);\n",
              "    box-shadow: 0 1px 2px rgba(60, 64, 67, 0.3), 0 1px 3px 1px rgba(60, 64, 67, 0.15);\n",
              "    fill: var(--button-hover-fill-color);\n",
              "  }\n",
              "\n",
              "  .colab-df-quickchart-complete:disabled,\n",
              "  .colab-df-quickchart-complete:disabled:hover {\n",
              "    background-color: var(--disabled-bg-color);\n",
              "    fill: var(--disabled-fill-color);\n",
              "    box-shadow: none;\n",
              "  }\n",
              "\n",
              "  .colab-df-spinner {\n",
              "    border: 2px solid var(--fill-color);\n",
              "    border-color: transparent;\n",
              "    border-bottom-color: var(--fill-color);\n",
              "    animation:\n",
              "      spin 1s steps(1) infinite;\n",
              "  }\n",
              "\n",
              "  @keyframes spin {\n",
              "    0% {\n",
              "      border-color: transparent;\n",
              "      border-bottom-color: var(--fill-color);\n",
              "      border-left-color: var(--fill-color);\n",
              "    }\n",
              "    20% {\n",
              "      border-color: transparent;\n",
              "      border-left-color: var(--fill-color);\n",
              "      border-top-color: var(--fill-color);\n",
              "    }\n",
              "    30% {\n",
              "      border-color: transparent;\n",
              "      border-left-color: var(--fill-color);\n",
              "      border-top-color: var(--fill-color);\n",
              "      border-right-color: var(--fill-color);\n",
              "    }\n",
              "    40% {\n",
              "      border-color: transparent;\n",
              "      border-right-color: var(--fill-color);\n",
              "      border-top-color: var(--fill-color);\n",
              "    }\n",
              "    60% {\n",
              "      border-color: transparent;\n",
              "      border-right-color: var(--fill-color);\n",
              "    }\n",
              "    80% {\n",
              "      border-color: transparent;\n",
              "      border-right-color: var(--fill-color);\n",
              "      border-bottom-color: var(--fill-color);\n",
              "    }\n",
              "    90% {\n",
              "      border-color: transparent;\n",
              "      border-bottom-color: var(--fill-color);\n",
              "    }\n",
              "  }\n",
              "</style>\n",
              "\n",
              "  <script>\n",
              "    async function quickchart(key) {\n",
              "      const quickchartButtonEl =\n",
              "        document.querySelector('#' + key + ' button');\n",
              "      quickchartButtonEl.disabled = true;  // To prevent multiple clicks.\n",
              "      quickchartButtonEl.classList.add('colab-df-spinner');\n",
              "      try {\n",
              "        const charts = await google.colab.kernel.invokeFunction(\n",
              "            'suggestCharts', [key], {});\n",
              "      } catch (error) {\n",
              "        console.error('Error during call to suggestCharts:', error);\n",
              "      }\n",
              "      quickchartButtonEl.classList.remove('colab-df-spinner');\n",
              "      quickchartButtonEl.classList.add('colab-df-quickchart-complete');\n",
              "    }\n",
              "    (() => {\n",
              "      let quickchartButtonEl =\n",
              "        document.querySelector('#df-6b5eeff2-c495-4109-b2cd-25d5c21ecd28 button');\n",
              "      quickchartButtonEl.style.display =\n",
              "        google.colab.kernel.accessAllowed ? 'block' : 'none';\n",
              "    })();\n",
              "  </script>\n",
              "</div>\n",
              "\n",
              "  <div id=\"id_d8e577f0-6ab3-4b7f-9948-f7e2f7f9d598\">\n",
              "    <style>\n",
              "      .colab-df-generate {\n",
              "        background-color: #E8F0FE;\n",
              "        border: none;\n",
              "        border-radius: 50%;\n",
              "        cursor: pointer;\n",
              "        display: none;\n",
              "        fill: #1967D2;\n",
              "        height: 32px;\n",
              "        padding: 0 0 0 0;\n",
              "        width: 32px;\n",
              "      }\n",
              "\n",
              "      .colab-df-generate:hover {\n",
              "        background-color: #E2EBFA;\n",
              "        box-shadow: 0px 1px 2px rgba(60, 64, 67, 0.3), 0px 1px 3px 1px rgba(60, 64, 67, 0.15);\n",
              "        fill: #174EA6;\n",
              "      }\n",
              "\n",
              "      [theme=dark] .colab-df-generate {\n",
              "        background-color: #3B4455;\n",
              "        fill: #D2E3FC;\n",
              "      }\n",
              "\n",
              "      [theme=dark] .colab-df-generate:hover {\n",
              "        background-color: #434B5C;\n",
              "        box-shadow: 0px 1px 3px 1px rgba(0, 0, 0, 0.15);\n",
              "        filter: drop-shadow(0px 1px 2px rgba(0, 0, 0, 0.3));\n",
              "        fill: #FFFFFF;\n",
              "      }\n",
              "    </style>\n",
              "    <button class=\"colab-df-generate\" onclick=\"generateWithVariable('df_stats_jokic_raw')\"\n",
              "            title=\"Generate code using this dataframe.\"\n",
              "            style=\"display:none;\">\n",
              "\n",
              "  <svg xmlns=\"http://www.w3.org/2000/svg\" height=\"24px\"viewBox=\"0 0 24 24\"\n",
              "       width=\"24px\">\n",
              "    <path d=\"M7,19H8.4L18.45,9,17,7.55,7,17.6ZM5,21V16.75L18.45,3.32a2,2,0,0,1,2.83,0l1.4,1.43a1.91,1.91,0,0,1,.58,1.4,1.91,1.91,0,0,1-.58,1.4L9.25,21ZM18.45,9,17,7.55Zm-12,3A5.31,5.31,0,0,0,4.9,8.1,5.31,5.31,0,0,0,1,6.5,5.31,5.31,0,0,0,4.9,4.9,5.31,5.31,0,0,0,6.5,1,5.31,5.31,0,0,0,8.1,4.9,5.31,5.31,0,0,0,12,6.5,5.46,5.46,0,0,0,6.5,12Z\"/>\n",
              "  </svg>\n",
              "    </button>\n",
              "    <script>\n",
              "      (() => {\n",
              "      const buttonEl =\n",
              "        document.querySelector('#id_d8e577f0-6ab3-4b7f-9948-f7e2f7f9d598 button.colab-df-generate');\n",
              "      buttonEl.style.display =\n",
              "        google.colab.kernel.accessAllowed ? 'block' : 'none';\n",
              "\n",
              "      buttonEl.onclick = () => {\n",
              "        google.colab.notebook.generateWithVariable('df_stats_jokic_raw');\n",
              "      }\n",
              "      })();\n",
              "    </script>\n",
              "  </div>\n",
              "\n",
              "    </div>\n",
              "  </div>\n"
            ]
          },
          "metadata": {},
          "execution_count": 313
        }
      ]
    },
    {
      "cell_type": "markdown",
      "source": [
        "# Data wrangling"
      ],
      "metadata": {
        "id": "PduA-UO8vayi"
      }
    },
    {
      "cell_type": "code",
      "source": [
        "df_stats_jokic_raw.isnull().sum()"
      ],
      "metadata": {
        "id": "iL4uiDPRyGRD",
        "colab": {
          "base_uri": "https://localhost:8080/"
        },
        "outputId": "0d2a73d2-1197-46e9-8c36-d600f8addc0e"
      },
      "execution_count": 314,
      "outputs": [
        {
          "output_type": "execute_result",
          "data": {
            "text/plain": [
              "Date         0\n",
              "Opp          0\n",
              "Score        0\n",
              "Type         0\n",
              "Min          0\n",
              "FGM          0\n",
              "FGA          0\n",
              "FG%          0\n",
              "3PM          0\n",
              "3PA          0\n",
              "3P%          0\n",
              "FTM          0\n",
              "FTA          0\n",
              "FT%          0\n",
              "OR           0\n",
              "DR           0\n",
              "Reb          0\n",
              "Ast          0\n",
              "TO           0\n",
              "Stl          0\n",
              "Blk          0\n",
              "PF           0\n",
              "Pts          0\n",
              "Temporada    0\n",
              "dtype: int64"
            ]
          },
          "metadata": {},
          "execution_count": 314
        }
      ]
    },
    {
      "cell_type": "code",
      "source": [
        "df_stats_jokic_raw.columns"
      ],
      "metadata": {
        "id": "bPNev0mp2_dN",
        "colab": {
          "base_uri": "https://localhost:8080/"
        },
        "outputId": "10381f9b-31f1-42d2-9036-cfb6e9ff346c"
      },
      "execution_count": 315,
      "outputs": [
        {
          "output_type": "execute_result",
          "data": {
            "text/plain": [
              "Index(['Date', 'Opp', 'Score', 'Type', 'Min', 'FGM', 'FGA', 'FG%', '3PM',\n",
              "       '3PA', '3P%', 'FTM', 'FTA', 'FT%', 'OR', 'DR', 'Reb', 'Ast', 'TO',\n",
              "       'Stl', 'Blk', 'PF', 'Pts', 'Temporada'],\n",
              "      dtype='object')"
            ]
          },
          "metadata": {},
          "execution_count": 315
        }
      ]
    },
    {
      "cell_type": "code",
      "source": [
        "df_stats_jokic_raw.head(1)"
      ],
      "metadata": {
        "colab": {
          "base_uri": "https://localhost:8080/",
          "height": 110
        },
        "id": "gqvafW2TV6cK",
        "outputId": "6cece162-1e8e-482b-f69d-2315a50cbc54"
      },
      "execution_count": 316,
      "outputs": [
        {
          "output_type": "execute_result",
          "data": {
            "text/plain": [
              "     Date   Opp     Score Type    Min  FGM  FGA   FG%  3PM  3PA  ... OR  DR  \\\n",
              "0  Apr 14  @POR  L 99-107  Reg  34:56    7   10  70.0    1    2  ...  6   7   \n",
              "\n",
              "   Reb Ast  TO  Stl  Blk  PF  Pts  Temporada  \n",
              "0   13   5   2    0    0   3   18       2015  \n",
              "\n",
              "[1 rows x 24 columns]"
            ],
            "text/html": [
              "\n",
              "  <div id=\"df-b432fab8-0f14-478a-8ffd-0cc10a776d00\" class=\"colab-df-container\">\n",
              "    <div>\n",
              "<style scoped>\n",
              "    .dataframe tbody tr th:only-of-type {\n",
              "        vertical-align: middle;\n",
              "    }\n",
              "\n",
              "    .dataframe tbody tr th {\n",
              "        vertical-align: top;\n",
              "    }\n",
              "\n",
              "    .dataframe thead th {\n",
              "        text-align: right;\n",
              "    }\n",
              "</style>\n",
              "<table border=\"1\" class=\"dataframe\">\n",
              "  <thead>\n",
              "    <tr style=\"text-align: right;\">\n",
              "      <th></th>\n",
              "      <th>Date</th>\n",
              "      <th>Opp</th>\n",
              "      <th>Score</th>\n",
              "      <th>Type</th>\n",
              "      <th>Min</th>\n",
              "      <th>FGM</th>\n",
              "      <th>FGA</th>\n",
              "      <th>FG%</th>\n",
              "      <th>3PM</th>\n",
              "      <th>3PA</th>\n",
              "      <th>...</th>\n",
              "      <th>OR</th>\n",
              "      <th>DR</th>\n",
              "      <th>Reb</th>\n",
              "      <th>Ast</th>\n",
              "      <th>TO</th>\n",
              "      <th>Stl</th>\n",
              "      <th>Blk</th>\n",
              "      <th>PF</th>\n",
              "      <th>Pts</th>\n",
              "      <th>Temporada</th>\n",
              "    </tr>\n",
              "  </thead>\n",
              "  <tbody>\n",
              "    <tr>\n",
              "      <th>0</th>\n",
              "      <td>Apr 14</td>\n",
              "      <td>@POR</td>\n",
              "      <td>L 99-107</td>\n",
              "      <td>Reg</td>\n",
              "      <td>34:56</td>\n",
              "      <td>7</td>\n",
              "      <td>10</td>\n",
              "      <td>70.0</td>\n",
              "      <td>1</td>\n",
              "      <td>2</td>\n",
              "      <td>...</td>\n",
              "      <td>6</td>\n",
              "      <td>7</td>\n",
              "      <td>13</td>\n",
              "      <td>5</td>\n",
              "      <td>2</td>\n",
              "      <td>0</td>\n",
              "      <td>0</td>\n",
              "      <td>3</td>\n",
              "      <td>18</td>\n",
              "      <td>2015</td>\n",
              "    </tr>\n",
              "  </tbody>\n",
              "</table>\n",
              "<p>1 rows × 24 columns</p>\n",
              "</div>\n",
              "    <div class=\"colab-df-buttons\">\n",
              "\n",
              "  <div class=\"colab-df-container\">\n",
              "    <button class=\"colab-df-convert\" onclick=\"convertToInteractive('df-b432fab8-0f14-478a-8ffd-0cc10a776d00')\"\n",
              "            title=\"Convert this dataframe to an interactive table.\"\n",
              "            style=\"display:none;\">\n",
              "\n",
              "  <svg xmlns=\"http://www.w3.org/2000/svg\" height=\"24px\" viewBox=\"0 -960 960 960\">\n",
              "    <path d=\"M120-120v-720h720v720H120Zm60-500h600v-160H180v160Zm220 220h160v-160H400v160Zm0 220h160v-160H400v160ZM180-400h160v-160H180v160Zm440 0h160v-160H620v160ZM180-180h160v-160H180v160Zm440 0h160v-160H620v160Z\"/>\n",
              "  </svg>\n",
              "    </button>\n",
              "\n",
              "  <style>\n",
              "    .colab-df-container {\n",
              "      display:flex;\n",
              "      gap: 12px;\n",
              "    }\n",
              "\n",
              "    .colab-df-convert {\n",
              "      background-color: #E8F0FE;\n",
              "      border: none;\n",
              "      border-radius: 50%;\n",
              "      cursor: pointer;\n",
              "      display: none;\n",
              "      fill: #1967D2;\n",
              "      height: 32px;\n",
              "      padding: 0 0 0 0;\n",
              "      width: 32px;\n",
              "    }\n",
              "\n",
              "    .colab-df-convert:hover {\n",
              "      background-color: #E2EBFA;\n",
              "      box-shadow: 0px 1px 2px rgba(60, 64, 67, 0.3), 0px 1px 3px 1px rgba(60, 64, 67, 0.15);\n",
              "      fill: #174EA6;\n",
              "    }\n",
              "\n",
              "    .colab-df-buttons div {\n",
              "      margin-bottom: 4px;\n",
              "    }\n",
              "\n",
              "    [theme=dark] .colab-df-convert {\n",
              "      background-color: #3B4455;\n",
              "      fill: #D2E3FC;\n",
              "    }\n",
              "\n",
              "    [theme=dark] .colab-df-convert:hover {\n",
              "      background-color: #434B5C;\n",
              "      box-shadow: 0px 1px 3px 1px rgba(0, 0, 0, 0.15);\n",
              "      filter: drop-shadow(0px 1px 2px rgba(0, 0, 0, 0.3));\n",
              "      fill: #FFFFFF;\n",
              "    }\n",
              "  </style>\n",
              "\n",
              "    <script>\n",
              "      const buttonEl =\n",
              "        document.querySelector('#df-b432fab8-0f14-478a-8ffd-0cc10a776d00 button.colab-df-convert');\n",
              "      buttonEl.style.display =\n",
              "        google.colab.kernel.accessAllowed ? 'block' : 'none';\n",
              "\n",
              "      async function convertToInteractive(key) {\n",
              "        const element = document.querySelector('#df-b432fab8-0f14-478a-8ffd-0cc10a776d00');\n",
              "        const dataTable =\n",
              "          await google.colab.kernel.invokeFunction('convertToInteractive',\n",
              "                                                    [key], {});\n",
              "        if (!dataTable) return;\n",
              "\n",
              "        const docLinkHtml = 'Like what you see? Visit the ' +\n",
              "          '<a target=\"_blank\" href=https://colab.research.google.com/notebooks/data_table.ipynb>data table notebook</a>'\n",
              "          + ' to learn more about interactive tables.';\n",
              "        element.innerHTML = '';\n",
              "        dataTable['output_type'] = 'display_data';\n",
              "        await google.colab.output.renderOutput(dataTable, element);\n",
              "        const docLink = document.createElement('div');\n",
              "        docLink.innerHTML = docLinkHtml;\n",
              "        element.appendChild(docLink);\n",
              "      }\n",
              "    </script>\n",
              "  </div>\n",
              "\n",
              "\n",
              "    </div>\n",
              "  </div>\n"
            ]
          },
          "metadata": {},
          "execution_count": 316
        }
      ]
    },
    {
      "cell_type": "code",
      "source": [
        "colunas = {'Date'       : 'data',\n",
        "           'Opp'        : 'adversario',\n",
        "           'Score'      : 'placar',\n",
        "           'Type'       : 'tipo_temporada',\n",
        "           'Min'        : 'minutos',\n",
        "           'FGM'        : 'fgm',  # Field goals made\n",
        "           'FGA'        : 'fga',  # Field goals attempted\n",
        "           'FG%'        : 'fg_percent',\n",
        "           '3PM'        : '3pm',  # 3 points made\n",
        "           '3PA'        : '3pa',  # 3 points attempted\n",
        "           '3P%'        : '3p_percent',\n",
        "           'FTM'        : 'ftm',  # Free throws made\n",
        "           'FTA'        : 'fta',  # Free throws attempted\n",
        "           'FT%'        : 'ft_percent',\n",
        "           'OR'         : 'rebote_ataque',\n",
        "           'DR'         : 'rebote_defesa',\n",
        "           'Reb'        : 'rebotes',\n",
        "           'Ast'        : 'assistencias',\n",
        "           'TO'         : 'turnover',  # Perdas de bola\n",
        "           'Stl'        : 'roubos',\n",
        "           'Blk'        : 'bloqueios',\n",
        "           'PF'         : 'faltas',\n",
        "           'Pts'        : 'pontos',\n",
        "           'Temporada'  : 'temporada'}\n",
        "\n",
        "df_stats_jokic_raw.rename(columns=colunas,\n",
        "                          inplace=True)\n",
        "\n",
        "df_stats_jokic = df_stats_jokic_raw.copy()"
      ],
      "metadata": {
        "id": "4iNLqzKTrydF"
      },
      "execution_count": 317,
      "outputs": []
    },
    {
      "cell_type": "code",
      "source": [
        "df_stats_jokic['mes'] = df_stats_jokic['data'].str.extract(r'([a-zA-Z]+)')\n",
        "\n",
        "df_stats_jokic['dia'] = df_stats_jokic['data'].str.extract(r'(\\d+)').astype(int)\n",
        "\n",
        "df_stats_jokic['resultado'] = df_stats_jokic['placar'].str.extract(r'([a-zA-Z]+)')\n",
        "\n",
        "df_stats_jokic['resultado'] = df_stats_jokic['resultado'].map({'L': 'derrota',\n",
        "                                                               'W': 'vitoria'})\n",
        "\n",
        "df_stats_jokic['placar'] = df_stats_jokic['placar'].str.extract(r'[A-Za-z]\\s*(.*)')\n",
        "\n",
        "df_stats_jokic['minutos'] = df_stats_jokic['minutos'].str.extract(r'(\\d+)').astype(int)\n",
        "\n",
        "\n",
        "for i, row in df_stats_jokic.iterrows():\n",
        "    if '@' in row['adversario']:\n",
        "        df_stats_jokic.loc[i, 'local_jogo'] = 'fora'\n",
        "        df_stats_jokic.loc[i, 'adversario'] = re.sub(r'@', '', df_stats_jokic['adversario'][i])\n",
        "    else:\n",
        "        df_stats_jokic.loc[i, 'local_jogo'] = 'casa'\n",
        "\n",
        "\n",
        "df_stats_jokic"
      ],
      "metadata": {
        "colab": {
          "base_uri": "https://localhost:8080/",
          "height": 617
        },
        "id": "2F16ZpgpzFTs",
        "outputId": "b45253bb-1621-4f85-8302-26085d5c653a"
      },
      "execution_count": 318,
      "outputs": [
        {
          "output_type": "execute_result",
          "data": {
            "text/plain": [
              "       data adversario   placar tipo_temporada  minutos  fgm  fga fg_percent  \\\n",
              "0    Apr 14        POR   99-107            Reg       34    7   10       70.0   \n",
              "1    Apr 10        UTA   100-84            Reg       36    7    9       77.8   \n",
              "2     Apr 9         SA   98-102            Reg       32    3    9       33.3   \n",
              "3     Apr 6        OKC  124-102            Reg       19    3    5       60.0   \n",
              "4     Apr 3        SAC  115-106            Reg       32    2    6       33.3   \n",
              "..      ...        ...      ...            ...      ...  ...  ...        ...   \n",
              "615   Nov 2        MIN   89-110            Reg       29   11   23       47.8   \n",
              "616  Oct 31        UTA  102-110            Reg       35   12   16       75.0   \n",
              "617  Oct 29        OKC   128-95            Reg       29   12   16       75.0   \n",
              "618  Oct 27        MEM  108-104            Reg       34    8   14       57.1   \n",
              "619  Oct 24        LAL  107-119            Reg       36   12   22       54.5   \n",
              "\n",
              "     3pm  3pa  ... turnover  roubos  bloqueios faltas  pontos  temporada  mes  \\\n",
              "0      1    2  ...        2       0          0      3      18       2015  Apr   \n",
              "1      0    2  ...        1       2          1      4      19       2015  Apr   \n",
              "2      0    2  ...        0       1          1      2       8       2015  Apr   \n",
              "3      1    3  ...        0       0          2      2       7       2015  Apr   \n",
              "4      0    1  ...        0       1          2      2       6       2015  Apr   \n",
              "..   ...  ...  ...      ...     ...        ...    ...     ...        ...  ...   \n",
              "615    1    6  ...        5       0          0      0      25       2023  Nov   \n",
              "616    1    3  ...        1       0          2      3      27       2023  Oct   \n",
              "617    1    2  ...        4       0          0      3      28       2023  Oct   \n",
              "618    1    4  ...        9       1          1      1      22       2023  Oct   \n",
              "619    3    5  ...        2       1          1      2      29       2023  Oct   \n",
              "\n",
              "     dia  resultado  local_jogo  \n",
              "0     14    derrota        fora  \n",
              "1     10    derrota        casa  \n",
              "2      9    vitoria        casa  \n",
              "3      6    derrota        casa  \n",
              "4      3    derrota        casa  \n",
              "..   ...        ...         ...  \n",
              "615    2    derrota        fora  \n",
              "616   31    vitoria        casa  \n",
              "617   29    vitoria        fora  \n",
              "618   27    vitoria        fora  \n",
              "619   24    vitoria        casa  \n",
              "\n",
              "[620 rows x 28 columns]"
            ],
            "text/html": [
              "\n",
              "  <div id=\"df-31d96bbb-d3be-48b9-9979-16029c28cfdf\" class=\"colab-df-container\">\n",
              "    <div>\n",
              "<style scoped>\n",
              "    .dataframe tbody tr th:only-of-type {\n",
              "        vertical-align: middle;\n",
              "    }\n",
              "\n",
              "    .dataframe tbody tr th {\n",
              "        vertical-align: top;\n",
              "    }\n",
              "\n",
              "    .dataframe thead th {\n",
              "        text-align: right;\n",
              "    }\n",
              "</style>\n",
              "<table border=\"1\" class=\"dataframe\">\n",
              "  <thead>\n",
              "    <tr style=\"text-align: right;\">\n",
              "      <th></th>\n",
              "      <th>data</th>\n",
              "      <th>adversario</th>\n",
              "      <th>placar</th>\n",
              "      <th>tipo_temporada</th>\n",
              "      <th>minutos</th>\n",
              "      <th>fgm</th>\n",
              "      <th>fga</th>\n",
              "      <th>fg_percent</th>\n",
              "      <th>3pm</th>\n",
              "      <th>3pa</th>\n",
              "      <th>...</th>\n",
              "      <th>turnover</th>\n",
              "      <th>roubos</th>\n",
              "      <th>bloqueios</th>\n",
              "      <th>faltas</th>\n",
              "      <th>pontos</th>\n",
              "      <th>temporada</th>\n",
              "      <th>mes</th>\n",
              "      <th>dia</th>\n",
              "      <th>resultado</th>\n",
              "      <th>local_jogo</th>\n",
              "    </tr>\n",
              "  </thead>\n",
              "  <tbody>\n",
              "    <tr>\n",
              "      <th>0</th>\n",
              "      <td>Apr 14</td>\n",
              "      <td>POR</td>\n",
              "      <td>99-107</td>\n",
              "      <td>Reg</td>\n",
              "      <td>34</td>\n",
              "      <td>7</td>\n",
              "      <td>10</td>\n",
              "      <td>70.0</td>\n",
              "      <td>1</td>\n",
              "      <td>2</td>\n",
              "      <td>...</td>\n",
              "      <td>2</td>\n",
              "      <td>0</td>\n",
              "      <td>0</td>\n",
              "      <td>3</td>\n",
              "      <td>18</td>\n",
              "      <td>2015</td>\n",
              "      <td>Apr</td>\n",
              "      <td>14</td>\n",
              "      <td>derrota</td>\n",
              "      <td>fora</td>\n",
              "    </tr>\n",
              "    <tr>\n",
              "      <th>1</th>\n",
              "      <td>Apr 10</td>\n",
              "      <td>UTA</td>\n",
              "      <td>100-84</td>\n",
              "      <td>Reg</td>\n",
              "      <td>36</td>\n",
              "      <td>7</td>\n",
              "      <td>9</td>\n",
              "      <td>77.8</td>\n",
              "      <td>0</td>\n",
              "      <td>2</td>\n",
              "      <td>...</td>\n",
              "      <td>1</td>\n",
              "      <td>2</td>\n",
              "      <td>1</td>\n",
              "      <td>4</td>\n",
              "      <td>19</td>\n",
              "      <td>2015</td>\n",
              "      <td>Apr</td>\n",
              "      <td>10</td>\n",
              "      <td>derrota</td>\n",
              "      <td>casa</td>\n",
              "    </tr>\n",
              "    <tr>\n",
              "      <th>2</th>\n",
              "      <td>Apr 9</td>\n",
              "      <td>SA</td>\n",
              "      <td>98-102</td>\n",
              "      <td>Reg</td>\n",
              "      <td>32</td>\n",
              "      <td>3</td>\n",
              "      <td>9</td>\n",
              "      <td>33.3</td>\n",
              "      <td>0</td>\n",
              "      <td>2</td>\n",
              "      <td>...</td>\n",
              "      <td>0</td>\n",
              "      <td>1</td>\n",
              "      <td>1</td>\n",
              "      <td>2</td>\n",
              "      <td>8</td>\n",
              "      <td>2015</td>\n",
              "      <td>Apr</td>\n",
              "      <td>9</td>\n",
              "      <td>vitoria</td>\n",
              "      <td>casa</td>\n",
              "    </tr>\n",
              "    <tr>\n",
              "      <th>3</th>\n",
              "      <td>Apr 6</td>\n",
              "      <td>OKC</td>\n",
              "      <td>124-102</td>\n",
              "      <td>Reg</td>\n",
              "      <td>19</td>\n",
              "      <td>3</td>\n",
              "      <td>5</td>\n",
              "      <td>60.0</td>\n",
              "      <td>1</td>\n",
              "      <td>3</td>\n",
              "      <td>...</td>\n",
              "      <td>0</td>\n",
              "      <td>0</td>\n",
              "      <td>2</td>\n",
              "      <td>2</td>\n",
              "      <td>7</td>\n",
              "      <td>2015</td>\n",
              "      <td>Apr</td>\n",
              "      <td>6</td>\n",
              "      <td>derrota</td>\n",
              "      <td>casa</td>\n",
              "    </tr>\n",
              "    <tr>\n",
              "      <th>4</th>\n",
              "      <td>Apr 3</td>\n",
              "      <td>SAC</td>\n",
              "      <td>115-106</td>\n",
              "      <td>Reg</td>\n",
              "      <td>32</td>\n",
              "      <td>2</td>\n",
              "      <td>6</td>\n",
              "      <td>33.3</td>\n",
              "      <td>0</td>\n",
              "      <td>1</td>\n",
              "      <td>...</td>\n",
              "      <td>0</td>\n",
              "      <td>1</td>\n",
              "      <td>2</td>\n",
              "      <td>2</td>\n",
              "      <td>6</td>\n",
              "      <td>2015</td>\n",
              "      <td>Apr</td>\n",
              "      <td>3</td>\n",
              "      <td>derrota</td>\n",
              "      <td>casa</td>\n",
              "    </tr>\n",
              "    <tr>\n",
              "      <th>...</th>\n",
              "      <td>...</td>\n",
              "      <td>...</td>\n",
              "      <td>...</td>\n",
              "      <td>...</td>\n",
              "      <td>...</td>\n",
              "      <td>...</td>\n",
              "      <td>...</td>\n",
              "      <td>...</td>\n",
              "      <td>...</td>\n",
              "      <td>...</td>\n",
              "      <td>...</td>\n",
              "      <td>...</td>\n",
              "      <td>...</td>\n",
              "      <td>...</td>\n",
              "      <td>...</td>\n",
              "      <td>...</td>\n",
              "      <td>...</td>\n",
              "      <td>...</td>\n",
              "      <td>...</td>\n",
              "      <td>...</td>\n",
              "      <td>...</td>\n",
              "    </tr>\n",
              "    <tr>\n",
              "      <th>615</th>\n",
              "      <td>Nov 2</td>\n",
              "      <td>MIN</td>\n",
              "      <td>89-110</td>\n",
              "      <td>Reg</td>\n",
              "      <td>29</td>\n",
              "      <td>11</td>\n",
              "      <td>23</td>\n",
              "      <td>47.8</td>\n",
              "      <td>1</td>\n",
              "      <td>6</td>\n",
              "      <td>...</td>\n",
              "      <td>5</td>\n",
              "      <td>0</td>\n",
              "      <td>0</td>\n",
              "      <td>0</td>\n",
              "      <td>25</td>\n",
              "      <td>2023</td>\n",
              "      <td>Nov</td>\n",
              "      <td>2</td>\n",
              "      <td>derrota</td>\n",
              "      <td>fora</td>\n",
              "    </tr>\n",
              "    <tr>\n",
              "      <th>616</th>\n",
              "      <td>Oct 31</td>\n",
              "      <td>UTA</td>\n",
              "      <td>102-110</td>\n",
              "      <td>Reg</td>\n",
              "      <td>35</td>\n",
              "      <td>12</td>\n",
              "      <td>16</td>\n",
              "      <td>75.0</td>\n",
              "      <td>1</td>\n",
              "      <td>3</td>\n",
              "      <td>...</td>\n",
              "      <td>1</td>\n",
              "      <td>0</td>\n",
              "      <td>2</td>\n",
              "      <td>3</td>\n",
              "      <td>27</td>\n",
              "      <td>2023</td>\n",
              "      <td>Oct</td>\n",
              "      <td>31</td>\n",
              "      <td>vitoria</td>\n",
              "      <td>casa</td>\n",
              "    </tr>\n",
              "    <tr>\n",
              "      <th>617</th>\n",
              "      <td>Oct 29</td>\n",
              "      <td>OKC</td>\n",
              "      <td>128-95</td>\n",
              "      <td>Reg</td>\n",
              "      <td>29</td>\n",
              "      <td>12</td>\n",
              "      <td>16</td>\n",
              "      <td>75.0</td>\n",
              "      <td>1</td>\n",
              "      <td>2</td>\n",
              "      <td>...</td>\n",
              "      <td>4</td>\n",
              "      <td>0</td>\n",
              "      <td>0</td>\n",
              "      <td>3</td>\n",
              "      <td>28</td>\n",
              "      <td>2023</td>\n",
              "      <td>Oct</td>\n",
              "      <td>29</td>\n",
              "      <td>vitoria</td>\n",
              "      <td>fora</td>\n",
              "    </tr>\n",
              "    <tr>\n",
              "      <th>618</th>\n",
              "      <td>Oct 27</td>\n",
              "      <td>MEM</td>\n",
              "      <td>108-104</td>\n",
              "      <td>Reg</td>\n",
              "      <td>34</td>\n",
              "      <td>8</td>\n",
              "      <td>14</td>\n",
              "      <td>57.1</td>\n",
              "      <td>1</td>\n",
              "      <td>4</td>\n",
              "      <td>...</td>\n",
              "      <td>9</td>\n",
              "      <td>1</td>\n",
              "      <td>1</td>\n",
              "      <td>1</td>\n",
              "      <td>22</td>\n",
              "      <td>2023</td>\n",
              "      <td>Oct</td>\n",
              "      <td>27</td>\n",
              "      <td>vitoria</td>\n",
              "      <td>fora</td>\n",
              "    </tr>\n",
              "    <tr>\n",
              "      <th>619</th>\n",
              "      <td>Oct 24</td>\n",
              "      <td>LAL</td>\n",
              "      <td>107-119</td>\n",
              "      <td>Reg</td>\n",
              "      <td>36</td>\n",
              "      <td>12</td>\n",
              "      <td>22</td>\n",
              "      <td>54.5</td>\n",
              "      <td>3</td>\n",
              "      <td>5</td>\n",
              "      <td>...</td>\n",
              "      <td>2</td>\n",
              "      <td>1</td>\n",
              "      <td>1</td>\n",
              "      <td>2</td>\n",
              "      <td>29</td>\n",
              "      <td>2023</td>\n",
              "      <td>Oct</td>\n",
              "      <td>24</td>\n",
              "      <td>vitoria</td>\n",
              "      <td>casa</td>\n",
              "    </tr>\n",
              "  </tbody>\n",
              "</table>\n",
              "<p>620 rows × 28 columns</p>\n",
              "</div>\n",
              "    <div class=\"colab-df-buttons\">\n",
              "\n",
              "  <div class=\"colab-df-container\">\n",
              "    <button class=\"colab-df-convert\" onclick=\"convertToInteractive('df-31d96bbb-d3be-48b9-9979-16029c28cfdf')\"\n",
              "            title=\"Convert this dataframe to an interactive table.\"\n",
              "            style=\"display:none;\">\n",
              "\n",
              "  <svg xmlns=\"http://www.w3.org/2000/svg\" height=\"24px\" viewBox=\"0 -960 960 960\">\n",
              "    <path d=\"M120-120v-720h720v720H120Zm60-500h600v-160H180v160Zm220 220h160v-160H400v160Zm0 220h160v-160H400v160ZM180-400h160v-160H180v160Zm440 0h160v-160H620v160ZM180-180h160v-160H180v160Zm440 0h160v-160H620v160Z\"/>\n",
              "  </svg>\n",
              "    </button>\n",
              "\n",
              "  <style>\n",
              "    .colab-df-container {\n",
              "      display:flex;\n",
              "      gap: 12px;\n",
              "    }\n",
              "\n",
              "    .colab-df-convert {\n",
              "      background-color: #E8F0FE;\n",
              "      border: none;\n",
              "      border-radius: 50%;\n",
              "      cursor: pointer;\n",
              "      display: none;\n",
              "      fill: #1967D2;\n",
              "      height: 32px;\n",
              "      padding: 0 0 0 0;\n",
              "      width: 32px;\n",
              "    }\n",
              "\n",
              "    .colab-df-convert:hover {\n",
              "      background-color: #E2EBFA;\n",
              "      box-shadow: 0px 1px 2px rgba(60, 64, 67, 0.3), 0px 1px 3px 1px rgba(60, 64, 67, 0.15);\n",
              "      fill: #174EA6;\n",
              "    }\n",
              "\n",
              "    .colab-df-buttons div {\n",
              "      margin-bottom: 4px;\n",
              "    }\n",
              "\n",
              "    [theme=dark] .colab-df-convert {\n",
              "      background-color: #3B4455;\n",
              "      fill: #D2E3FC;\n",
              "    }\n",
              "\n",
              "    [theme=dark] .colab-df-convert:hover {\n",
              "      background-color: #434B5C;\n",
              "      box-shadow: 0px 1px 3px 1px rgba(0, 0, 0, 0.15);\n",
              "      filter: drop-shadow(0px 1px 2px rgba(0, 0, 0, 0.3));\n",
              "      fill: #FFFFFF;\n",
              "    }\n",
              "  </style>\n",
              "\n",
              "    <script>\n",
              "      const buttonEl =\n",
              "        document.querySelector('#df-31d96bbb-d3be-48b9-9979-16029c28cfdf button.colab-df-convert');\n",
              "      buttonEl.style.display =\n",
              "        google.colab.kernel.accessAllowed ? 'block' : 'none';\n",
              "\n",
              "      async function convertToInteractive(key) {\n",
              "        const element = document.querySelector('#df-31d96bbb-d3be-48b9-9979-16029c28cfdf');\n",
              "        const dataTable =\n",
              "          await google.colab.kernel.invokeFunction('convertToInteractive',\n",
              "                                                    [key], {});\n",
              "        if (!dataTable) return;\n",
              "\n",
              "        const docLinkHtml = 'Like what you see? Visit the ' +\n",
              "          '<a target=\"_blank\" href=https://colab.research.google.com/notebooks/data_table.ipynb>data table notebook</a>'\n",
              "          + ' to learn more about interactive tables.';\n",
              "        element.innerHTML = '';\n",
              "        dataTable['output_type'] = 'display_data';\n",
              "        await google.colab.output.renderOutput(dataTable, element);\n",
              "        const docLink = document.createElement('div');\n",
              "        docLink.innerHTML = docLinkHtml;\n",
              "        element.appendChild(docLink);\n",
              "      }\n",
              "    </script>\n",
              "  </div>\n",
              "\n",
              "\n",
              "<div id=\"df-c7cda6db-a075-413f-9289-301d7e0f61f7\">\n",
              "  <button class=\"colab-df-quickchart\" onclick=\"quickchart('df-c7cda6db-a075-413f-9289-301d7e0f61f7')\"\n",
              "            title=\"Suggest charts\"\n",
              "            style=\"display:none;\">\n",
              "\n",
              "<svg xmlns=\"http://www.w3.org/2000/svg\" height=\"24px\"viewBox=\"0 0 24 24\"\n",
              "     width=\"24px\">\n",
              "    <g>\n",
              "        <path d=\"M19 3H5c-1.1 0-2 .9-2 2v14c0 1.1.9 2 2 2h14c1.1 0 2-.9 2-2V5c0-1.1-.9-2-2-2zM9 17H7v-7h2v7zm4 0h-2V7h2v10zm4 0h-2v-4h2v4z\"/>\n",
              "    </g>\n",
              "</svg>\n",
              "  </button>\n",
              "\n",
              "<style>\n",
              "  .colab-df-quickchart {\n",
              "      --bg-color: #E8F0FE;\n",
              "      --fill-color: #1967D2;\n",
              "      --hover-bg-color: #E2EBFA;\n",
              "      --hover-fill-color: #174EA6;\n",
              "      --disabled-fill-color: #AAA;\n",
              "      --disabled-bg-color: #DDD;\n",
              "  }\n",
              "\n",
              "  [theme=dark] .colab-df-quickchart {\n",
              "      --bg-color: #3B4455;\n",
              "      --fill-color: #D2E3FC;\n",
              "      --hover-bg-color: #434B5C;\n",
              "      --hover-fill-color: #FFFFFF;\n",
              "      --disabled-bg-color: #3B4455;\n",
              "      --disabled-fill-color: #666;\n",
              "  }\n",
              "\n",
              "  .colab-df-quickchart {\n",
              "    background-color: var(--bg-color);\n",
              "    border: none;\n",
              "    border-radius: 50%;\n",
              "    cursor: pointer;\n",
              "    display: none;\n",
              "    fill: var(--fill-color);\n",
              "    height: 32px;\n",
              "    padding: 0;\n",
              "    width: 32px;\n",
              "  }\n",
              "\n",
              "  .colab-df-quickchart:hover {\n",
              "    background-color: var(--hover-bg-color);\n",
              "    box-shadow: 0 1px 2px rgba(60, 64, 67, 0.3), 0 1px 3px 1px rgba(60, 64, 67, 0.15);\n",
              "    fill: var(--button-hover-fill-color);\n",
              "  }\n",
              "\n",
              "  .colab-df-quickchart-complete:disabled,\n",
              "  .colab-df-quickchart-complete:disabled:hover {\n",
              "    background-color: var(--disabled-bg-color);\n",
              "    fill: var(--disabled-fill-color);\n",
              "    box-shadow: none;\n",
              "  }\n",
              "\n",
              "  .colab-df-spinner {\n",
              "    border: 2px solid var(--fill-color);\n",
              "    border-color: transparent;\n",
              "    border-bottom-color: var(--fill-color);\n",
              "    animation:\n",
              "      spin 1s steps(1) infinite;\n",
              "  }\n",
              "\n",
              "  @keyframes spin {\n",
              "    0% {\n",
              "      border-color: transparent;\n",
              "      border-bottom-color: var(--fill-color);\n",
              "      border-left-color: var(--fill-color);\n",
              "    }\n",
              "    20% {\n",
              "      border-color: transparent;\n",
              "      border-left-color: var(--fill-color);\n",
              "      border-top-color: var(--fill-color);\n",
              "    }\n",
              "    30% {\n",
              "      border-color: transparent;\n",
              "      border-left-color: var(--fill-color);\n",
              "      border-top-color: var(--fill-color);\n",
              "      border-right-color: var(--fill-color);\n",
              "    }\n",
              "    40% {\n",
              "      border-color: transparent;\n",
              "      border-right-color: var(--fill-color);\n",
              "      border-top-color: var(--fill-color);\n",
              "    }\n",
              "    60% {\n",
              "      border-color: transparent;\n",
              "      border-right-color: var(--fill-color);\n",
              "    }\n",
              "    80% {\n",
              "      border-color: transparent;\n",
              "      border-right-color: var(--fill-color);\n",
              "      border-bottom-color: var(--fill-color);\n",
              "    }\n",
              "    90% {\n",
              "      border-color: transparent;\n",
              "      border-bottom-color: var(--fill-color);\n",
              "    }\n",
              "  }\n",
              "</style>\n",
              "\n",
              "  <script>\n",
              "    async function quickchart(key) {\n",
              "      const quickchartButtonEl =\n",
              "        document.querySelector('#' + key + ' button');\n",
              "      quickchartButtonEl.disabled = true;  // To prevent multiple clicks.\n",
              "      quickchartButtonEl.classList.add('colab-df-spinner');\n",
              "      try {\n",
              "        const charts = await google.colab.kernel.invokeFunction(\n",
              "            'suggestCharts', [key], {});\n",
              "      } catch (error) {\n",
              "        console.error('Error during call to suggestCharts:', error);\n",
              "      }\n",
              "      quickchartButtonEl.classList.remove('colab-df-spinner');\n",
              "      quickchartButtonEl.classList.add('colab-df-quickchart-complete');\n",
              "    }\n",
              "    (() => {\n",
              "      let quickchartButtonEl =\n",
              "        document.querySelector('#df-c7cda6db-a075-413f-9289-301d7e0f61f7 button');\n",
              "      quickchartButtonEl.style.display =\n",
              "        google.colab.kernel.accessAllowed ? 'block' : 'none';\n",
              "    })();\n",
              "  </script>\n",
              "</div>\n",
              "\n",
              "  <div id=\"id_bce60eeb-8c33-4304-98e2-ba82ea881df8\">\n",
              "    <style>\n",
              "      .colab-df-generate {\n",
              "        background-color: #E8F0FE;\n",
              "        border: none;\n",
              "        border-radius: 50%;\n",
              "        cursor: pointer;\n",
              "        display: none;\n",
              "        fill: #1967D2;\n",
              "        height: 32px;\n",
              "        padding: 0 0 0 0;\n",
              "        width: 32px;\n",
              "      }\n",
              "\n",
              "      .colab-df-generate:hover {\n",
              "        background-color: #E2EBFA;\n",
              "        box-shadow: 0px 1px 2px rgba(60, 64, 67, 0.3), 0px 1px 3px 1px rgba(60, 64, 67, 0.15);\n",
              "        fill: #174EA6;\n",
              "      }\n",
              "\n",
              "      [theme=dark] .colab-df-generate {\n",
              "        background-color: #3B4455;\n",
              "        fill: #D2E3FC;\n",
              "      }\n",
              "\n",
              "      [theme=dark] .colab-df-generate:hover {\n",
              "        background-color: #434B5C;\n",
              "        box-shadow: 0px 1px 3px 1px rgba(0, 0, 0, 0.15);\n",
              "        filter: drop-shadow(0px 1px 2px rgba(0, 0, 0, 0.3));\n",
              "        fill: #FFFFFF;\n",
              "      }\n",
              "    </style>\n",
              "    <button class=\"colab-df-generate\" onclick=\"generateWithVariable('df_stats_jokic')\"\n",
              "            title=\"Generate code using this dataframe.\"\n",
              "            style=\"display:none;\">\n",
              "\n",
              "  <svg xmlns=\"http://www.w3.org/2000/svg\" height=\"24px\"viewBox=\"0 0 24 24\"\n",
              "       width=\"24px\">\n",
              "    <path d=\"M7,19H8.4L18.45,9,17,7.55,7,17.6ZM5,21V16.75L18.45,3.32a2,2,0,0,1,2.83,0l1.4,1.43a1.91,1.91,0,0,1,.58,1.4,1.91,1.91,0,0,1-.58,1.4L9.25,21ZM18.45,9,17,7.55Zm-12,3A5.31,5.31,0,0,0,4.9,8.1,5.31,5.31,0,0,0,1,6.5,5.31,5.31,0,0,0,4.9,4.9,5.31,5.31,0,0,0,6.5,1,5.31,5.31,0,0,0,8.1,4.9,5.31,5.31,0,0,0,12,6.5,5.46,5.46,0,0,0,6.5,12Z\"/>\n",
              "  </svg>\n",
              "    </button>\n",
              "    <script>\n",
              "      (() => {\n",
              "      const buttonEl =\n",
              "        document.querySelector('#id_bce60eeb-8c33-4304-98e2-ba82ea881df8 button.colab-df-generate');\n",
              "      buttonEl.style.display =\n",
              "        google.colab.kernel.accessAllowed ? 'block' : 'none';\n",
              "\n",
              "      buttonEl.onclick = () => {\n",
              "        google.colab.notebook.generateWithVariable('df_stats_jokic');\n",
              "      }\n",
              "      })();\n",
              "    </script>\n",
              "  </div>\n",
              "\n",
              "    </div>\n",
              "  </div>\n"
            ]
          },
          "metadata": {},
          "execution_count": 318
        }
      ]
    },
    {
      "cell_type": "code",
      "source": [
        "# Regex para separar os placares\n",
        "df_stats_jokic['placar_1'] = df_stats_jokic['placar'].str.extract(r'(\\d+)-').astype(int)\n",
        "df_stats_jokic['placar_2'] = df_stats_jokic['placar'].str.extract(r'-(\\d+)').astype(int)"
      ],
      "metadata": {
        "id": "t1d2HKiHG4WB"
      },
      "execution_count": 319,
      "outputs": []
    },
    {
      "cell_type": "code",
      "source": [
        "# Atribui o placar ao Denver e ao adversário conforme quem ganhou e perdeu\n",
        "for index, row in df_stats_jokic.iterrows():\n",
        "    if 'derrota' in df_stats_jokic.loc[index, 'resultado']:\n",
        "        if df_stats_jokic.loc[index, 'placar_1'] < df_stats_jokic.loc[index, 'placar_2']:\n",
        "            df_stats_jokic.loc[index, 'placar_denver'] = df_stats_jokic.loc[index, 'placar_1']\n",
        "            df_stats_jokic.loc[index, 'placar_adversario'] = df_stats_jokic.loc[index, 'placar_2']\n",
        "\n",
        "        else:\n",
        "            df_stats_jokic.loc[index, 'placar_denver'] = df_stats_jokic.loc[index, 'placar_2']\n",
        "            df_stats_jokic.loc[index, 'placar_adversario'] = df_stats_jokic.loc[index, 'placar_1']\n",
        "\n",
        "\n",
        "    if 'vitoria' in df_stats_jokic.loc[index, 'resultado']:\n",
        "        if df_stats_jokic.loc[index, 'placar_1'] < df_stats_jokic.loc[index, 'placar_2']:\n",
        "            df_stats_jokic.loc[index, 'placar_denver'] = df_stats_jokic.loc[index, 'placar_2']\n",
        "            df_stats_jokic.loc[index, 'placar_adversario'] = df_stats_jokic.loc[index, 'placar_1']\n",
        "\n",
        "        else:\n",
        "            df_stats_jokic.loc[index, 'placar_denver'] = df_stats_jokic.loc[index, 'placar_1']\n",
        "            df_stats_jokic.loc[index, 'placar_adversario'] = df_stats_jokic.loc[index, 'placar_2']\n",
        "\n",
        "df_stats_jokic.drop(columns=['placar', 'placar_1', 'placar_2'], inplace=True)"
      ],
      "metadata": {
        "id": "M3OjqSCuJ8po"
      },
      "execution_count": 320,
      "outputs": []
    },
    {
      "cell_type": "code",
      "source": [
        "# Substitui string '-' de colunas numéricas por 0\n",
        "for i, row in df_stats_jokic.iterrows():\n",
        "    if '-' in df_stats_jokic.loc[i, 'fg_percent']:\n",
        "        df_stats_jokic.loc[i, 'fg_percent'] = 0\n",
        "\n",
        "    if '-' in df_stats_jokic.loc[i, '3p_percent']:\n",
        "        df_stats_jokic.loc[i, '3p_percent'] = 0\n",
        "\n",
        "    if '-' in df_stats_jokic.loc[i, 'ft_percent']:\n",
        "        df_stats_jokic.loc[i, 'ft_percent'] = 0"
      ],
      "metadata": {
        "id": "M3ma4G4mEFLl"
      },
      "execution_count": 321,
      "outputs": []
    },
    {
      "cell_type": "code",
      "source": [
        "df_stats_jokic['fg_percent'] = df_stats_jokic['fg_percent'].astype(float).astype(int)\n",
        "df_stats_jokic['3p_percent'] = df_stats_jokic['3p_percent'].astype(float).astype(int)\n",
        "df_stats_jokic['ft_percent'] = df_stats_jokic['ft_percent'].astype(float).astype(int)\n",
        "df_stats_jokic['placar_denver'] = df_stats_jokic['placar_denver'].astype(int)\n",
        "df_stats_jokic['placar_adversario'] = df_stats_jokic['placar_adversario'].astype(int)"
      ],
      "metadata": {
        "id": "ug4iOHZY_w-W"
      },
      "execution_count": 322,
      "outputs": []
    },
    {
      "cell_type": "code",
      "source": [
        "df_stats_jokic[['fg_percent', '3p_percent', 'ft_percent', 'placar_denver', 'placar_adversario']].dtypes"
      ],
      "metadata": {
        "colab": {
          "base_uri": "https://localhost:8080/"
        },
        "id": "F1YUi2H3Fy9r",
        "outputId": "dd68a968-403d-4a3c-91a3-dd6d46a36728"
      },
      "execution_count": 323,
      "outputs": [
        {
          "output_type": "execute_result",
          "data": {
            "text/plain": [
              "fg_percent           int64\n",
              "3p_percent           int64\n",
              "ft_percent           int64\n",
              "placar_denver        int64\n",
              "placar_adversario    int64\n",
              "dtype: object"
            ]
          },
          "metadata": {},
          "execution_count": 323
        }
      ]
    },
    {
      "cell_type": "markdown",
      "source": [
        "## Identificando as conferências dos times"
      ],
      "metadata": {
        "id": "ONEgk7K0or_K"
      }
    },
    {
      "cell_type": "code",
      "source": [
        "df_stats_jokic['adversario'].unique()"
      ],
      "metadata": {
        "colab": {
          "base_uri": "https://localhost:8080/"
        },
        "id": "qqZMoOi1ZCae",
        "outputId": "dfeec6c0-a252-4e91-d55e-074c746eaa34"
      },
      "execution_count": 324,
      "outputs": [
        {
          "output_type": "execute_result",
          "data": {
            "text/plain": [
              "array(['POR', 'UTA', 'SA', 'OKC', 'SAC', 'NO', 'MEM', 'DAL', 'LAC', 'LAL',\n",
              "       'PHI', 'CLE', 'CHA', 'ATL', 'ORL', 'MIA', 'WAS', 'PHO', 'NY',\n",
              "       'BKN', 'BOS', 'DET', 'CHI', 'TOR', 'IND', 'GS', 'MIN', 'HOU',\n",
              "       'MIL', 'EAS'], dtype=object)"
            ]
          },
          "metadata": {},
          "execution_count": 324
        }
      ]
    },
    {
      "cell_type": "code",
      "source": [
        "conferencia_leste = ['ATL', 'BOS', 'BKN', 'CHA', 'CHI', 'CLE', 'DET', 'IND', 'MIA', 'MIL', 'NY', 'ORL', 'PHI', 'TOR', 'WSH']\n",
        "conferencia_oeste = ['DAL', 'DEN', 'GS', 'HOU', 'LAC', 'LAL', 'MEM', 'MIN', 'NO', 'OKC', 'PHX', 'POR', 'SAC', 'SA', 'UTAH']"
      ],
      "metadata": {
        "id": "m7pLr9sM9p2L"
      },
      "execution_count": 325,
      "outputs": []
    },
    {
      "cell_type": "code",
      "source": [
        "def conferencia(time):\n",
        "    \"\"\"\n",
        "    Identifica a qual liga o time pertence\n",
        "    \"\"\"\n",
        "    if time in conferencia_leste:\n",
        "        return 'leste'\n",
        "    else:\n",
        "        return 'oeste'"
      ],
      "metadata": {
        "id": "WkzanNkaKzHt"
      },
      "execution_count": 326,
      "outputs": []
    },
    {
      "cell_type": "code",
      "source": [
        "df_stats_jokic['conferencia'] = df_stats_jokic['adversario'].apply(conferencia)"
      ],
      "metadata": {
        "id": "cLpyV_siLBSE"
      },
      "execution_count": 327,
      "outputs": []
    },
    {
      "cell_type": "code",
      "source": [
        "df_stats_jokic.dtypes"
      ],
      "metadata": {
        "id": "QL6GaR_pEsGp",
        "colab": {
          "base_uri": "https://localhost:8080/"
        },
        "outputId": "4f87d3ca-b02f-425b-a47b-ce6fd7b4a71c"
      },
      "execution_count": 328,
      "outputs": [
        {
          "output_type": "execute_result",
          "data": {
            "text/plain": [
              "data                 object\n",
              "adversario           object\n",
              "tipo_temporada       object\n",
              "minutos               int64\n",
              "fgm                   int64\n",
              "fga                   int64\n",
              "fg_percent            int64\n",
              "3pm                   int64\n",
              "3pa                   int64\n",
              "3p_percent            int64\n",
              "ftm                   int64\n",
              "fta                   int64\n",
              "ft_percent            int64\n",
              "rebote_ataque         int64\n",
              "rebote_defesa         int64\n",
              "rebotes               int64\n",
              "assistencias          int64\n",
              "turnover              int64\n",
              "roubos                int64\n",
              "bloqueios             int64\n",
              "faltas                int64\n",
              "pontos                int64\n",
              "temporada             int64\n",
              "mes                  object\n",
              "dia                   int64\n",
              "resultado            object\n",
              "local_jogo           object\n",
              "placar_denver         int64\n",
              "placar_adversario     int64\n",
              "conferencia          object\n",
              "dtype: object"
            ]
          },
          "metadata": {},
          "execution_count": 328
        }
      ]
    },
    {
      "cell_type": "markdown",
      "source": [
        "## Salva dataset ajustado"
      ],
      "metadata": {
        "id": "sEQOvJlN80B1"
      }
    },
    {
      "cell_type": "code",
      "source": [
        "# df_stats_jokic.to_csv('/content/drive/MyDrive/NBA Analysis/novo_nba_stats_jokic_ajustado.csv',\n",
        "#                       encoding='utf-8',\n",
        "#                       sep=',',\n",
        "#                       index=False)"
      ],
      "metadata": {
        "id": "Mbkjujzt4Z3Q"
      },
      "execution_count": 329,
      "outputs": []
    },
    {
      "cell_type": "markdown",
      "source": [
        "# Dataset from csv"
      ],
      "metadata": {
        "id": "ok3z0a8ywBLh"
      }
    },
    {
      "cell_type": "code",
      "source": [
        "df_stats_jokic = pd.read_csv('/content/drive/MyDrive/NBA Analysis/novo_nba_stats_jokic_ajustado.csv',\n",
        "                             encoding='utf-8',\n",
        "                             sep=',')"
      ],
      "metadata": {
        "id": "kJVdIG88wBLi"
      },
      "execution_count": 330,
      "outputs": []
    },
    {
      "cell_type": "markdown",
      "source": [
        "# Análise gráfica"
      ],
      "metadata": {
        "id": "P5mJg8Yzm87s"
      }
    },
    {
      "cell_type": "markdown",
      "source": [
        "## %stats"
      ],
      "metadata": {
        "id": "2eGwinFgsULO"
      }
    },
    {
      "cell_type": "code",
      "source": [
        "media_porcent_temporadas = df_stats_jokic[['temporada', 'fg_percent', 'ft_percent', '3p_percent']].groupby('temporada').mean()"
      ],
      "metadata": {
        "id": "uu2SDMo0q5YW"
      },
      "execution_count": 331,
      "outputs": []
    },
    {
      "cell_type": "code",
      "source": [
        "fig = px.line(media_porcent_temporadas,\n",
        "              x=media_porcent_temporadas.index,\n",
        "              y=['fg_percent', 'ft_percent', '3p_percent'],\n",
        "              labels={'variable': ''})\n",
        "\n",
        "fig.update_layout(height=400,\n",
        "                  width=1000,\n",
        "                  showlegend=True,\n",
        "                  title='Jokic %stats',\n",
        "                  margin=dict(l=50,\n",
        "                              r=50,\n",
        "                              b=50,\n",
        "                              t=50))\n",
        "\n",
        "fig.update_xaxes(title_text=None)\n",
        "fig.update_yaxes(title_text=None)\n",
        "fig.show()"
      ],
      "metadata": {
        "id": "o3EFdWOQm_6Q",
        "colab": {
          "base_uri": "https://localhost:8080/",
          "height": 417
        },
        "outputId": "e459e0b1-3bae-4df9-e075-df7a1f076963"
      },
      "execution_count": 332,
      "outputs": [
        {
          "output_type": "display_data",
          "data": {
            "text/html": [
              "<html>\n",
              "<head><meta charset=\"utf-8\" /></head>\n",
              "<body>\n",
              "    <div>            <script src=\"https://cdnjs.cloudflare.com/ajax/libs/mathjax/2.7.5/MathJax.js?config=TeX-AMS-MML_SVG\"></script><script type=\"text/javascript\">if (window.MathJax && window.MathJax.Hub && window.MathJax.Hub.Config) {window.MathJax.Hub.Config({SVG: {font: \"STIX-Web\"}});}</script>                <script type=\"text/javascript\">window.PlotlyConfig = {MathJaxConfig: 'local'};</script>\n",
              "        <script charset=\"utf-8\" src=\"https://cdn.plot.ly/plotly-2.24.1.min.js\"></script>                <div id=\"393f10e0-2fbd-4987-98fc-fe6ef6f375e0\" class=\"plotly-graph-div\" style=\"height:400px; width:1000px;\"></div>            <script type=\"text/javascript\">                                    window.PLOTLYENV=window.PLOTLYENV || {};                                    if (document.getElementById(\"393f10e0-2fbd-4987-98fc-fe6ef6f375e0\")) {                    Plotly.newPlot(                        \"393f10e0-2fbd-4987-98fc-fe6ef6f375e0\",                        [{\"hovertemplate\":\"=fg_percent\\u003cbr\\u003etemporada=%{x}\\u003cbr\\u003evalue=%{y}\\u003cextra\\u003e\\u003c\\u002fextra\\u003e\",\"legendgroup\":\"fg_percent\",\"line\":{\"color\":\"#636efa\",\"dash\":\"solid\"},\"marker\":{\"symbol\":\"circle\"},\"mode\":\"lines\",\"name\":\"fg_percent\",\"orientation\":\"v\",\"showlegend\":true,\"x\":[2015,2016,2017,2018,2019,2020,2021,2022,2023],\"xaxis\":\"x\",\"y\":[50.1125,57.863013698630134,48.68,50.025,53.534246575342465,57.236111111111114,59.5,64.08571428571429,55.78260869565217],\"yaxis\":\"y\",\"type\":\"scatter\"},{\"hovertemplate\":\"=ft_percent\\u003cbr\\u003etemporada=%{x}\\u003cbr\\u003evalue=%{y}\\u003cextra\\u003e\\u003c\\u002fextra\\u003e\",\"legendgroup\":\"ft_percent\",\"line\":{\"color\":\"#EF553B\",\"dash\":\"solid\"},\"marker\":{\"symbol\":\"circle\"},\"mode\":\"lines\",\"name\":\"ft_percent\",\"orientation\":\"v\",\"showlegend\":true,\"x\":[2015,2016,2017,2018,2019,2020,2021,2022,2023],\"xaxis\":\"x\",\"y\":[51.6125,62.41095890410959,71.33333333333333,75.4,70.06849315068493,79.61111111111111,80.51351351351352,76.25714285714285,74.34782608695652],\"yaxis\":\"y\",\"type\":\"scatter\"},{\"hovertemplate\":\"=3p_percent\\u003cbr\\u003etemporada=%{x}\\u003cbr\\u003evalue=%{y}\\u003cextra\\u003e\\u003c\\u002fextra\\u003e\",\"legendgroup\":\"3p_percent\",\"line\":{\"color\":\"#00cc96\",\"dash\":\"solid\"},\"marker\":{\"symbol\":\"circle\"},\"mode\":\"lines\",\"name\":\"3p_percent\",\"orientation\":\"v\",\"showlegend\":true,\"x\":[2015,2016,2017,2018,2019,2020,2021,2022,2023],\"xaxis\":\"x\",\"y\":[21.9625,25.493150684931507,40.64,29.125,25.65753424657534,34.625,32.67567567567568,28.485714285714284,34.78260869565217],\"yaxis\":\"y\",\"type\":\"scatter\"}],                        {\"template\":{\"data\":{\"histogram2dcontour\":[{\"type\":\"histogram2dcontour\",\"colorbar\":{\"outlinewidth\":0,\"ticks\":\"\"},\"colorscale\":[[0.0,\"#0d0887\"],[0.1111111111111111,\"#46039f\"],[0.2222222222222222,\"#7201a8\"],[0.3333333333333333,\"#9c179e\"],[0.4444444444444444,\"#bd3786\"],[0.5555555555555556,\"#d8576b\"],[0.6666666666666666,\"#ed7953\"],[0.7777777777777778,\"#fb9f3a\"],[0.8888888888888888,\"#fdca26\"],[1.0,\"#f0f921\"]]}],\"choropleth\":[{\"type\":\"choropleth\",\"colorbar\":{\"outlinewidth\":0,\"ticks\":\"\"}}],\"histogram2d\":[{\"type\":\"histogram2d\",\"colorbar\":{\"outlinewidth\":0,\"ticks\":\"\"},\"colorscale\":[[0.0,\"#0d0887\"],[0.1111111111111111,\"#46039f\"],[0.2222222222222222,\"#7201a8\"],[0.3333333333333333,\"#9c179e\"],[0.4444444444444444,\"#bd3786\"],[0.5555555555555556,\"#d8576b\"],[0.6666666666666666,\"#ed7953\"],[0.7777777777777778,\"#fb9f3a\"],[0.8888888888888888,\"#fdca26\"],[1.0,\"#f0f921\"]]}],\"heatmap\":[{\"type\":\"heatmap\",\"colorbar\":{\"outlinewidth\":0,\"ticks\":\"\"},\"colorscale\":[[0.0,\"#0d0887\"],[0.1111111111111111,\"#46039f\"],[0.2222222222222222,\"#7201a8\"],[0.3333333333333333,\"#9c179e\"],[0.4444444444444444,\"#bd3786\"],[0.5555555555555556,\"#d8576b\"],[0.6666666666666666,\"#ed7953\"],[0.7777777777777778,\"#fb9f3a\"],[0.8888888888888888,\"#fdca26\"],[1.0,\"#f0f921\"]]}],\"heatmapgl\":[{\"type\":\"heatmapgl\",\"colorbar\":{\"outlinewidth\":0,\"ticks\":\"\"},\"colorscale\":[[0.0,\"#0d0887\"],[0.1111111111111111,\"#46039f\"],[0.2222222222222222,\"#7201a8\"],[0.3333333333333333,\"#9c179e\"],[0.4444444444444444,\"#bd3786\"],[0.5555555555555556,\"#d8576b\"],[0.6666666666666666,\"#ed7953\"],[0.7777777777777778,\"#fb9f3a\"],[0.8888888888888888,\"#fdca26\"],[1.0,\"#f0f921\"]]}],\"contourcarpet\":[{\"type\":\"contourcarpet\",\"colorbar\":{\"outlinewidth\":0,\"ticks\":\"\"}}],\"contour\":[{\"type\":\"contour\",\"colorbar\":{\"outlinewidth\":0,\"ticks\":\"\"},\"colorscale\":[[0.0,\"#0d0887\"],[0.1111111111111111,\"#46039f\"],[0.2222222222222222,\"#7201a8\"],[0.3333333333333333,\"#9c179e\"],[0.4444444444444444,\"#bd3786\"],[0.5555555555555556,\"#d8576b\"],[0.6666666666666666,\"#ed7953\"],[0.7777777777777778,\"#fb9f3a\"],[0.8888888888888888,\"#fdca26\"],[1.0,\"#f0f921\"]]}],\"surface\":[{\"type\":\"surface\",\"colorbar\":{\"outlinewidth\":0,\"ticks\":\"\"},\"colorscale\":[[0.0,\"#0d0887\"],[0.1111111111111111,\"#46039f\"],[0.2222222222222222,\"#7201a8\"],[0.3333333333333333,\"#9c179e\"],[0.4444444444444444,\"#bd3786\"],[0.5555555555555556,\"#d8576b\"],[0.6666666666666666,\"#ed7953\"],[0.7777777777777778,\"#fb9f3a\"],[0.8888888888888888,\"#fdca26\"],[1.0,\"#f0f921\"]]}],\"mesh3d\":[{\"type\":\"mesh3d\",\"colorbar\":{\"outlinewidth\":0,\"ticks\":\"\"}}],\"scatter\":[{\"fillpattern\":{\"fillmode\":\"overlay\",\"size\":10,\"solidity\":0.2},\"type\":\"scatter\"}],\"parcoords\":[{\"type\":\"parcoords\",\"line\":{\"colorbar\":{\"outlinewidth\":0,\"ticks\":\"\"}}}],\"scatterpolargl\":[{\"type\":\"scatterpolargl\",\"marker\":{\"colorbar\":{\"outlinewidth\":0,\"ticks\":\"\"}}}],\"bar\":[{\"error_x\":{\"color\":\"#2a3f5f\"},\"error_y\":{\"color\":\"#2a3f5f\"},\"marker\":{\"line\":{\"color\":\"#E5ECF6\",\"width\":0.5},\"pattern\":{\"fillmode\":\"overlay\",\"size\":10,\"solidity\":0.2}},\"type\":\"bar\"}],\"scattergeo\":[{\"type\":\"scattergeo\",\"marker\":{\"colorbar\":{\"outlinewidth\":0,\"ticks\":\"\"}}}],\"scatterpolar\":[{\"type\":\"scatterpolar\",\"marker\":{\"colorbar\":{\"outlinewidth\":0,\"ticks\":\"\"}}}],\"histogram\":[{\"marker\":{\"pattern\":{\"fillmode\":\"overlay\",\"size\":10,\"solidity\":0.2}},\"type\":\"histogram\"}],\"scattergl\":[{\"type\":\"scattergl\",\"marker\":{\"colorbar\":{\"outlinewidth\":0,\"ticks\":\"\"}}}],\"scatter3d\":[{\"type\":\"scatter3d\",\"line\":{\"colorbar\":{\"outlinewidth\":0,\"ticks\":\"\"}},\"marker\":{\"colorbar\":{\"outlinewidth\":0,\"ticks\":\"\"}}}],\"scattermapbox\":[{\"type\":\"scattermapbox\",\"marker\":{\"colorbar\":{\"outlinewidth\":0,\"ticks\":\"\"}}}],\"scatterternary\":[{\"type\":\"scatterternary\",\"marker\":{\"colorbar\":{\"outlinewidth\":0,\"ticks\":\"\"}}}],\"scattercarpet\":[{\"type\":\"scattercarpet\",\"marker\":{\"colorbar\":{\"outlinewidth\":0,\"ticks\":\"\"}}}],\"carpet\":[{\"aaxis\":{\"endlinecolor\":\"#2a3f5f\",\"gridcolor\":\"white\",\"linecolor\":\"white\",\"minorgridcolor\":\"white\",\"startlinecolor\":\"#2a3f5f\"},\"baxis\":{\"endlinecolor\":\"#2a3f5f\",\"gridcolor\":\"white\",\"linecolor\":\"white\",\"minorgridcolor\":\"white\",\"startlinecolor\":\"#2a3f5f\"},\"type\":\"carpet\"}],\"table\":[{\"cells\":{\"fill\":{\"color\":\"#EBF0F8\"},\"line\":{\"color\":\"white\"}},\"header\":{\"fill\":{\"color\":\"#C8D4E3\"},\"line\":{\"color\":\"white\"}},\"type\":\"table\"}],\"barpolar\":[{\"marker\":{\"line\":{\"color\":\"#E5ECF6\",\"width\":0.5},\"pattern\":{\"fillmode\":\"overlay\",\"size\":10,\"solidity\":0.2}},\"type\":\"barpolar\"}],\"pie\":[{\"automargin\":true,\"type\":\"pie\"}]},\"layout\":{\"autotypenumbers\":\"strict\",\"colorway\":[\"#636efa\",\"#EF553B\",\"#00cc96\",\"#ab63fa\",\"#FFA15A\",\"#19d3f3\",\"#FF6692\",\"#B6E880\",\"#FF97FF\",\"#FECB52\"],\"font\":{\"color\":\"#2a3f5f\"},\"hovermode\":\"closest\",\"hoverlabel\":{\"align\":\"left\"},\"paper_bgcolor\":\"white\",\"plot_bgcolor\":\"#E5ECF6\",\"polar\":{\"bgcolor\":\"#E5ECF6\",\"angularaxis\":{\"gridcolor\":\"white\",\"linecolor\":\"white\",\"ticks\":\"\"},\"radialaxis\":{\"gridcolor\":\"white\",\"linecolor\":\"white\",\"ticks\":\"\"}},\"ternary\":{\"bgcolor\":\"#E5ECF6\",\"aaxis\":{\"gridcolor\":\"white\",\"linecolor\":\"white\",\"ticks\":\"\"},\"baxis\":{\"gridcolor\":\"white\",\"linecolor\":\"white\",\"ticks\":\"\"},\"caxis\":{\"gridcolor\":\"white\",\"linecolor\":\"white\",\"ticks\":\"\"}},\"coloraxis\":{\"colorbar\":{\"outlinewidth\":0,\"ticks\":\"\"}},\"colorscale\":{\"sequential\":[[0.0,\"#0d0887\"],[0.1111111111111111,\"#46039f\"],[0.2222222222222222,\"#7201a8\"],[0.3333333333333333,\"#9c179e\"],[0.4444444444444444,\"#bd3786\"],[0.5555555555555556,\"#d8576b\"],[0.6666666666666666,\"#ed7953\"],[0.7777777777777778,\"#fb9f3a\"],[0.8888888888888888,\"#fdca26\"],[1.0,\"#f0f921\"]],\"sequentialminus\":[[0.0,\"#0d0887\"],[0.1111111111111111,\"#46039f\"],[0.2222222222222222,\"#7201a8\"],[0.3333333333333333,\"#9c179e\"],[0.4444444444444444,\"#bd3786\"],[0.5555555555555556,\"#d8576b\"],[0.6666666666666666,\"#ed7953\"],[0.7777777777777778,\"#fb9f3a\"],[0.8888888888888888,\"#fdca26\"],[1.0,\"#f0f921\"]],\"diverging\":[[0,\"#8e0152\"],[0.1,\"#c51b7d\"],[0.2,\"#de77ae\"],[0.3,\"#f1b6da\"],[0.4,\"#fde0ef\"],[0.5,\"#f7f7f7\"],[0.6,\"#e6f5d0\"],[0.7,\"#b8e186\"],[0.8,\"#7fbc41\"],[0.9,\"#4d9221\"],[1,\"#276419\"]]},\"xaxis\":{\"gridcolor\":\"white\",\"linecolor\":\"white\",\"ticks\":\"\",\"title\":{\"standoff\":15},\"zerolinecolor\":\"white\",\"automargin\":true,\"zerolinewidth\":2},\"yaxis\":{\"gridcolor\":\"white\",\"linecolor\":\"white\",\"ticks\":\"\",\"title\":{\"standoff\":15},\"zerolinecolor\":\"white\",\"automargin\":true,\"zerolinewidth\":2},\"scene\":{\"xaxis\":{\"backgroundcolor\":\"#E5ECF6\",\"gridcolor\":\"white\",\"linecolor\":\"white\",\"showbackground\":true,\"ticks\":\"\",\"zerolinecolor\":\"white\",\"gridwidth\":2},\"yaxis\":{\"backgroundcolor\":\"#E5ECF6\",\"gridcolor\":\"white\",\"linecolor\":\"white\",\"showbackground\":true,\"ticks\":\"\",\"zerolinecolor\":\"white\",\"gridwidth\":2},\"zaxis\":{\"backgroundcolor\":\"#E5ECF6\",\"gridcolor\":\"white\",\"linecolor\":\"white\",\"showbackground\":true,\"ticks\":\"\",\"zerolinecolor\":\"white\",\"gridwidth\":2}},\"shapedefaults\":{\"line\":{\"color\":\"#2a3f5f\"}},\"annotationdefaults\":{\"arrowcolor\":\"#2a3f5f\",\"arrowhead\":0,\"arrowwidth\":1},\"geo\":{\"bgcolor\":\"white\",\"landcolor\":\"#E5ECF6\",\"subunitcolor\":\"white\",\"showland\":true,\"showlakes\":true,\"lakecolor\":\"white\"},\"title\":{\"x\":0.05},\"mapbox\":{\"style\":\"light\"}}},\"xaxis\":{\"anchor\":\"y\",\"domain\":[0.0,1.0],\"title\":{}},\"yaxis\":{\"anchor\":\"x\",\"domain\":[0.0,1.0],\"title\":{}},\"legend\":{\"title\":{\"text\":\"\"},\"tracegroupgap\":0},\"margin\":{\"t\":50,\"l\":50,\"r\":50,\"b\":50},\"height\":400,\"width\":1000,\"showlegend\":true,\"title\":{\"text\":\"Jokic %stats\"}},                        {\"responsive\": true}                    ).then(function(){\n",
              "                            \n",
              "var gd = document.getElementById('393f10e0-2fbd-4987-98fc-fe6ef6f375e0');\n",
              "var x = new MutationObserver(function (mutations, observer) {{\n",
              "        var display = window.getComputedStyle(gd).display;\n",
              "        if (!display || display === 'none') {{\n",
              "            console.log([gd, 'removed!']);\n",
              "            Plotly.purge(gd);\n",
              "            observer.disconnect();\n",
              "        }}\n",
              "}});\n",
              "\n",
              "// Listen for the removal of the full notebook cells\n",
              "var notebookContainer = gd.closest('#notebook-container');\n",
              "if (notebookContainer) {{\n",
              "    x.observe(notebookContainer, {childList: true});\n",
              "}}\n",
              "\n",
              "// Listen for the clearing of the current output cell\n",
              "var outputEl = gd.closest('.output');\n",
              "if (outputEl) {{\n",
              "    x.observe(outputEl, {childList: true});\n",
              "}}\n",
              "\n",
              "                        })                };                            </script>        </div>\n",
              "</body>\n",
              "</html>"
            ]
          },
          "metadata": {}
        }
      ]
    },
    {
      "cell_type": "markdown",
      "source": [
        "## Pontos"
      ],
      "metadata": {
        "id": "3Q_EE3uvsXfu"
      }
    },
    {
      "cell_type": "code",
      "source": [
        "media_pontos_temporadas_por_tipo = df_stats_jokic[['temporada', 'fgm', 'ftm', '3pm']].groupby('temporada').mean()\n",
        "media_pontos_temporadas = df_stats_jokic[['temporada', 'pontos']].groupby('temporada').mean()"
      ],
      "metadata": {
        "id": "L4y9DyFAsXfu"
      },
      "execution_count": 333,
      "outputs": []
    },
    {
      "cell_type": "code",
      "source": [
        "fig = make_subplots(shared_xaxes=True)\n",
        "\n",
        "fig.add_trace(go.Scatter(x=media_pontos_temporadas_por_tipo.index,\n",
        "                         y=media_pontos_temporadas_por_tipo['fgm'],\n",
        "                         mode='lines',\n",
        "                         line=dict(color='#845EC2'),\n",
        "                         name='FG'))\n",
        "\n",
        "fig.add_trace(go.Scatter(x=media_pontos_temporadas_por_tipo.index,\n",
        "                         y=media_pontos_temporadas_por_tipo['ftm'],\n",
        "                         mode='lines',\n",
        "                         line=dict(color='#008BC9'),\n",
        "                         name='FT'))\n",
        "\n",
        "fig.add_trace(go.Scatter(x=media_pontos_temporadas_por_tipo.index,\n",
        "                         y=media_pontos_temporadas_por_tipo['3pm'],\n",
        "                         mode='lines',\n",
        "                         line=dict(color='#FF8066'),\n",
        "                         name='3PT'))\n",
        "\n",
        "fig.add_trace(go.Scatter(x=media_pontos_temporadas.index,\n",
        "                         y=media_pontos_temporadas['pontos'],\n",
        "                         mode='lines',\n",
        "                         line=dict(color='#936C00'),\n",
        "                         name='Média geral'))\n",
        "\n",
        "fig.update_layout(height=400,\n",
        "                  width=1000,\n",
        "                  showlegend=True,\n",
        "                  title='Jokic - média de pontos nas temporadas',\n",
        "                  margin=dict(l=50,\n",
        "                              r=50,\n",
        "                              b=50,\n",
        "                              t=50))\n",
        "\n",
        "fig.update_xaxes(title_text=None)\n",
        "\n",
        "fig.update_yaxes(title_text=None)\n",
        "\n",
        "fig.show()"
      ],
      "metadata": {
        "id": "abMfE_DzwPfL",
        "colab": {
          "base_uri": "https://localhost:8080/",
          "height": 417
        },
        "outputId": "c9426e30-c1cd-42a5-b963-a66b78d8c7aa"
      },
      "execution_count": 334,
      "outputs": [
        {
          "output_type": "display_data",
          "data": {
            "text/html": [
              "<html>\n",
              "<head><meta charset=\"utf-8\" /></head>\n",
              "<body>\n",
              "    <div>            <script src=\"https://cdnjs.cloudflare.com/ajax/libs/mathjax/2.7.5/MathJax.js?config=TeX-AMS-MML_SVG\"></script><script type=\"text/javascript\">if (window.MathJax && window.MathJax.Hub && window.MathJax.Hub.Config) {window.MathJax.Hub.Config({SVG: {font: \"STIX-Web\"}});}</script>                <script type=\"text/javascript\">window.PlotlyConfig = {MathJaxConfig: 'local'};</script>\n",
              "        <script charset=\"utf-8\" src=\"https://cdn.plot.ly/plotly-2.24.1.min.js\"></script>                <div id=\"0b70514a-7390-41ff-958d-b7c5fe4d0228\" class=\"plotly-graph-div\" style=\"height:400px; width:1000px;\"></div>            <script type=\"text/javascript\">                                    window.PLOTLYENV=window.PLOTLYENV || {};                                    if (document.getElementById(\"0b70514a-7390-41ff-958d-b7c5fe4d0228\")) {                    Plotly.newPlot(                        \"0b70514a-7390-41ff-958d-b7c5fe4d0228\",                        [{\"line\":{\"color\":\"#845EC2\"},\"mode\":\"lines\",\"name\":\"FG\",\"x\":[2015,2016,2017,2018,2019,2020,2021,2022,2023],\"y\":[3.8375,6.767123287671233,6.72,7.7,7.739726027397261,10.166666666666666,10.324324324324325,9.257142857142858,11.043478260869565],\"type\":\"scatter\"},{\"line\":{\"color\":\"#008BC9\"},\"mode\":\"lines\",\"name\":\"FT\",\"x\":[2015,2016,2017,2018,2019,2020,2021,2022,2023],\"y\":[1.925,2.5753424657534247,3.546666666666667,3.6125,3.3698630136986303,4.75,5.121621621621622,4.871428571428571,4.869565217391305],\"type\":\"scatter\"},{\"line\":{\"color\":\"#FF8066\"},\"mode\":\"lines\",\"name\":\"3PT\",\"x\":[2015,2016,2017,2018,2019,2020,2021,2022,2023],\"y\":[0.35,0.6164383561643836,1.48,1.0375,1.095890410958904,1.2777777777777777,1.3108108108108107,0.8142857142857143,1.2608695652173914],\"type\":\"scatter\"},{\"line\":{\"color\":\"#936C00\"},\"mode\":\"lines\",\"name\":\"M\\u00e9dia geral\",\"x\":[2015,2016,2017,2018,2019,2020,2021,2022,2023],\"y\":[9.95,16.726027397260275,18.466666666666665,20.05,19.945205479452056,26.36111111111111,27.08108108108108,24.2,28.217391304347824],\"type\":\"scatter\"}],                        {\"template\":{\"data\":{\"histogram2dcontour\":[{\"type\":\"histogram2dcontour\",\"colorbar\":{\"outlinewidth\":0,\"ticks\":\"\"},\"colorscale\":[[0.0,\"#0d0887\"],[0.1111111111111111,\"#46039f\"],[0.2222222222222222,\"#7201a8\"],[0.3333333333333333,\"#9c179e\"],[0.4444444444444444,\"#bd3786\"],[0.5555555555555556,\"#d8576b\"],[0.6666666666666666,\"#ed7953\"],[0.7777777777777778,\"#fb9f3a\"],[0.8888888888888888,\"#fdca26\"],[1.0,\"#f0f921\"]]}],\"choropleth\":[{\"type\":\"choropleth\",\"colorbar\":{\"outlinewidth\":0,\"ticks\":\"\"}}],\"histogram2d\":[{\"type\":\"histogram2d\",\"colorbar\":{\"outlinewidth\":0,\"ticks\":\"\"},\"colorscale\":[[0.0,\"#0d0887\"],[0.1111111111111111,\"#46039f\"],[0.2222222222222222,\"#7201a8\"],[0.3333333333333333,\"#9c179e\"],[0.4444444444444444,\"#bd3786\"],[0.5555555555555556,\"#d8576b\"],[0.6666666666666666,\"#ed7953\"],[0.7777777777777778,\"#fb9f3a\"],[0.8888888888888888,\"#fdca26\"],[1.0,\"#f0f921\"]]}],\"heatmap\":[{\"type\":\"heatmap\",\"colorbar\":{\"outlinewidth\":0,\"ticks\":\"\"},\"colorscale\":[[0.0,\"#0d0887\"],[0.1111111111111111,\"#46039f\"],[0.2222222222222222,\"#7201a8\"],[0.3333333333333333,\"#9c179e\"],[0.4444444444444444,\"#bd3786\"],[0.5555555555555556,\"#d8576b\"],[0.6666666666666666,\"#ed7953\"],[0.7777777777777778,\"#fb9f3a\"],[0.8888888888888888,\"#fdca26\"],[1.0,\"#f0f921\"]]}],\"heatmapgl\":[{\"type\":\"heatmapgl\",\"colorbar\":{\"outlinewidth\":0,\"ticks\":\"\"},\"colorscale\":[[0.0,\"#0d0887\"],[0.1111111111111111,\"#46039f\"],[0.2222222222222222,\"#7201a8\"],[0.3333333333333333,\"#9c179e\"],[0.4444444444444444,\"#bd3786\"],[0.5555555555555556,\"#d8576b\"],[0.6666666666666666,\"#ed7953\"],[0.7777777777777778,\"#fb9f3a\"],[0.8888888888888888,\"#fdca26\"],[1.0,\"#f0f921\"]]}],\"contourcarpet\":[{\"type\":\"contourcarpet\",\"colorbar\":{\"outlinewidth\":0,\"ticks\":\"\"}}],\"contour\":[{\"type\":\"contour\",\"colorbar\":{\"outlinewidth\":0,\"ticks\":\"\"},\"colorscale\":[[0.0,\"#0d0887\"],[0.1111111111111111,\"#46039f\"],[0.2222222222222222,\"#7201a8\"],[0.3333333333333333,\"#9c179e\"],[0.4444444444444444,\"#bd3786\"],[0.5555555555555556,\"#d8576b\"],[0.6666666666666666,\"#ed7953\"],[0.7777777777777778,\"#fb9f3a\"],[0.8888888888888888,\"#fdca26\"],[1.0,\"#f0f921\"]]}],\"surface\":[{\"type\":\"surface\",\"colorbar\":{\"outlinewidth\":0,\"ticks\":\"\"},\"colorscale\":[[0.0,\"#0d0887\"],[0.1111111111111111,\"#46039f\"],[0.2222222222222222,\"#7201a8\"],[0.3333333333333333,\"#9c179e\"],[0.4444444444444444,\"#bd3786\"],[0.5555555555555556,\"#d8576b\"],[0.6666666666666666,\"#ed7953\"],[0.7777777777777778,\"#fb9f3a\"],[0.8888888888888888,\"#fdca26\"],[1.0,\"#f0f921\"]]}],\"mesh3d\":[{\"type\":\"mesh3d\",\"colorbar\":{\"outlinewidth\":0,\"ticks\":\"\"}}],\"scatter\":[{\"fillpattern\":{\"fillmode\":\"overlay\",\"size\":10,\"solidity\":0.2},\"type\":\"scatter\"}],\"parcoords\":[{\"type\":\"parcoords\",\"line\":{\"colorbar\":{\"outlinewidth\":0,\"ticks\":\"\"}}}],\"scatterpolargl\":[{\"type\":\"scatterpolargl\",\"marker\":{\"colorbar\":{\"outlinewidth\":0,\"ticks\":\"\"}}}],\"bar\":[{\"error_x\":{\"color\":\"#2a3f5f\"},\"error_y\":{\"color\":\"#2a3f5f\"},\"marker\":{\"line\":{\"color\":\"#E5ECF6\",\"width\":0.5},\"pattern\":{\"fillmode\":\"overlay\",\"size\":10,\"solidity\":0.2}},\"type\":\"bar\"}],\"scattergeo\":[{\"type\":\"scattergeo\",\"marker\":{\"colorbar\":{\"outlinewidth\":0,\"ticks\":\"\"}}}],\"scatterpolar\":[{\"type\":\"scatterpolar\",\"marker\":{\"colorbar\":{\"outlinewidth\":0,\"ticks\":\"\"}}}],\"histogram\":[{\"marker\":{\"pattern\":{\"fillmode\":\"overlay\",\"size\":10,\"solidity\":0.2}},\"type\":\"histogram\"}],\"scattergl\":[{\"type\":\"scattergl\",\"marker\":{\"colorbar\":{\"outlinewidth\":0,\"ticks\":\"\"}}}],\"scatter3d\":[{\"type\":\"scatter3d\",\"line\":{\"colorbar\":{\"outlinewidth\":0,\"ticks\":\"\"}},\"marker\":{\"colorbar\":{\"outlinewidth\":0,\"ticks\":\"\"}}}],\"scattermapbox\":[{\"type\":\"scattermapbox\",\"marker\":{\"colorbar\":{\"outlinewidth\":0,\"ticks\":\"\"}}}],\"scatterternary\":[{\"type\":\"scatterternary\",\"marker\":{\"colorbar\":{\"outlinewidth\":0,\"ticks\":\"\"}}}],\"scattercarpet\":[{\"type\":\"scattercarpet\",\"marker\":{\"colorbar\":{\"outlinewidth\":0,\"ticks\":\"\"}}}],\"carpet\":[{\"aaxis\":{\"endlinecolor\":\"#2a3f5f\",\"gridcolor\":\"white\",\"linecolor\":\"white\",\"minorgridcolor\":\"white\",\"startlinecolor\":\"#2a3f5f\"},\"baxis\":{\"endlinecolor\":\"#2a3f5f\",\"gridcolor\":\"white\",\"linecolor\":\"white\",\"minorgridcolor\":\"white\",\"startlinecolor\":\"#2a3f5f\"},\"type\":\"carpet\"}],\"table\":[{\"cells\":{\"fill\":{\"color\":\"#EBF0F8\"},\"line\":{\"color\":\"white\"}},\"header\":{\"fill\":{\"color\":\"#C8D4E3\"},\"line\":{\"color\":\"white\"}},\"type\":\"table\"}],\"barpolar\":[{\"marker\":{\"line\":{\"color\":\"#E5ECF6\",\"width\":0.5},\"pattern\":{\"fillmode\":\"overlay\",\"size\":10,\"solidity\":0.2}},\"type\":\"barpolar\"}],\"pie\":[{\"automargin\":true,\"type\":\"pie\"}]},\"layout\":{\"autotypenumbers\":\"strict\",\"colorway\":[\"#636efa\",\"#EF553B\",\"#00cc96\",\"#ab63fa\",\"#FFA15A\",\"#19d3f3\",\"#FF6692\",\"#B6E880\",\"#FF97FF\",\"#FECB52\"],\"font\":{\"color\":\"#2a3f5f\"},\"hovermode\":\"closest\",\"hoverlabel\":{\"align\":\"left\"},\"paper_bgcolor\":\"white\",\"plot_bgcolor\":\"#E5ECF6\",\"polar\":{\"bgcolor\":\"#E5ECF6\",\"angularaxis\":{\"gridcolor\":\"white\",\"linecolor\":\"white\",\"ticks\":\"\"},\"radialaxis\":{\"gridcolor\":\"white\",\"linecolor\":\"white\",\"ticks\":\"\"}},\"ternary\":{\"bgcolor\":\"#E5ECF6\",\"aaxis\":{\"gridcolor\":\"white\",\"linecolor\":\"white\",\"ticks\":\"\"},\"baxis\":{\"gridcolor\":\"white\",\"linecolor\":\"white\",\"ticks\":\"\"},\"caxis\":{\"gridcolor\":\"white\",\"linecolor\":\"white\",\"ticks\":\"\"}},\"coloraxis\":{\"colorbar\":{\"outlinewidth\":0,\"ticks\":\"\"}},\"colorscale\":{\"sequential\":[[0.0,\"#0d0887\"],[0.1111111111111111,\"#46039f\"],[0.2222222222222222,\"#7201a8\"],[0.3333333333333333,\"#9c179e\"],[0.4444444444444444,\"#bd3786\"],[0.5555555555555556,\"#d8576b\"],[0.6666666666666666,\"#ed7953\"],[0.7777777777777778,\"#fb9f3a\"],[0.8888888888888888,\"#fdca26\"],[1.0,\"#f0f921\"]],\"sequentialminus\":[[0.0,\"#0d0887\"],[0.1111111111111111,\"#46039f\"],[0.2222222222222222,\"#7201a8\"],[0.3333333333333333,\"#9c179e\"],[0.4444444444444444,\"#bd3786\"],[0.5555555555555556,\"#d8576b\"],[0.6666666666666666,\"#ed7953\"],[0.7777777777777778,\"#fb9f3a\"],[0.8888888888888888,\"#fdca26\"],[1.0,\"#f0f921\"]],\"diverging\":[[0,\"#8e0152\"],[0.1,\"#c51b7d\"],[0.2,\"#de77ae\"],[0.3,\"#f1b6da\"],[0.4,\"#fde0ef\"],[0.5,\"#f7f7f7\"],[0.6,\"#e6f5d0\"],[0.7,\"#b8e186\"],[0.8,\"#7fbc41\"],[0.9,\"#4d9221\"],[1,\"#276419\"]]},\"xaxis\":{\"gridcolor\":\"white\",\"linecolor\":\"white\",\"ticks\":\"\",\"title\":{\"standoff\":15},\"zerolinecolor\":\"white\",\"automargin\":true,\"zerolinewidth\":2},\"yaxis\":{\"gridcolor\":\"white\",\"linecolor\":\"white\",\"ticks\":\"\",\"title\":{\"standoff\":15},\"zerolinecolor\":\"white\",\"automargin\":true,\"zerolinewidth\":2},\"scene\":{\"xaxis\":{\"backgroundcolor\":\"#E5ECF6\",\"gridcolor\":\"white\",\"linecolor\":\"white\",\"showbackground\":true,\"ticks\":\"\",\"zerolinecolor\":\"white\",\"gridwidth\":2},\"yaxis\":{\"backgroundcolor\":\"#E5ECF6\",\"gridcolor\":\"white\",\"linecolor\":\"white\",\"showbackground\":true,\"ticks\":\"\",\"zerolinecolor\":\"white\",\"gridwidth\":2},\"zaxis\":{\"backgroundcolor\":\"#E5ECF6\",\"gridcolor\":\"white\",\"linecolor\":\"white\",\"showbackground\":true,\"ticks\":\"\",\"zerolinecolor\":\"white\",\"gridwidth\":2}},\"shapedefaults\":{\"line\":{\"color\":\"#2a3f5f\"}},\"annotationdefaults\":{\"arrowcolor\":\"#2a3f5f\",\"arrowhead\":0,\"arrowwidth\":1},\"geo\":{\"bgcolor\":\"white\",\"landcolor\":\"#E5ECF6\",\"subunitcolor\":\"white\",\"showland\":true,\"showlakes\":true,\"lakecolor\":\"white\"},\"title\":{\"x\":0.05},\"mapbox\":{\"style\":\"light\"}}},\"xaxis\":{\"anchor\":\"y\",\"domain\":[0.0,1.0]},\"yaxis\":{\"anchor\":\"x\",\"domain\":[0.0,1.0]},\"margin\":{\"l\":50,\"r\":50,\"b\":50,\"t\":50},\"height\":400,\"width\":1000,\"showlegend\":true,\"title\":{\"text\":\"Jokic - m\\u00e9dia de pontos nas temporadas\"}},                        {\"responsive\": true}                    ).then(function(){\n",
              "                            \n",
              "var gd = document.getElementById('0b70514a-7390-41ff-958d-b7c5fe4d0228');\n",
              "var x = new MutationObserver(function (mutations, observer) {{\n",
              "        var display = window.getComputedStyle(gd).display;\n",
              "        if (!display || display === 'none') {{\n",
              "            console.log([gd, 'removed!']);\n",
              "            Plotly.purge(gd);\n",
              "            observer.disconnect();\n",
              "        }}\n",
              "}});\n",
              "\n",
              "// Listen for the removal of the full notebook cells\n",
              "var notebookContainer = gd.closest('#notebook-container');\n",
              "if (notebookContainer) {{\n",
              "    x.observe(notebookContainer, {childList: true});\n",
              "}}\n",
              "\n",
              "// Listen for the clearing of the current output cell\n",
              "var outputEl = gd.closest('.output');\n",
              "if (outputEl) {{\n",
              "    x.observe(outputEl, {childList: true});\n",
              "}}\n",
              "\n",
              "                        })                };                            </script>        </div>\n",
              "</body>\n",
              "</html>"
            ]
          },
          "metadata": {}
        }
      ]
    },
    {
      "cell_type": "markdown",
      "source": [
        "## Correlação"
      ],
      "metadata": {
        "id": "HjIVGcPv5rB0"
      }
    },
    {
      "cell_type": "code",
      "source": [
        "df_stats_jokic.dtypes"
      ],
      "metadata": {
        "colab": {
          "base_uri": "https://localhost:8080/"
        },
        "id": "T0qsEmakJJpz",
        "outputId": "2003f306-7a3d-4e70-87d0-0a8bbf24e4b2"
      },
      "execution_count": 335,
      "outputs": [
        {
          "output_type": "execute_result",
          "data": {
            "text/plain": [
              "data                 object\n",
              "adversario           object\n",
              "tipo_temporada       object\n",
              "minutos               int64\n",
              "fgm                   int64\n",
              "fga                   int64\n",
              "fg_percent            int64\n",
              "3pm                   int64\n",
              "3pa                   int64\n",
              "3p_percent            int64\n",
              "ftm                   int64\n",
              "fta                   int64\n",
              "ft_percent            int64\n",
              "rebote_ataque         int64\n",
              "rebote_defesa         int64\n",
              "rebotes               int64\n",
              "assistencias          int64\n",
              "turnover              int64\n",
              "roubos                int64\n",
              "bloqueios             int64\n",
              "faltas                int64\n",
              "pontos                int64\n",
              "temporada             int64\n",
              "mes                  object\n",
              "dia                   int64\n",
              "resultado            object\n",
              "local_jogo           object\n",
              "placar_denver         int64\n",
              "placar_adversario     int64\n",
              "conferencia          object\n",
              "dtype: object"
            ]
          },
          "metadata": {},
          "execution_count": 335
        }
      ]
    },
    {
      "cell_type": "code",
      "source": [
        "correlacao = df_stats_jokic.drop(['data',\n",
        "                                 'adversario',\n",
        "                                 'tipo_temporada',\n",
        "                                 'mes',\n",
        "                                 'resultado',\n",
        "                                 'local_jogo',\n",
        "                                 'conferencia'],\n",
        "                                 axis=1).corr().round(2)\n",
        "\n",
        "fig = px.imshow(correlacao, text_auto=True, aspect='auto', color_continuous_scale='RdBu_r')\n",
        "\n",
        "fig.update_layout(margin=dict(t=80,\n",
        "                              r=50,\n",
        "                              b=50,\n",
        "                              l=50),\n",
        "                  showlegend=False,\n",
        "                  width=1200,\n",
        "                  height=1200)\n",
        "\n",
        "fig.update_xaxes(side='top')\n",
        "\n",
        "fig.show()"
      ],
      "metadata": {
        "id": "xqKDJ_53wMKb",
        "colab": {
          "base_uri": "https://localhost:8080/",
          "height": 1000
        },
        "outputId": "f732760d-c176-413f-c033-c302556b7102"
      },
      "execution_count": 336,
      "outputs": [
        {
          "output_type": "display_data",
          "data": {
            "text/html": [
              "<html>\n",
              "<head><meta charset=\"utf-8\" /></head>\n",
              "<body>\n",
              "    <div>            <script src=\"https://cdnjs.cloudflare.com/ajax/libs/mathjax/2.7.5/MathJax.js?config=TeX-AMS-MML_SVG\"></script><script type=\"text/javascript\">if (window.MathJax && window.MathJax.Hub && window.MathJax.Hub.Config) {window.MathJax.Hub.Config({SVG: {font: \"STIX-Web\"}});}</script>                <script type=\"text/javascript\">window.PlotlyConfig = {MathJaxConfig: 'local'};</script>\n",
              "        <script charset=\"utf-8\" src=\"https://cdn.plot.ly/plotly-2.24.1.min.js\"></script>                <div id=\"5e7903b1-a7d4-4d66-8ff9-cc3adcb15dee\" class=\"plotly-graph-div\" style=\"height:1200px; width:1200px;\"></div>            <script type=\"text/javascript\">                                    window.PLOTLYENV=window.PLOTLYENV || {};                                    if (document.getElementById(\"5e7903b1-a7d4-4d66-8ff9-cc3adcb15dee\")) {                    Plotly.newPlot(                        \"5e7903b1-a7d4-4d66-8ff9-cc3adcb15dee\",                        [{\"coloraxis\":\"coloraxis\",\"name\":\"0\",\"texttemplate\":\"%{z}\",\"x\":[\"minutos\",\"fgm\",\"fga\",\"fg_percent\",\"3pm\",\"3pa\",\"3p_percent\",\"ftm\",\"fta\",\"ft_percent\",\"rebote_ataque\",\"rebote_defesa\",\"rebotes\",\"assistencias\",\"turnover\",\"roubos\",\"bloqueios\",\"faltas\",\"pontos\",\"temporada\",\"dia\",\"placar_denver\",\"placar_adversario\"],\"y\":[\"minutos\",\"fgm\",\"fga\",\"fg_percent\",\"3pm\",\"3pa\",\"3p_percent\",\"ftm\",\"fta\",\"ft_percent\",\"rebote_ataque\",\"rebote_defesa\",\"rebotes\",\"assistencias\",\"turnover\",\"roubos\",\"bloqueios\",\"faltas\",\"pontos\",\"temporada\",\"dia\",\"placar_denver\",\"placar_adversario\"],\"z\":[[1.0,0.63,0.68,0.08,0.33,0.44,0.16,0.42,0.43,0.29,0.26,0.53,0.56,0.5,0.36,0.22,0.19,0.09,0.67,0.47,-0.01,0.17,0.13],[0.63,1.0,0.86,0.41,0.41,0.41,0.21,0.37,0.39,0.28,0.31,0.35,0.43,0.32,0.25,0.19,0.16,0.05,0.95,0.5,-0.0,0.28,0.21],[0.68,0.86,1.0,-0.02,0.41,0.61,0.11,0.33,0.36,0.26,0.39,0.36,0.48,0.25,0.24,0.19,0.17,0.08,0.83,0.45,-0.01,0.12,0.17],[0.08,0.41,-0.02,1.0,0.09,-0.19,0.22,0.15,0.14,0.13,-0.03,0.07,0.04,0.2,0.06,0.03,0.02,-0.06,0.38,0.21,0.02,0.31,0.1],[0.33,0.41,0.41,0.09,1.0,0.68,0.69,0.11,0.1,0.13,0.06,0.12,0.13,0.12,0.1,0.06,0.06,0.05,0.48,0.17,0.05,0.1,0.07],[0.44,0.41,0.61,-0.19,0.68,1.0,0.19,0.1,0.1,0.13,0.06,0.22,0.21,0.11,0.13,0.11,0.13,0.04,0.43,0.23,0.01,-0.05,0.01],[0.16,0.21,0.11,0.22,0.69,0.19,1.0,0.08,0.05,0.13,0.07,0.02,0.05,0.09,0.07,0.08,0.04,0.09,0.27,0.06,0.06,0.17,0.07],[0.42,0.37,0.33,0.15,0.11,0.1,0.08,1.0,0.96,0.55,0.19,0.26,0.3,0.23,0.19,0.17,0.1,0.08,0.61,0.34,0.03,0.25,0.22],[0.43,0.39,0.36,0.14,0.1,0.1,0.05,0.96,1.0,0.43,0.2,0.28,0.33,0.24,0.19,0.17,0.12,0.08,0.62,0.36,0.01,0.23,0.22],[0.29,0.28,0.26,0.13,0.13,0.13,0.13,0.55,0.43,1.0,0.14,0.14,0.18,0.17,0.17,0.17,0.05,0.04,0.4,0.22,-0.01,0.18,0.15],[0.26,0.31,0.39,-0.03,0.06,0.06,0.07,0.19,0.2,0.14,1.0,0.12,0.53,0.03,0.11,0.06,0.06,0.03,0.31,0.04,0.05,0.05,0.07],[0.53,0.35,0.36,0.07,0.12,0.22,0.02,0.26,0.28,0.14,0.12,1.0,0.9,0.39,0.26,0.13,0.11,0.04,0.37,0.39,-0.01,0.14,-0.09],[0.56,0.43,0.48,0.04,0.13,0.21,0.05,0.3,0.33,0.18,0.53,0.9,1.0,0.35,0.27,0.14,0.12,0.04,0.45,0.35,0.01,0.14,-0.05],[0.5,0.32,0.25,0.2,0.12,0.11,0.09,0.23,0.24,0.17,0.03,0.39,0.35,1.0,0.25,0.1,0.08,0.01,0.34,0.56,-0.07,0.41,0.11],[0.36,0.25,0.24,0.06,0.1,0.13,0.07,0.19,0.19,0.17,0.11,0.26,0.27,0.25,1.0,0.07,0.05,0.09,0.27,0.31,0.01,0.09,0.13],[0.22,0.19,0.19,0.03,0.06,0.11,0.08,0.17,0.17,0.17,0.06,0.13,0.14,0.1,0.07,1.0,0.03,0.06,0.21,0.12,0.01,0.08,0.04],[0.19,0.16,0.17,0.02,0.06,0.13,0.04,0.1,0.12,0.05,0.06,0.11,0.12,0.08,0.05,0.03,1.0,0.05,0.17,0.02,-0.02,0.05,0.05],[0.09,0.05,0.08,-0.06,0.05,0.04,0.09,0.08,0.08,0.04,0.03,0.04,0.04,0.01,0.09,0.06,0.05,1.0,0.07,-0.05,0.06,0.04,0.07],[0.67,0.95,0.83,0.38,0.48,0.43,0.27,0.61,0.62,0.4,0.31,0.37,0.45,0.34,0.27,0.21,0.17,0.07,1.0,0.52,0.01,0.31,0.25],[0.47,0.5,0.45,0.21,0.17,0.23,0.06,0.34,0.36,0.22,0.04,0.39,0.35,0.56,0.31,0.12,0.02,-0.05,0.52,1.0,-0.01,0.29,0.15],[-0.01,-0.0,-0.01,0.02,0.05,0.01,0.06,0.03,0.01,-0.01,0.05,-0.01,0.01,-0.07,0.01,0.01,-0.02,0.06,0.01,-0.01,1.0,-0.01,-0.03],[0.17,0.28,0.12,0.31,0.1,-0.05,0.17,0.25,0.23,0.18,0.05,0.14,0.14,0.41,0.09,0.08,0.05,0.04,0.31,0.29,-0.01,1.0,0.44],[0.13,0.21,0.17,0.1,0.07,0.01,0.07,0.22,0.22,0.15,0.07,-0.09,-0.05,0.11,0.13,0.04,0.05,0.07,0.25,0.15,-0.03,0.44,1.0]],\"type\":\"heatmap\",\"xaxis\":\"x\",\"yaxis\":\"y\",\"hovertemplate\":\"x: %{x}\\u003cbr\\u003ey: %{y}\\u003cbr\\u003ecolor: %{z}\\u003cextra\\u003e\\u003c\\u002fextra\\u003e\"}],                        {\"template\":{\"data\":{\"histogram2dcontour\":[{\"type\":\"histogram2dcontour\",\"colorbar\":{\"outlinewidth\":0,\"ticks\":\"\"},\"colorscale\":[[0.0,\"#0d0887\"],[0.1111111111111111,\"#46039f\"],[0.2222222222222222,\"#7201a8\"],[0.3333333333333333,\"#9c179e\"],[0.4444444444444444,\"#bd3786\"],[0.5555555555555556,\"#d8576b\"],[0.6666666666666666,\"#ed7953\"],[0.7777777777777778,\"#fb9f3a\"],[0.8888888888888888,\"#fdca26\"],[1.0,\"#f0f921\"]]}],\"choropleth\":[{\"type\":\"choropleth\",\"colorbar\":{\"outlinewidth\":0,\"ticks\":\"\"}}],\"histogram2d\":[{\"type\":\"histogram2d\",\"colorbar\":{\"outlinewidth\":0,\"ticks\":\"\"},\"colorscale\":[[0.0,\"#0d0887\"],[0.1111111111111111,\"#46039f\"],[0.2222222222222222,\"#7201a8\"],[0.3333333333333333,\"#9c179e\"],[0.4444444444444444,\"#bd3786\"],[0.5555555555555556,\"#d8576b\"],[0.6666666666666666,\"#ed7953\"],[0.7777777777777778,\"#fb9f3a\"],[0.8888888888888888,\"#fdca26\"],[1.0,\"#f0f921\"]]}],\"heatmap\":[{\"type\":\"heatmap\",\"colorbar\":{\"outlinewidth\":0,\"ticks\":\"\"},\"colorscale\":[[0.0,\"#0d0887\"],[0.1111111111111111,\"#46039f\"],[0.2222222222222222,\"#7201a8\"],[0.3333333333333333,\"#9c179e\"],[0.4444444444444444,\"#bd3786\"],[0.5555555555555556,\"#d8576b\"],[0.6666666666666666,\"#ed7953\"],[0.7777777777777778,\"#fb9f3a\"],[0.8888888888888888,\"#fdca26\"],[1.0,\"#f0f921\"]]}],\"heatmapgl\":[{\"type\":\"heatmapgl\",\"colorbar\":{\"outlinewidth\":0,\"ticks\":\"\"},\"colorscale\":[[0.0,\"#0d0887\"],[0.1111111111111111,\"#46039f\"],[0.2222222222222222,\"#7201a8\"],[0.3333333333333333,\"#9c179e\"],[0.4444444444444444,\"#bd3786\"],[0.5555555555555556,\"#d8576b\"],[0.6666666666666666,\"#ed7953\"],[0.7777777777777778,\"#fb9f3a\"],[0.8888888888888888,\"#fdca26\"],[1.0,\"#f0f921\"]]}],\"contourcarpet\":[{\"type\":\"contourcarpet\",\"colorbar\":{\"outlinewidth\":0,\"ticks\":\"\"}}],\"contour\":[{\"type\":\"contour\",\"colorbar\":{\"outlinewidth\":0,\"ticks\":\"\"},\"colorscale\":[[0.0,\"#0d0887\"],[0.1111111111111111,\"#46039f\"],[0.2222222222222222,\"#7201a8\"],[0.3333333333333333,\"#9c179e\"],[0.4444444444444444,\"#bd3786\"],[0.5555555555555556,\"#d8576b\"],[0.6666666666666666,\"#ed7953\"],[0.7777777777777778,\"#fb9f3a\"],[0.8888888888888888,\"#fdca26\"],[1.0,\"#f0f921\"]]}],\"surface\":[{\"type\":\"surface\",\"colorbar\":{\"outlinewidth\":0,\"ticks\":\"\"},\"colorscale\":[[0.0,\"#0d0887\"],[0.1111111111111111,\"#46039f\"],[0.2222222222222222,\"#7201a8\"],[0.3333333333333333,\"#9c179e\"],[0.4444444444444444,\"#bd3786\"],[0.5555555555555556,\"#d8576b\"],[0.6666666666666666,\"#ed7953\"],[0.7777777777777778,\"#fb9f3a\"],[0.8888888888888888,\"#fdca26\"],[1.0,\"#f0f921\"]]}],\"mesh3d\":[{\"type\":\"mesh3d\",\"colorbar\":{\"outlinewidth\":0,\"ticks\":\"\"}}],\"scatter\":[{\"fillpattern\":{\"fillmode\":\"overlay\",\"size\":10,\"solidity\":0.2},\"type\":\"scatter\"}],\"parcoords\":[{\"type\":\"parcoords\",\"line\":{\"colorbar\":{\"outlinewidth\":0,\"ticks\":\"\"}}}],\"scatterpolargl\":[{\"type\":\"scatterpolargl\",\"marker\":{\"colorbar\":{\"outlinewidth\":0,\"ticks\":\"\"}}}],\"bar\":[{\"error_x\":{\"color\":\"#2a3f5f\"},\"error_y\":{\"color\":\"#2a3f5f\"},\"marker\":{\"line\":{\"color\":\"#E5ECF6\",\"width\":0.5},\"pattern\":{\"fillmode\":\"overlay\",\"size\":10,\"solidity\":0.2}},\"type\":\"bar\"}],\"scattergeo\":[{\"type\":\"scattergeo\",\"marker\":{\"colorbar\":{\"outlinewidth\":0,\"ticks\":\"\"}}}],\"scatterpolar\":[{\"type\":\"scatterpolar\",\"marker\":{\"colorbar\":{\"outlinewidth\":0,\"ticks\":\"\"}}}],\"histogram\":[{\"marker\":{\"pattern\":{\"fillmode\":\"overlay\",\"size\":10,\"solidity\":0.2}},\"type\":\"histogram\"}],\"scattergl\":[{\"type\":\"scattergl\",\"marker\":{\"colorbar\":{\"outlinewidth\":0,\"ticks\":\"\"}}}],\"scatter3d\":[{\"type\":\"scatter3d\",\"line\":{\"colorbar\":{\"outlinewidth\":0,\"ticks\":\"\"}},\"marker\":{\"colorbar\":{\"outlinewidth\":0,\"ticks\":\"\"}}}],\"scattermapbox\":[{\"type\":\"scattermapbox\",\"marker\":{\"colorbar\":{\"outlinewidth\":0,\"ticks\":\"\"}}}],\"scatterternary\":[{\"type\":\"scatterternary\",\"marker\":{\"colorbar\":{\"outlinewidth\":0,\"ticks\":\"\"}}}],\"scattercarpet\":[{\"type\":\"scattercarpet\",\"marker\":{\"colorbar\":{\"outlinewidth\":0,\"ticks\":\"\"}}}],\"carpet\":[{\"aaxis\":{\"endlinecolor\":\"#2a3f5f\",\"gridcolor\":\"white\",\"linecolor\":\"white\",\"minorgridcolor\":\"white\",\"startlinecolor\":\"#2a3f5f\"},\"baxis\":{\"endlinecolor\":\"#2a3f5f\",\"gridcolor\":\"white\",\"linecolor\":\"white\",\"minorgridcolor\":\"white\",\"startlinecolor\":\"#2a3f5f\"},\"type\":\"carpet\"}],\"table\":[{\"cells\":{\"fill\":{\"color\":\"#EBF0F8\"},\"line\":{\"color\":\"white\"}},\"header\":{\"fill\":{\"color\":\"#C8D4E3\"},\"line\":{\"color\":\"white\"}},\"type\":\"table\"}],\"barpolar\":[{\"marker\":{\"line\":{\"color\":\"#E5ECF6\",\"width\":0.5},\"pattern\":{\"fillmode\":\"overlay\",\"size\":10,\"solidity\":0.2}},\"type\":\"barpolar\"}],\"pie\":[{\"automargin\":true,\"type\":\"pie\"}]},\"layout\":{\"autotypenumbers\":\"strict\",\"colorway\":[\"#636efa\",\"#EF553B\",\"#00cc96\",\"#ab63fa\",\"#FFA15A\",\"#19d3f3\",\"#FF6692\",\"#B6E880\",\"#FF97FF\",\"#FECB52\"],\"font\":{\"color\":\"#2a3f5f\"},\"hovermode\":\"closest\",\"hoverlabel\":{\"align\":\"left\"},\"paper_bgcolor\":\"white\",\"plot_bgcolor\":\"#E5ECF6\",\"polar\":{\"bgcolor\":\"#E5ECF6\",\"angularaxis\":{\"gridcolor\":\"white\",\"linecolor\":\"white\",\"ticks\":\"\"},\"radialaxis\":{\"gridcolor\":\"white\",\"linecolor\":\"white\",\"ticks\":\"\"}},\"ternary\":{\"bgcolor\":\"#E5ECF6\",\"aaxis\":{\"gridcolor\":\"white\",\"linecolor\":\"white\",\"ticks\":\"\"},\"baxis\":{\"gridcolor\":\"white\",\"linecolor\":\"white\",\"ticks\":\"\"},\"caxis\":{\"gridcolor\":\"white\",\"linecolor\":\"white\",\"ticks\":\"\"}},\"coloraxis\":{\"colorbar\":{\"outlinewidth\":0,\"ticks\":\"\"}},\"colorscale\":{\"sequential\":[[0.0,\"#0d0887\"],[0.1111111111111111,\"#46039f\"],[0.2222222222222222,\"#7201a8\"],[0.3333333333333333,\"#9c179e\"],[0.4444444444444444,\"#bd3786\"],[0.5555555555555556,\"#d8576b\"],[0.6666666666666666,\"#ed7953\"],[0.7777777777777778,\"#fb9f3a\"],[0.8888888888888888,\"#fdca26\"],[1.0,\"#f0f921\"]],\"sequentialminus\":[[0.0,\"#0d0887\"],[0.1111111111111111,\"#46039f\"],[0.2222222222222222,\"#7201a8\"],[0.3333333333333333,\"#9c179e\"],[0.4444444444444444,\"#bd3786\"],[0.5555555555555556,\"#d8576b\"],[0.6666666666666666,\"#ed7953\"],[0.7777777777777778,\"#fb9f3a\"],[0.8888888888888888,\"#fdca26\"],[1.0,\"#f0f921\"]],\"diverging\":[[0,\"#8e0152\"],[0.1,\"#c51b7d\"],[0.2,\"#de77ae\"],[0.3,\"#f1b6da\"],[0.4,\"#fde0ef\"],[0.5,\"#f7f7f7\"],[0.6,\"#e6f5d0\"],[0.7,\"#b8e186\"],[0.8,\"#7fbc41\"],[0.9,\"#4d9221\"],[1,\"#276419\"]]},\"xaxis\":{\"gridcolor\":\"white\",\"linecolor\":\"white\",\"ticks\":\"\",\"title\":{\"standoff\":15},\"zerolinecolor\":\"white\",\"automargin\":true,\"zerolinewidth\":2},\"yaxis\":{\"gridcolor\":\"white\",\"linecolor\":\"white\",\"ticks\":\"\",\"title\":{\"standoff\":15},\"zerolinecolor\":\"white\",\"automargin\":true,\"zerolinewidth\":2},\"scene\":{\"xaxis\":{\"backgroundcolor\":\"#E5ECF6\",\"gridcolor\":\"white\",\"linecolor\":\"white\",\"showbackground\":true,\"ticks\":\"\",\"zerolinecolor\":\"white\",\"gridwidth\":2},\"yaxis\":{\"backgroundcolor\":\"#E5ECF6\",\"gridcolor\":\"white\",\"linecolor\":\"white\",\"showbackground\":true,\"ticks\":\"\",\"zerolinecolor\":\"white\",\"gridwidth\":2},\"zaxis\":{\"backgroundcolor\":\"#E5ECF6\",\"gridcolor\":\"white\",\"linecolor\":\"white\",\"showbackground\":true,\"ticks\":\"\",\"zerolinecolor\":\"white\",\"gridwidth\":2}},\"shapedefaults\":{\"line\":{\"color\":\"#2a3f5f\"}},\"annotationdefaults\":{\"arrowcolor\":\"#2a3f5f\",\"arrowhead\":0,\"arrowwidth\":1},\"geo\":{\"bgcolor\":\"white\",\"landcolor\":\"#E5ECF6\",\"subunitcolor\":\"white\",\"showland\":true,\"showlakes\":true,\"lakecolor\":\"white\"},\"title\":{\"x\":0.05},\"mapbox\":{\"style\":\"light\"}}},\"xaxis\":{\"anchor\":\"y\",\"domain\":[0.0,1.0],\"side\":\"top\"},\"yaxis\":{\"anchor\":\"x\",\"domain\":[0.0,1.0],\"autorange\":\"reversed\"},\"coloraxis\":{\"colorscale\":[[0.0,\"rgb(5,48,97)\"],[0.1,\"rgb(33,102,172)\"],[0.2,\"rgb(67,147,195)\"],[0.3,\"rgb(146,197,222)\"],[0.4,\"rgb(209,229,240)\"],[0.5,\"rgb(247,247,247)\"],[0.6,\"rgb(253,219,199)\"],[0.7,\"rgb(244,165,130)\"],[0.8,\"rgb(214,96,77)\"],[0.9,\"rgb(178,24,43)\"],[1.0,\"rgb(103,0,31)\"]]},\"margin\":{\"t\":80,\"r\":50,\"b\":50,\"l\":50},\"showlegend\":false,\"width\":1200,\"height\":1200},                        {\"responsive\": true}                    ).then(function(){\n",
              "                            \n",
              "var gd = document.getElementById('5e7903b1-a7d4-4d66-8ff9-cc3adcb15dee');\n",
              "var x = new MutationObserver(function (mutations, observer) {{\n",
              "        var display = window.getComputedStyle(gd).display;\n",
              "        if (!display || display === 'none') {{\n",
              "            console.log([gd, 'removed!']);\n",
              "            Plotly.purge(gd);\n",
              "            observer.disconnect();\n",
              "        }}\n",
              "}});\n",
              "\n",
              "// Listen for the removal of the full notebook cells\n",
              "var notebookContainer = gd.closest('#notebook-container');\n",
              "if (notebookContainer) {{\n",
              "    x.observe(notebookContainer, {childList: true});\n",
              "}}\n",
              "\n",
              "// Listen for the clearing of the current output cell\n",
              "var outputEl = gd.closest('.output');\n",
              "if (outputEl) {{\n",
              "    x.observe(outputEl, {childList: true});\n",
              "}}\n",
              "\n",
              "                        })                };                            </script>        </div>\n",
              "</body>\n",
              "</html>"
            ]
          },
          "metadata": {}
        }
      ]
    },
    {
      "cell_type": "markdown",
      "source": [
        "±0.9 → correlação muito forte\n",
        "\n",
        "±0.7 a ±0.9 → correlação forte\n",
        "\n",
        "±0.5 a ±0.7 → correlação moderada\n",
        "\n",
        "±0.3 a ±0.5 → correlação fraca"
      ],
      "metadata": {
        "id": "g3cdgSGjc3Je"
      }
    },
    {
      "cell_type": "markdown",
      "source": [
        "### Correlação com pontos"
      ],
      "metadata": {
        "id": "BuezwvTEGHgM"
      }
    },
    {
      "cell_type": "markdown",
      "source": [
        "#### Correlação muito forte"
      ],
      "metadata": {
        "id": "3Kg5Ygkvd4Tz"
      }
    },
    {
      "cell_type": "code",
      "source": [
        "correlacao.loc[correlacao['pontos'] >= 0.9].index"
      ],
      "metadata": {
        "id": "mYyWn-xwdkoD",
        "colab": {
          "base_uri": "https://localhost:8080/"
        },
        "outputId": "0c162025-ebd1-48a1-9091-59d7dd6328dd"
      },
      "execution_count": 337,
      "outputs": [
        {
          "output_type": "execute_result",
          "data": {
            "text/plain": [
              "Index(['fgm', 'pontos'], dtype='object')"
            ]
          },
          "metadata": {},
          "execution_count": 337
        }
      ]
    },
    {
      "cell_type": "markdown",
      "source": [
        "#### Correlação forte"
      ],
      "metadata": {
        "id": "Xr9xJ2W_eTjJ"
      }
    },
    {
      "cell_type": "code",
      "source": [
        "correlacao.loc[(correlacao['pontos'] >= 0.7)\n",
        "               & (correlacao['pontos'] < 0.9)].index"
      ],
      "metadata": {
        "id": "I6qnFMZIeJMD",
        "colab": {
          "base_uri": "https://localhost:8080/"
        },
        "outputId": "67f9a402-0a6f-48a6-d82b-d4761f6757f4"
      },
      "execution_count": 338,
      "outputs": [
        {
          "output_type": "execute_result",
          "data": {
            "text/plain": [
              "Index(['fga'], dtype='object')"
            ]
          },
          "metadata": {},
          "execution_count": 338
        }
      ]
    },
    {
      "cell_type": "markdown",
      "source": [
        "#### Correlação moderada"
      ],
      "metadata": {
        "id": "63y6e1M4eWcc"
      }
    },
    {
      "cell_type": "code",
      "source": [
        "correlacao.loc[(correlacao['pontos'] >= 0.5)\n",
        "               & (correlacao['pontos'] < 0.7)].index"
      ],
      "metadata": {
        "id": "1TuhCptqeWcc",
        "colab": {
          "base_uri": "https://localhost:8080/"
        },
        "outputId": "7b73435b-e2d9-402b-8216-64dd6fb1ab8e"
      },
      "execution_count": 339,
      "outputs": [
        {
          "output_type": "execute_result",
          "data": {
            "text/plain": [
              "Index(['minutos', 'ftm', 'fta', 'temporada'], dtype='object')"
            ]
          },
          "metadata": {},
          "execution_count": 339
        }
      ]
    },
    {
      "cell_type": "markdown",
      "source": [
        "#### Correlação fraca"
      ],
      "metadata": {
        "id": "vES0u4J1eWhq"
      }
    },
    {
      "cell_type": "code",
      "source": [
        "correlacao.loc[(correlacao['pontos'] >= 0.3)\n",
        "               & (correlacao['pontos'] < 0.5)].index"
      ],
      "metadata": {
        "id": "MkaiqmzKeWhq",
        "colab": {
          "base_uri": "https://localhost:8080/"
        },
        "outputId": "6a32d7a9-ba6f-4618-d8cc-3262bb9e5795"
      },
      "execution_count": 340,
      "outputs": [
        {
          "output_type": "execute_result",
          "data": {
            "text/plain": [
              "Index(['fg_percent', '3pm', '3pa', 'ft_percent', 'rebote_ataque',\n",
              "       'rebote_defesa', 'rebotes', 'assistencias', 'placar_denver'],\n",
              "      dtype='object')"
            ]
          },
          "metadata": {},
          "execution_count": 340
        }
      ]
    },
    {
      "cell_type": "code",
      "source": [
        "media_acertos_fg = df_stats_jokic['fgm'].mean().round(2)\n",
        "media_acertos_ft = df_stats_jokic['ftm'].mean().round(2)\n",
        "media_acertos_3pt = df_stats_jokic['3pm'].mean().round(2)\n",
        "\n",
        "print('Média de acertos FG por jogo:', media_acertos_fg)\n",
        "print('Média de acertos FT por jogo:', media_acertos_ft)\n",
        "print('Média de acertos 3PT por jogo:', media_acertos_3pt)"
      ],
      "metadata": {
        "id": "j_3S78xqfL5V",
        "colab": {
          "base_uri": "https://localhost:8080/"
        },
        "outputId": "24a2b25c-7b35-42e7-ea0e-fa17a02e1351"
      },
      "execution_count": 341,
      "outputs": [
        {
          "output_type": "stream",
          "name": "stdout",
          "text": [
            "Média de acertos FG por jogo: 7.88\n",
            "Média de acertos FT por jogo: 3.74\n",
            "Média de acertos 3PT por jogo: 1.0\n"
          ]
        }
      ]
    },
    {
      "cell_type": "markdown",
      "source": [
        "#### Aproveitamento"
      ],
      "metadata": {
        "id": "sfrLXW0XhXFP"
      }
    },
    {
      "cell_type": "code",
      "source": [
        "media_aproveitamento_porcent_fg = (df_stats_jokic['fg_percent'].mean()).round(2)\n",
        "media_aproveitamento_porcent_ft = (df_stats_jokic['ft_percent'].mean()).round(2)\n",
        "media_aproveitamento_porcent_3pt = (df_stats_jokic['3p_percent'].mean()).round(2)\n",
        "\n",
        "print('Média de aproveitamento FG por jogo:', media_aproveitamento_porcent_fg, '%')\n",
        "print('Média de aproveitamento FT por jogo:', media_aproveitamento_porcent_ft, '%')\n",
        "print('Média de aproveitamento 3PT por jogo:', media_aproveitamento_porcent_3pt, '%')"
      ],
      "metadata": {
        "id": "TazDKiXfgigj",
        "colab": {
          "base_uri": "https://localhost:8080/"
        },
        "outputId": "14f4b188-9b2c-413e-da24-49a998d5cd7d"
      },
      "execution_count": 342,
      "outputs": [
        {
          "output_type": "stream",
          "name": "stdout",
          "text": [
            "Média de aproveitamento FG por jogo: 54.98 %\n",
            "Média de aproveitamento FT por jogo: 70.84 %\n",
            "Média de aproveitamento 3PT por jogo: 29.96 %\n"
          ]
        }
      ]
    },
    {
      "cell_type": "markdown",
      "source": [
        "# Substituição de variáveis categóricas"
      ],
      "metadata": {
        "id": "7dH5NS0Vb9q2"
      }
    },
    {
      "cell_type": "markdown",
      "source": [
        "## Dummies"
      ],
      "metadata": {
        "id": "nfnGdiH7l9gm"
      }
    },
    {
      "cell_type": "code",
      "source": [
        "df_stats_jokic_for_dummies = df_stats_jokic.copy()\n",
        "df_stats_jokic_for_dummies.reset_index(drop=True, inplace=True)"
      ],
      "metadata": {
        "id": "5bxiFWfRnIoU"
      },
      "execution_count": null,
      "outputs": []
    },
    {
      "cell_type": "code",
      "source": [
        "df_stats_jokic_dummies = pd.get_dummies(df_stats_jokic_for_dummies, prefix='', prefix_sep='')\n",
        "df_stats_jokic_dummies"
      ],
      "metadata": {
        "id": "vxMK0xlIl-vD"
      },
      "execution_count": null,
      "outputs": []
    },
    {
      "cell_type": "markdown",
      "source": [
        "### Correlação dummies"
      ],
      "metadata": {
        "id": "7690n2KOqLST"
      }
    },
    {
      "cell_type": "code",
      "source": [
        "correlacao_dummies = df_stats_jokic_dummies.corr().round(2)\n",
        "\n",
        "fig = px.imshow(correlacao_dummies, text_auto=True, aspect='auto', color_continuous_scale='RdBu_r')\n",
        "\n",
        "fig.update_layout(margin=dict(t=80,\n",
        "                              r=50,\n",
        "                              b=50,\n",
        "                              l=50),\n",
        "                  showlegend=False,\n",
        "                  width=1800,\n",
        "                  height=1800)\n",
        "\n",
        "fig.update_xaxes(side='top')\n",
        "\n",
        "fig.show()"
      ],
      "metadata": {
        "id": "orTMAg0hqLSU"
      },
      "execution_count": null,
      "outputs": []
    },
    {
      "cell_type": "markdown",
      "source": [
        "# Principal Component Analysis (PCA)"
      ],
      "metadata": {
        "id": "wdIt1NrAdrMZ"
      }
    },
    {
      "cell_type": "markdown",
      "source": [
        "## Teste de Esfericidade de Bartlett\n",
        "\n",
        "Hipótese Nula que a matriz de correlação ρ da sua base de dados é estatisticamente igual a uma matriz identidade.\n",
        "\n",
        "*   Significa que temos uma base de dados onde não existe correlação entre nenhuma das variáveis que compõem essa base. Importante salientar que o teste verifica se as correlações entre as variáveis são ESTATISTICAMENTE IGUAIS a 0, o que não quer dizer que elas sejam 0.\n",
        "\n",
        "\n",
        "Hipótese Alternativa, temos que a matriz de correlações da sua base de dados não é ESTATISTICAMENTE IGUAL a uma matriz identidade.\n",
        "\n",
        "Para **rejeitarmos** a Hipótese Nula, que é o que queremos, temos de ter que o valor calculado na distribuição qui quadrada acima deve ser maior que o valor dessa mesma distribuição para o nível de significância desejado. Se for maior, podemos rejeitar a hipótese nula e aceitarmos a hipótese alternativa.\n",
        "\n",
        "Fonte: [Abrindo a Caixa Preta: PCA (Análise de Componentes Principais)](https://medium.com/@felipeverasaraujo/abrindo-a-caixa-preta-pca-an%C3%A1lise-de-componentes-principais-d5d400781dfe)"
      ],
      "metadata": {
        "id": "QOA5kKtgMI3r"
      }
    },
    {
      "cell_type": "code",
      "source": [
        "stats, p_value = bartlett(df_stats_jokic_dummies['Temporada'], df_stats_jokic_dummies['Minutos'], df_stats_jokic_dummies['Rebotes'], df_stats_jokic_dummies['Assistencias'], df_stats_jokic_dummies['Bloqueios'],\n",
        "                          df_stats_jokic_dummies['Desarmes'], df_stats_jokic_dummies['Faltas'], df_stats_jokic_dummies['Tunovers'], df_stats_jokic_dummies['Pontos'], df_stats_jokic_dummies['FG_Tentativas'],\n",
        "                          df_stats_jokic_dummies['FG_Acertos'], df_stats_jokic_dummies['3PT_Tentativas'], df_stats_jokic_dummies['3PT_Acertos'], df_stats_jokic_dummies['FT_Tentativas'],\n",
        "                          df_stats_jokic_dummies['FT_Acertos'], df_stats_jokic_dummies['Placar_Denver'], df_stats_jokic_dummies['Placar_Adversario'], df_stats_jokic_dummies['Dia_semana'], df_stats_jokic_dummies['Mes'],\n",
        "                          df_stats_jokic_dummies['%FG'], df_stats_jokic_dummies['%3PT'], df_stats_jokic_dummies['%FT'], df_stats_jokic_dummies['ATL'], df_stats_jokic_dummies['BKN'], df_stats_jokic_dummies['BOS'], df_stats_jokic_dummies['CHA'],\n",
        "                          df_stats_jokic_dummies['CHI'], df_stats_jokic_dummies['CLE'], df_stats_jokic_dummies['DAL'], df_stats_jokic_dummies['DET'], df_stats_jokic_dummies['GS'], df_stats_jokic_dummies['HOU'], df_stats_jokic_dummies['IND'],\n",
        "                          df_stats_jokic_dummies['LAC'], df_stats_jokic_dummies['LAL'], df_stats_jokic_dummies['MEM'], df_stats_jokic_dummies['MIA'], df_stats_jokic_dummies['MIL'], df_stats_jokic_dummies['MIN'],df_stats_jokic_dummies['NO'],\n",
        "                          df_stats_jokic_dummies['NY'], df_stats_jokic_dummies['OKC'], df_stats_jokic_dummies['ORL'], df_stats_jokic_dummies['PHI'], df_stats_jokic_dummies['PHX'], df_stats_jokic_dummies['POR'], df_stats_jokic_dummies['SA'],\n",
        "                          df_stats_jokic_dummies['SAC'], df_stats_jokic_dummies['TOR'],df_stats_jokic_dummies['UTAH'], df_stats_jokic_dummies['WSH'], df_stats_jokic_dummies['casa'], df_stats_jokic_dummies['fora'], df_stats_jokic_dummies['D'],\n",
        "                          df_stats_jokic_dummies['V'], df_stats_jokic_dummies['Leste'], df_stats_jokic_dummies['Oeste'])"
      ],
      "metadata": {
        "id": "hPAVEbqrK_mi"
      },
      "execution_count": null,
      "outputs": []
    },
    {
      "cell_type": "code",
      "source": [
        "significancia = 0.05"
      ],
      "metadata": {
        "id": "fhOqVHLzNOHH"
      },
      "execution_count": null,
      "outputs": []
    },
    {
      "cell_type": "code",
      "source": [
        "p_value"
      ],
      "metadata": {
        "id": "XbHaokXTMBgY"
      },
      "execution_count": null,
      "outputs": []
    },
    {
      "cell_type": "code",
      "source": [
        "if p_value < significancia:\n",
        "    print('Hipótese nula rejeitada\\nÉ possível utilizar PCA')\n",
        "else:\n",
        "    print('Hipótese nula aceita\\nNão é possível utilizar PCA')"
      ],
      "metadata": {
        "id": "owPNfadzNY80"
      },
      "execution_count": null,
      "outputs": []
    },
    {
      "cell_type": "markdown",
      "source": [
        "## PCA"
      ],
      "metadata": {
        "id": "DIfmGIMr4nfF"
      }
    },
    {
      "cell_type": "markdown",
      "source": [
        "1. Padronização dos dados\n",
        "2. Obtenção dos autovalores e autovetores\n",
        "3. Obtenção das componentes principais\n",
        "4. Correlação entre valores padronizados e scores dos componentes principais"
      ],
      "metadata": {
        "id": "w-XnU0xdHn_J"
      }
    },
    {
      "cell_type": "code",
      "source": [
        "df_stats_jokic_pca = df_stats_jokic.copy()"
      ],
      "metadata": {
        "id": "XevmNxfm8dta"
      },
      "execution_count": null,
      "outputs": []
    },
    {
      "cell_type": "code",
      "source": [
        "df_stats_jokic_pca.drop(columns=['Adversario', 'Conferencia', 'V_D', 'Casa_Fora'], inplace=True)"
      ],
      "metadata": {
        "id": "qYYJHCyaBae6"
      },
      "execution_count": null,
      "outputs": []
    },
    {
      "cell_type": "code",
      "source": [
        "df_stats_jokic_pca"
      ],
      "metadata": {
        "id": "vMtSCMfiBs8b"
      },
      "execution_count": null,
      "outputs": []
    },
    {
      "cell_type": "markdown",
      "source": [
        "### 1. Padronização dos dados"
      ],
      "metadata": {
        "id": "GaOcPNuwIG2a"
      }
    },
    {
      "cell_type": "code",
      "source": [
        "scaler = StandardScaler()\n",
        "stats_jokic_pca_scaled = scaler.fit_transform(df_stats_jokic_pca)"
      ],
      "metadata": {
        "id": "dYdh6Dk18gVe"
      },
      "execution_count": null,
      "outputs": []
    },
    {
      "cell_type": "code",
      "source": [
        "stats_jokic_pca_scaled"
      ],
      "metadata": {
        "id": "JmjuJXga8ryW"
      },
      "execution_count": null,
      "outputs": []
    },
    {
      "cell_type": "code",
      "source": [
        "columns = df_stats_jokic_pca.columns\n",
        "data = stats_jokic_pca_scaled\n",
        "\n",
        "df_stats_jokic_pca_scaled = pd.DataFrame(data=data, columns=columns)\n",
        "\n",
        "df_stats_jokic_pca_scaled"
      ],
      "metadata": {
        "id": "9WYqJH5b9vs6"
      },
      "execution_count": null,
      "outputs": []
    },
    {
      "cell_type": "code",
      "source": [
        "pca = PCA(random_state=0)\n",
        "pca = pca.fit(df_stats_jokic_pca_scaled)"
      ],
      "metadata": {
        "id": "4EyRz-kxb8Qj"
      },
      "execution_count": null,
      "outputs": []
    },
    {
      "cell_type": "code",
      "source": [
        "fig = px.line(x=range(1, len(pca.explained_variance_) + 1),\n",
        "              y=pca.explained_variance_,\n",
        "              labels={'x': 'N de componentes', 'y': 'Eigenvalues'})\n",
        "\n",
        "fig.update_layout(margin=dict(t=50,\n",
        "                              r=50,\n",
        "                              b=50,\n",
        "                              l=50),\n",
        "                  showlegend=False,\n",
        "                  width=1000,\n",
        "                  height=400,\n",
        "                  title='Scree plot')\n",
        "\n",
        "fig.add_hline(y=1, line_width=2, line_dash='dash', line_color='red')\n",
        "\n",
        "fig.show()"
      ],
      "metadata": {
        "id": "3JN2AnMEv_7D"
      },
      "execution_count": null,
      "outputs": []
    },
    {
      "cell_type": "markdown",
      "source": [
        "* **Autovalores**: Para o universo da PCA, podemos dizer que os autovalores mostram quantas variáveis cada autovalor representa em termos de variância. Quando dividimos os Autovalores pelo número de variáveis na base de dados, conseguimos entender a variância explicada que cada fator terá sobre a variância total das variáveis originais.\n",
        "\n",
        "* **Autovetores**: Para o universo da PCA, podemos definir os autovetores como sendo as projeções das variâncias capturadas das variáveis originais. Ele vai mostrar o quanto cada fator está capturando da variância de cada variável.\n",
        "\n",
        "*Obs: Enquanto o autovalor vai mostrar o quanto cada fator explica da variância TOTAL das variáveis, os autovetores vão mostrar o quanto da variância DE CADA variável está sendo explicada por cada fator.*\n",
        "\n",
        "Fonte: [Abrindo a Caixa Preta: PCA (Análise de Componentes Principais)](https://medium.com/@felipeverasaraujo/abrindo-a-caixa-preta-pca-an%C3%A1lise-de-componentes-principais-d5d400781dfe)"
      ],
      "metadata": {
        "id": "2NcIOzDS6DAF"
      }
    },
    {
      "cell_type": "markdown",
      "source": [
        "### 2. Obtenção dos autovalores e autovetores"
      ],
      "metadata": {
        "id": "HLgo4ZVCIMZ6"
      }
    },
    {
      "cell_type": "code",
      "source": [
        "matriz_autovalores = np.round(pca.explained_variance_, 2)  # Autovalores\n",
        "# Variância explicada por cada uma das componentes principais\n",
        "matriz_autovalores"
      ],
      "metadata": {
        "id": "FMY2p_bRdUwO"
      },
      "execution_count": null,
      "outputs": []
    },
    {
      "cell_type": "code",
      "source": [
        "(pca.explained_variance_).sum()  # Variância total do conjunto de dados padronizados (após normalização)"
      ],
      "metadata": {
        "id": "cs1na05L-5JL"
      },
      "execution_count": null,
      "outputs": []
    },
    {
      "cell_type": "code",
      "source": [
        "matriz_autovetores = pca.components_\n",
        "matriz_autovetores.shape"
      ],
      "metadata": {
        "id": "4znmFDZedg6R"
      },
      "execution_count": null,
      "outputs": []
    },
    {
      "cell_type": "code",
      "source": [
        "np.round(pca.explained_variance_ratio_, 2)\n",
        "# Cada valor é o resultado da divisão de cada autovalor pela soma dos autovalores"
      ],
      "metadata": {
        "id": "9Ef1VKEva2rD"
      },
      "execution_count": null,
      "outputs": []
    },
    {
      "cell_type": "code",
      "source": [
        "exp_var_cumul = np.cumsum(pca.explained_variance_ratio_)\n",
        "\n",
        "fig = px.area(x=range(1, exp_var_cumul.shape[0] + 1),\n",
        "              y=exp_var_cumul,\n",
        "              labels={'x': 'N de Components', 'y': 'Explained Variance'})\n",
        "\n",
        "fig.update_layout(yaxis=dict(tickmode='linear',\n",
        "                               tick0=0,\n",
        "                               dtick=0.1),\n",
        "                  xaxis=dict(tickmode='linear',\n",
        "                               tick0=0,\n",
        "                               dtick=5),\n",
        "                  margin=dict(t=50,\n",
        "                              r=50,\n",
        "                              b=50,\n",
        "                              l=50),\n",
        "                  showlegend=False,\n",
        "                  width=1000,\n",
        "                  height=400)\n",
        "\n",
        "fig.add_hline(y=0.8, line_width=2, line_dash='dash', line_color='green')\n",
        "\n",
        "fig.add_hline(y=0.9, line_width=2, line_dash='dash', line_color='red')\n",
        "\n",
        "fig.show()"
      ],
      "metadata": {
        "id": "HiWFZxRCgrn0"
      },
      "execution_count": null,
      "outputs": []
    },
    {
      "cell_type": "code",
      "source": [
        "exp_var_cumul_series = pd.Series(exp_var_cumul)\n",
        "\n",
        "exp_var_cumul_series_90_porcent = exp_var_cumul_series[exp_var_cumul_series >= 0.9]\n",
        "\n",
        "n_components = exp_var_cumul_series_90_porcent.index[0]\n",
        "# Número mínimo de componentes principais que explicam 90%\n",
        "# da variação do conjunto de dados\n",
        "n_components"
      ],
      "metadata": {
        "id": "Kwu5e-wwDnbc"
      },
      "execution_count": null,
      "outputs": []
    },
    {
      "cell_type": "markdown",
      "source": [
        "\n",
        "### Nº de componentes definido"
      ],
      "metadata": {
        "id": "4t0ofGnMD0dm"
      }
    },
    {
      "cell_type": "code",
      "source": [
        "nomes_colunas = {}\n",
        "\n",
        "for i, componente_principal in enumerate(range(1, n_components + 1)):\n",
        "    nome_componente = 'CP' + str(componente_principal)\n",
        "    colunas = {i: nome_componente}\n",
        "    nomes_colunas.update(colunas)\n",
        "\n",
        "nomes_colunas"
      ],
      "metadata": {
        "id": "5R-0HHK_HbNo"
      },
      "execution_count": null,
      "outputs": []
    },
    {
      "cell_type": "code",
      "source": [
        "pca_n_components = PCA(random_state=0, n_components=n_components)\n",
        "pca_n_components = pca.fit(df_stats_jokic_pca_scaled)"
      ],
      "metadata": {
        "id": "JFLc_6yGDZb7"
      },
      "execution_count": null,
      "outputs": []
    },
    {
      "cell_type": "code",
      "source": [
        "matriz_autovetores_n_components = pca_n_components.components_"
      ],
      "metadata": {
        "id": "9ZKGRDkGDQOZ"
      },
      "execution_count": null,
      "outputs": []
    },
    {
      "cell_type": "markdown",
      "source": [
        "### 3. Obtenção das componentes principais"
      ],
      "metadata": {
        "id": "G7coZQNOHe_4"
      }
    },
    {
      "cell_type": "code",
      "source": [
        "matriz_autovetores_n_components.shape"
      ],
      "metadata": {
        "id": "AK6dc_REsEMv"
      },
      "execution_count": null,
      "outputs": []
    },
    {
      "cell_type": "code",
      "source": [
        "matriz_autovetores_12_components = matriz_autovetores_n_components[:, 0:12]\n",
        "matriz_autovetores_12_components.shape"
      ],
      "metadata": {
        "id": "YA9f2j-TuAuy"
      },
      "execution_count": null,
      "outputs": []
    },
    {
      "cell_type": "code",
      "source": [
        "matrix_componentes_principais = np.matmul(df_stats_jokic_pca_scaled, matriz_autovetores_12_components)\n",
        "matrix_componentes_principais.rename(columns=nomes_colunas, inplace=True)"
      ],
      "metadata": {
        "id": "B9HwN5z-CxgW"
      },
      "execution_count": null,
      "outputs": []
    },
    {
      "cell_type": "markdown",
      "source": [
        "### 4. Correlação entre valores padronizados e scores dos componentes principais"
      ],
      "metadata": {
        "id": "MtCgWIrnIUth"
      }
    },
    {
      "cell_type": "code",
      "source": [
        "# Calculate correlations between each column of df_stats_jokic_pca_scaled and matrix_componentes_principais\n",
        "correlations = pd.DataFrame(index=df_stats_jokic_pca_scaled.columns, columns=matrix_componentes_principais.columns)\n",
        "\n",
        "for col1 in df_stats_jokic_pca_scaled.columns:\n",
        "    for col2 in matrix_componentes_principais.columns:\n",
        "        correlation_value = np.corrcoef(df_stats_jokic_pca_scaled[col1], matrix_componentes_principais[col2])[0, 1]\n",
        "        correlations.loc[col1, col2] = correlation_value.round(2)\n",
        "\n",
        "# Convert the correlation values to numeric type\n",
        "correlations = correlations.apply(pd.to_numeric)"
      ],
      "metadata": {
        "id": "kLRk8Q4NKVuF"
      },
      "execution_count": null,
      "outputs": []
    },
    {
      "cell_type": "code",
      "source": [
        "df_correlacoes = pd.DataFrame(correlations)\n",
        "df_correlacoes.rename(columns=nomes_colunas, inplace=True)\n",
        "\n",
        "fig = px.imshow(df_correlacoes,\n",
        "                text_auto=True,\n",
        "                aspect='auto',\n",
        "                color_continuous_scale='RdBu_r',\n",
        "                title='Correlação entre valores padronizados e scores das componentes principais')\n",
        "\n",
        "fig.update_layout(margin=dict(t=80,\n",
        "                              r=50,\n",
        "                              b=50,\n",
        "                              l=50),\n",
        "                  showlegend=False,\n",
        "                  width=1200,\n",
        "                  height=1200)\n",
        "\n",
        "fig.update_xaxes(side='top')\n",
        "\n",
        "fig.show()"
      ],
      "metadata": {
        "id": "CcMYr4rJK_xz"
      },
      "execution_count": null,
      "outputs": []
    },
    {
      "cell_type": "markdown",
      "source": [
        "#### Principais características para o estudo de similaridade"
      ],
      "metadata": {
        "id": "Wppu9rkb3aRS"
      }
    },
    {
      "cell_type": "code",
      "source": [
        "for i, coluna in enumerate(correlations):\n",
        "    componente_principal = 'CP' + str(i + 1)\n",
        "    caracteristicas_importantes = correlations[(correlations[componente_principal] >= 0.7)\n",
        "                                               | (correlations[componente_principal] <= -0.7)].index\n",
        "    print(coluna, caracteristicas_importantes)"
      ],
      "metadata": {
        "id": "YB4MNBvV14ab"
      },
      "execution_count": null,
      "outputs": []
    },
    {
      "cell_type": "markdown",
      "source": [
        "# RNN PyTorch"
      ],
      "metadata": {
        "id": "CmPHnG0GLk0e"
      }
    },
    {
      "cell_type": "code",
      "source": [
        "df_stats_jokic_rnn = df_stats_jokic_dummies.copy()\n",
        "df_stats_jokic_rnn"
      ],
      "metadata": {
        "id": "POqyZ3laEc8S"
      },
      "execution_count": null,
      "outputs": []
    },
    {
      "cell_type": "markdown",
      "source": [
        "## Normalização features"
      ],
      "metadata": {
        "id": "w9NUG1VcPZdF"
      }
    },
    {
      "cell_type": "code",
      "source": [
        "norm = Normalizer()\n",
        "\n",
        "X = df_stats_jokic_rnn.drop(columns=['Rebotes',\n",
        "                                     'Assistencias',\n",
        "                                     'Bloqueios',\n",
        "                                     'Desarmes',\n",
        "                                     'Faltas',\n",
        "                                     'Tunovers',\n",
        "                                     'Pontos'])\n",
        "\n",
        "y = df_stats_jokic_rnn['Pontos']"
      ],
      "metadata": {
        "id": "UY8lxJqNFkKq"
      },
      "execution_count": null,
      "outputs": []
    },
    {
      "cell_type": "code",
      "source": [
        "X.columns"
      ],
      "metadata": {
        "id": "VtOLMDwRGKw7"
      },
      "execution_count": null,
      "outputs": []
    },
    {
      "cell_type": "code",
      "source": [
        "X_norm = norm.fit_transform(X)\n",
        "\n",
        "df_x_norm = pd.DataFrame(X_norm, columns=X.columns)\n",
        "\n",
        "df_x_norm.head()"
      ],
      "metadata": {
        "id": "MN44fzegGftJ"
      },
      "execution_count": null,
      "outputs": []
    },
    {
      "cell_type": "markdown",
      "source": [
        "## Encoding targets"
      ],
      "metadata": {
        "id": "wWtOZySePktF"
      }
    },
    {
      "cell_type": "code",
      "source": [
        "encoder =  LabelEncoder()\n",
        "y_encod = encoder.fit_transform(y)"
      ],
      "metadata": {
        "id": "rfxp-DexPWIx"
      },
      "execution_count": null,
      "outputs": []
    },
    {
      "cell_type": "markdown",
      "source": [
        "## Train-Test Split"
      ],
      "metadata": {
        "id": "D4h6o8l6gFJS"
      }
    },
    {
      "cell_type": "code",
      "source": [
        "X_train, X_test, y_train, y_test = train_test_split(X_norm, y_encod, test_size=0.2, random_state=0)"
      ],
      "metadata": {
        "id": "G_1Li5YIgJVe"
      },
      "execution_count": null,
      "outputs": []
    },
    {
      "cell_type": "code",
      "source": [
        "x_train, x_valid, y_train, y_valid = train_test_split(X_train, y_train, test_size=0.1, random_state=0)"
      ],
      "metadata": {
        "id": "j5FW9tHsS7we"
      },
      "execution_count": null,
      "outputs": []
    },
    {
      "cell_type": "code",
      "source": [
        "import  torch\n",
        "from    torch import nn\n",
        "from    torchsummary import summary"
      ],
      "metadata": {
        "id": "SfuA94oSMZn_"
      },
      "execution_count": null,
      "outputs": []
    },
    {
      "cell_type": "code",
      "source": [],
      "metadata": {
        "id": "4XeBs0EBMv0g"
      },
      "execution_count": null,
      "outputs": []
    },
    {
      "cell_type": "code",
      "source": [],
      "metadata": {
        "id": "65TY2aSNLnZR"
      },
      "execution_count": null,
      "outputs": []
    },
    {
      "cell_type": "code",
      "source": [],
      "metadata": {
        "id": "dvSHcI4yMFLT"
      },
      "execution_count": null,
      "outputs": []
    },
    {
      "cell_type": "markdown",
      "source": [
        "## Foward"
      ],
      "metadata": {
        "id": "_-q15CbiOGR2"
      }
    },
    {
      "cell_type": "code",
      "source": [],
      "metadata": {
        "id": "J9PjCovqMU6B"
      },
      "execution_count": null,
      "outputs": []
    },
    {
      "cell_type": "code",
      "source": [],
      "metadata": {
        "id": "7jKM_CzhOVD7"
      },
      "execution_count": null,
      "outputs": []
    }
  ]
}