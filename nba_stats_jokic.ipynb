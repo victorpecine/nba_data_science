{
  "nbformat": 4,
  "nbformat_minor": 0,
  "metadata": {
    "colab": {
      "provenance": [],
      "toc_visible": true,
      "authorship_tag": "ABX9TyMSdD/xbikop9GsoNcnSr3v"
    },
    "kernelspec": {
      "name": "python3",
      "display_name": "Python 3"
    },
    "language_info": {
      "name": "python"
    }
  },
  "cells": [
    {
      "cell_type": "markdown",
      "source": [
        "# Bibliotecas"
      ],
      "metadata": {
        "id": "tl21fEEhcmUF"
      }
    },
    {
      "cell_type": "code",
      "metadata": {
        "id": "3HgONlLfnFks"
      },
      "source": [
        "! pip install selenium -U --quiet\n",
        "! apt-get update -U --quiet\n",
        "! apt install chromium-chromedriver -U --quiet"
      ],
      "execution_count": null,
      "outputs": []
    },
    {
      "cell_type": "code",
      "metadata": {
        "id": "cbGg6Csc6XBN"
      },
      "source": [
        "import  pandas as pd\n",
        "import  numpy as np\n",
        "import  re\n",
        "import  plotly.express as px\n",
        "import  plotly.graph_objects as go\n",
        "import  matplotlib.pyplot as plt\n",
        "\n",
        "from    plotly.subplots import make_subplots\n",
        "from    sklearn.decomposition import PCA\n",
        "from    sklearn.preprocessing import OneHotEncoder\n",
        "from    sklearn.preprocessing import (StandardScaler,\n",
        "                                      Normalizer,\n",
        "                                      LabelEncoder)\n",
        "from    sklearn.model_selection import (train_test_split,\n",
        "                                        KFold)\n",
        "from    sklearn.metrics import (confusion_matrix,\n",
        "                                accuracy_score,\n",
        "                                mean_absolute_error,\n",
        "                                mean_squared_error)\n",
        "from    scipy.stats import bartlett\n",
        "from    selenium import webdriver\n",
        "from    datetime import datetime\n",
        "from    google.colab import drive"
      ],
      "execution_count": 22,
      "outputs": []
    },
    {
      "cell_type": "code",
      "source": [
        "drive.mount('/content/drive')"
      ],
      "metadata": {
        "colab": {
          "base_uri": "https://localhost:8080/"
        },
        "id": "tSbuuyJXtvOJ",
        "outputId": "1b2389ba-3a2e-470d-9bf4-094adf78d667"
      },
      "execution_count": 7,
      "outputs": [
        {
          "output_type": "stream",
          "name": "stdout",
          "text": [
            "Drive already mounted at /content/drive; to attempt to forcibly remount, call drive.mount(\"/content/drive\", force_remount=True).\n"
          ]
        }
      ]
    },
    {
      "cell_type": "markdown",
      "source": [
        "# Webdriver"
      ],
      "metadata": {
        "id": "eUxJTizo_fXr"
      }
    },
    {
      "cell_type": "code",
      "metadata": {
        "id": "_7EX9wT8sY52"
      },
      "source": [
        "options = webdriver.ChromeOptions()\n",
        "options.add_argument('--headless')\n",
        "options.add_argument('--no-sandbox')\n",
        "options.add_argument('--disable-dev-shm-usage')"
      ],
      "execution_count": 8,
      "outputs": []
    },
    {
      "cell_type": "markdown",
      "source": [
        "# Nikola Jokic"
      ],
      "metadata": {
        "id": "Zv2KGpAT_tTL"
      }
    },
    {
      "cell_type": "code",
      "source": [
        "wd = webdriver.Chrome(options=options)"
      ],
      "metadata": {
        "id": "sX4iuo9yQiAx"
      },
      "execution_count": 59,
      "outputs": []
    },
    {
      "cell_type": "code",
      "source": [
        "ano_atual = datetime.now().year\n",
        "\n",
        "ano_atual"
      ],
      "metadata": {
        "colab": {
          "base_uri": "https://localhost:8080/"
        },
        "id": "mRPJLBpbRZ5m",
        "outputId": "88189e7e-7c99-443e-e412-638ca68ad76e"
      },
      "execution_count": 37,
      "outputs": [
        {
          "output_type": "execute_result",
          "data": {
            "text/plain": [
              "2023"
            ]
          },
          "metadata": {},
          "execution_count": 37
        }
      ]
    },
    {
      "cell_type": "code",
      "source": [
        "temporadas_jokic = np.arange(2016, ano_atual + 2)\n",
        "# Soma 2 para que o range inclua a temporada atual\n",
        "# Exemplo: a temporada que começou em 2023 é considerada 2023/2024\n",
        "\n",
        "lista_dfs = []\n",
        "\n",
        "# Coleta os dados do jogador nas temporadas\n",
        "for ano in temporadas_jokic:\n",
        "    site = 'https://www.espn.com.br/nba/jogador/jogo-a-jogo/_/id/3112335/tipo/nba/ano/' + str(ano)\n",
        "\n",
        "    wd.get(site)\n",
        "\n",
        "    html = wd.page_source\n",
        "\n",
        "    scrapping = pd.read_html(html)\n",
        "\n",
        "    for i, scrap in enumerate(scrapping):\n",
        "        # Concatena cada mês vindo do scrap de cada temporada\n",
        "        df_stats_ano = pd.concat([scrapping[i]])\n",
        "\n",
        "    df_stats_ano.insert(0, 'Temporada', ano)\n",
        "\n",
        "    lista_dfs.append(df_stats_ano)\n",
        "\n",
        "    df_stats_jokic = pd.concat(lista_dfs).reset_index(drop=True)"
      ],
      "metadata": {
        "id": "9Un0XbGUdM3k"
      },
      "execution_count": 60,
      "outputs": []
    },
    {
      "cell_type": "code",
      "source": [
        "df_stats_jokic"
      ],
      "metadata": {
        "colab": {
          "base_uri": "https://localhost:8080/",
          "height": 1000
        },
        "id": "uTMAanJ2SrOS",
        "outputId": "6f7a2283-ec7a-404e-b832-d91ed3667dc5"
      },
      "execution_count": 61,
      "outputs": [
        {
          "output_type": "execute_result",
          "data": {
            "text/plain": [
              "    Temporada       Date     ADV     Resultado  MIN    FG    FG%  3PT    3P%  \\\n",
              "0        2016  Sex 23/10  emUTAH        D98-78   34   4-8   50.0  0-0    0.0   \n",
              "1        2016  Dom 18/10   emOKC       D111-98   25   5-6   83.3  0-1    0.0   \n",
              "2        2016  Sáb 17/10    xPHX       V106-81   20   6-7   85.7  1-1  100.0   \n",
              "3        2016  Qua 14/10    emGS      V114-103   12   2-3   66.7  0-0    0.0   \n",
              "4        2016   Sex 9/10    xCHI       V112-94   20   6-9   66.7  0-1    0.0   \n",
              "5        2016   Qua 7/10   emDAL        V96-86   18   4-4  100.0  0-0    0.0   \n",
              "6        2016   Sáb 3/10   emLAC       D103-96   23   6-8   75.0  0-0    0.0   \n",
              "7        2017  Sáb 22/10    xDAL       V101-75   20   6-9   66.7  0-2    0.0   \n",
              "8        2017  Qua 19/10   emOKC        D97-87   26   5-9   55.6  0-1    0.0   \n",
              "9        2017  Seg 17/10   emPOR       V106-97   26   2-8   25.0  0-3    0.0   \n",
              "10       2017  Sáb 15/10     xGS   D129-128 TE   23  6-12   50.0  1-1  100.0   \n",
              "11       2017  Qui 13/10    xMIN       D105-88   15   3-4   75.0  0-1    0.0   \n",
              "12       2017   Sáb 8/10   emLAL       V101-97   29   3-9   33.3  0-2    0.0   \n",
              "13       2017   Ter 4/10    xTOR      V108-106   28   4-7   57.1  1-1  100.0   \n",
              "14       2018  Qua 11/10    xOKC        D96-86   23  5-16   31.3  0-3    0.0   \n",
              "15       2018   Dom 8/10    emSA      D122-100   24  7-13   53.8  1-1  100.0   \n",
              "16       2018   Ter 3/10   emLAL      V113-107   23  5-10   50.0  3-4   75.0   \n",
              "17       2018   Dom 1/10    emGS      V108-102   21   2-5   40.0  1-1  100.0   \n",
              "18       2019  Sáb 13/10   emCHI        V98-93   28   6-9   66.7  3-4   75.0   \n",
              "19       2019  Qua 10/10   emLAC      D109-103   12   1-3   33.3  0-1    0.0   \n",
              "20       2019   Sáb 6/10  xPERTH        V96-88   22   1-5   20.0  0-1    0.0   \n",
              "21       2019   Qua 3/10   emLAL      V113-111   23  7-10   70.0  2-2  100.0   \n",
              "22       2019   Seg 1/10    xLAL      V124-107   21   3-8   37.5  0-3    0.0   \n",
              "23       2020  Sex 18/10    xPOR      V110-104   16   5-8   62.5  1-3   33.3   \n",
              "24       2020  Ter 15/10   emPHX      V107-102   19   2-4   50.0  0-2    0.0   \n",
              "25       2020  Sex 11/10   emLAC       V111-91   22   5-7   71.4  0-1    0.0   \n",
              "26       2021  Sáb 19/12    xPOR       V129-96   17   2-3   66.7  0-1    0.0   \n",
              "27       2021  Qui 17/12    xPOR       V126-95   25   4-7   57.1  2-2  100.0   \n",
              "28       2021  Dom 13/12    emGS      D107-105   23  9-11   81.8  1-2   50.0   \n",
              "29       2022  Qui 14/10   emOKC       D108-99   30  8-11   72.7  1-1  100.0   \n",
              "30       2022   Sáb 9/10    xMIN   D114-112 TE   26  3-10   30.0  1-6   16.7   \n",
              "31       2022   Qui 7/10    emGS      D118-116   16  7-11   63.6  3-4   75.0   \n",
              "32       2023  Sáb 15/10    emGS      V119-112   22   4-5   80.0  1-2   50.0   \n",
              "33       2023  Qui 13/10    xLAC      V126-115   16   0-2    0.0  0-1    0.0   \n",
              "34       2023   Ter 4/10    xOKC      D112-101   15   0-1    0.0  0-1    0.0   \n",
              "35       2024  Sex 20/10   emLAC       V103-90   28  9-15   60.0  3-6   50.0   \n",
              "36       2024  Seg 16/10    xCHI      V116-102   23   6-9   66.7  1-3   33.3   \n",
              "37       2024  Sex 13/10   emCHI  D133-124 2TE   18  8-10   80.0  1-2   50.0   \n",
              "38       2024  Qua 11/10   emPHX      V115-107   18  4-11   36.4  0-3    0.0   \n",
              "\n",
              "      FT    FT%  REB   V  BLK  STL  PF  TO  PTS  \n",
              "0    3-8   37.5    9   2    0    2   5   1   11  \n",
              "1    1-2   50.0    4   1    1    0   3   0   11  \n",
              "2    6-6  100.0    4   0    2    0   6   1   19  \n",
              "3    1-2   50.0    4   1    0    1   2   3    5  \n",
              "4    2-3   66.7    5   0    0    3   0   2   14  \n",
              "5    0-0    0.0    3   0    0    1   1   3    8  \n",
              "6    2-3   66.7    8   0    1    1   6   0   14  \n",
              "7    0-0    0.0    6   4    0    1   5   4   12  \n",
              "8    1-2   50.0    6   1    0    1   2   2   11  \n",
              "9    1-1  100.0    8   1    0    2   0   0    5  \n",
              "10   1-2   50.0   10   2    0    1   4   2   14  \n",
              "11   5-6   83.3    6   2    0    0   6   4   11  \n",
              "12   2-2  100.0   10   3    1    4   3   2    8  \n",
              "13   3-5   60.0    6   3    1    0   3   0   12  \n",
              "14   2-4   50.0   11   3    0    0   2   3   12  \n",
              "15   4-4  100.0    7   4    1    1   4   3   19  \n",
              "16   3-3  100.0    2   3    1    0   3   3   16  \n",
              "17  7-10   70.0    6   2    0    0   3   3   12  \n",
              "18   0-2    0.0    7   5    1    2   4   5   15  \n",
              "19   2-2  100.0    1   3    0    1   2   2    4  \n",
              "20   1-4   25.0    7   3    0    2   4   3    3  \n",
              "21   4-5   80.0    6   4    0    1   2   3   20  \n",
              "22   8-8  100.0    4   3    0    0   2   6   14  \n",
              "23   0-0    0.0    3   1    0    1   1   0   11  \n",
              "24   0-0    0.0    4   4    1    1   3   3    4  \n",
              "25   0-0    0.0   11   3    1    3   1   3   10  \n",
              "26   0-0    0.0    5   6    1    2   0   0    4  \n",
              "27   2-2  100.0   11   8    2    0   2   5   12  \n",
              "28   7-7  100.0   10   5    0    1   4   0   26  \n",
              "29   5-5  100.0   12   5    1    3   4   2   22  \n",
              "30   3-4   75.0    9  10    2    0   2   2   10  \n",
              "31   0-0    0.0   10   2    2    0   2   1   17  \n",
              "32   8-9   88.9    4   5    1    0   3   6   17  \n",
              "33   2-2  100.0    3   7    0    1   4   4    2  \n",
              "34   2-2  100.0    5   3    0    2   0   3    2  \n",
              "35   4-5   80.0   14   8    0    1   3   1   25  \n",
              "36   2-5   40.0    9   5    1    1   4   2   15  \n",
              "37   0-0    0.0    6   4    1    2   1   3   17  \n",
              "38   1-1  100.0    3   2    0    2   2   2    9  "
            ],
            "text/html": [
              "\n",
              "  <div id=\"df-263fd54c-e9e9-4787-a3e8-d40425d8a349\" class=\"colab-df-container\">\n",
              "    <div>\n",
              "<style scoped>\n",
              "    .dataframe tbody tr th:only-of-type {\n",
              "        vertical-align: middle;\n",
              "    }\n",
              "\n",
              "    .dataframe tbody tr th {\n",
              "        vertical-align: top;\n",
              "    }\n",
              "\n",
              "    .dataframe thead th {\n",
              "        text-align: right;\n",
              "    }\n",
              "</style>\n",
              "<table border=\"1\" class=\"dataframe\">\n",
              "  <thead>\n",
              "    <tr style=\"text-align: right;\">\n",
              "      <th></th>\n",
              "      <th>Temporada</th>\n",
              "      <th>Date</th>\n",
              "      <th>ADV</th>\n",
              "      <th>Resultado</th>\n",
              "      <th>MIN</th>\n",
              "      <th>FG</th>\n",
              "      <th>FG%</th>\n",
              "      <th>3PT</th>\n",
              "      <th>3P%</th>\n",
              "      <th>FT</th>\n",
              "      <th>FT%</th>\n",
              "      <th>REB</th>\n",
              "      <th>V</th>\n",
              "      <th>BLK</th>\n",
              "      <th>STL</th>\n",
              "      <th>PF</th>\n",
              "      <th>TO</th>\n",
              "      <th>PTS</th>\n",
              "    </tr>\n",
              "  </thead>\n",
              "  <tbody>\n",
              "    <tr>\n",
              "      <th>0</th>\n",
              "      <td>2016</td>\n",
              "      <td>Sex 23/10</td>\n",
              "      <td>emUTAH</td>\n",
              "      <td>D98-78</td>\n",
              "      <td>34</td>\n",
              "      <td>4-8</td>\n",
              "      <td>50.0</td>\n",
              "      <td>0-0</td>\n",
              "      <td>0.0</td>\n",
              "      <td>3-8</td>\n",
              "      <td>37.5</td>\n",
              "      <td>9</td>\n",
              "      <td>2</td>\n",
              "      <td>0</td>\n",
              "      <td>2</td>\n",
              "      <td>5</td>\n",
              "      <td>1</td>\n",
              "      <td>11</td>\n",
              "    </tr>\n",
              "    <tr>\n",
              "      <th>1</th>\n",
              "      <td>2016</td>\n",
              "      <td>Dom 18/10</td>\n",
              "      <td>emOKC</td>\n",
              "      <td>D111-98</td>\n",
              "      <td>25</td>\n",
              "      <td>5-6</td>\n",
              "      <td>83.3</td>\n",
              "      <td>0-1</td>\n",
              "      <td>0.0</td>\n",
              "      <td>1-2</td>\n",
              "      <td>50.0</td>\n",
              "      <td>4</td>\n",
              "      <td>1</td>\n",
              "      <td>1</td>\n",
              "      <td>0</td>\n",
              "      <td>3</td>\n",
              "      <td>0</td>\n",
              "      <td>11</td>\n",
              "    </tr>\n",
              "    <tr>\n",
              "      <th>2</th>\n",
              "      <td>2016</td>\n",
              "      <td>Sáb 17/10</td>\n",
              "      <td>xPHX</td>\n",
              "      <td>V106-81</td>\n",
              "      <td>20</td>\n",
              "      <td>6-7</td>\n",
              "      <td>85.7</td>\n",
              "      <td>1-1</td>\n",
              "      <td>100.0</td>\n",
              "      <td>6-6</td>\n",
              "      <td>100.0</td>\n",
              "      <td>4</td>\n",
              "      <td>0</td>\n",
              "      <td>2</td>\n",
              "      <td>0</td>\n",
              "      <td>6</td>\n",
              "      <td>1</td>\n",
              "      <td>19</td>\n",
              "    </tr>\n",
              "    <tr>\n",
              "      <th>3</th>\n",
              "      <td>2016</td>\n",
              "      <td>Qua 14/10</td>\n",
              "      <td>emGS</td>\n",
              "      <td>V114-103</td>\n",
              "      <td>12</td>\n",
              "      <td>2-3</td>\n",
              "      <td>66.7</td>\n",
              "      <td>0-0</td>\n",
              "      <td>0.0</td>\n",
              "      <td>1-2</td>\n",
              "      <td>50.0</td>\n",
              "      <td>4</td>\n",
              "      <td>1</td>\n",
              "      <td>0</td>\n",
              "      <td>1</td>\n",
              "      <td>2</td>\n",
              "      <td>3</td>\n",
              "      <td>5</td>\n",
              "    </tr>\n",
              "    <tr>\n",
              "      <th>4</th>\n",
              "      <td>2016</td>\n",
              "      <td>Sex 9/10</td>\n",
              "      <td>xCHI</td>\n",
              "      <td>V112-94</td>\n",
              "      <td>20</td>\n",
              "      <td>6-9</td>\n",
              "      <td>66.7</td>\n",
              "      <td>0-1</td>\n",
              "      <td>0.0</td>\n",
              "      <td>2-3</td>\n",
              "      <td>66.7</td>\n",
              "      <td>5</td>\n",
              "      <td>0</td>\n",
              "      <td>0</td>\n",
              "      <td>3</td>\n",
              "      <td>0</td>\n",
              "      <td>2</td>\n",
              "      <td>14</td>\n",
              "    </tr>\n",
              "    <tr>\n",
              "      <th>5</th>\n",
              "      <td>2016</td>\n",
              "      <td>Qua 7/10</td>\n",
              "      <td>emDAL</td>\n",
              "      <td>V96-86</td>\n",
              "      <td>18</td>\n",
              "      <td>4-4</td>\n",
              "      <td>100.0</td>\n",
              "      <td>0-0</td>\n",
              "      <td>0.0</td>\n",
              "      <td>0-0</td>\n",
              "      <td>0.0</td>\n",
              "      <td>3</td>\n",
              "      <td>0</td>\n",
              "      <td>0</td>\n",
              "      <td>1</td>\n",
              "      <td>1</td>\n",
              "      <td>3</td>\n",
              "      <td>8</td>\n",
              "    </tr>\n",
              "    <tr>\n",
              "      <th>6</th>\n",
              "      <td>2016</td>\n",
              "      <td>Sáb 3/10</td>\n",
              "      <td>emLAC</td>\n",
              "      <td>D103-96</td>\n",
              "      <td>23</td>\n",
              "      <td>6-8</td>\n",
              "      <td>75.0</td>\n",
              "      <td>0-0</td>\n",
              "      <td>0.0</td>\n",
              "      <td>2-3</td>\n",
              "      <td>66.7</td>\n",
              "      <td>8</td>\n",
              "      <td>0</td>\n",
              "      <td>1</td>\n",
              "      <td>1</td>\n",
              "      <td>6</td>\n",
              "      <td>0</td>\n",
              "      <td>14</td>\n",
              "    </tr>\n",
              "    <tr>\n",
              "      <th>7</th>\n",
              "      <td>2017</td>\n",
              "      <td>Sáb 22/10</td>\n",
              "      <td>xDAL</td>\n",
              "      <td>V101-75</td>\n",
              "      <td>20</td>\n",
              "      <td>6-9</td>\n",
              "      <td>66.7</td>\n",
              "      <td>0-2</td>\n",
              "      <td>0.0</td>\n",
              "      <td>0-0</td>\n",
              "      <td>0.0</td>\n",
              "      <td>6</td>\n",
              "      <td>4</td>\n",
              "      <td>0</td>\n",
              "      <td>1</td>\n",
              "      <td>5</td>\n",
              "      <td>4</td>\n",
              "      <td>12</td>\n",
              "    </tr>\n",
              "    <tr>\n",
              "      <th>8</th>\n",
              "      <td>2017</td>\n",
              "      <td>Qua 19/10</td>\n",
              "      <td>emOKC</td>\n",
              "      <td>D97-87</td>\n",
              "      <td>26</td>\n",
              "      <td>5-9</td>\n",
              "      <td>55.6</td>\n",
              "      <td>0-1</td>\n",
              "      <td>0.0</td>\n",
              "      <td>1-2</td>\n",
              "      <td>50.0</td>\n",
              "      <td>6</td>\n",
              "      <td>1</td>\n",
              "      <td>0</td>\n",
              "      <td>1</td>\n",
              "      <td>2</td>\n",
              "      <td>2</td>\n",
              "      <td>11</td>\n",
              "    </tr>\n",
              "    <tr>\n",
              "      <th>9</th>\n",
              "      <td>2017</td>\n",
              "      <td>Seg 17/10</td>\n",
              "      <td>emPOR</td>\n",
              "      <td>V106-97</td>\n",
              "      <td>26</td>\n",
              "      <td>2-8</td>\n",
              "      <td>25.0</td>\n",
              "      <td>0-3</td>\n",
              "      <td>0.0</td>\n",
              "      <td>1-1</td>\n",
              "      <td>100.0</td>\n",
              "      <td>8</td>\n",
              "      <td>1</td>\n",
              "      <td>0</td>\n",
              "      <td>2</td>\n",
              "      <td>0</td>\n",
              "      <td>0</td>\n",
              "      <td>5</td>\n",
              "    </tr>\n",
              "    <tr>\n",
              "      <th>10</th>\n",
              "      <td>2017</td>\n",
              "      <td>Sáb 15/10</td>\n",
              "      <td>xGS</td>\n",
              "      <td>D129-128 TE</td>\n",
              "      <td>23</td>\n",
              "      <td>6-12</td>\n",
              "      <td>50.0</td>\n",
              "      <td>1-1</td>\n",
              "      <td>100.0</td>\n",
              "      <td>1-2</td>\n",
              "      <td>50.0</td>\n",
              "      <td>10</td>\n",
              "      <td>2</td>\n",
              "      <td>0</td>\n",
              "      <td>1</td>\n",
              "      <td>4</td>\n",
              "      <td>2</td>\n",
              "      <td>14</td>\n",
              "    </tr>\n",
              "    <tr>\n",
              "      <th>11</th>\n",
              "      <td>2017</td>\n",
              "      <td>Qui 13/10</td>\n",
              "      <td>xMIN</td>\n",
              "      <td>D105-88</td>\n",
              "      <td>15</td>\n",
              "      <td>3-4</td>\n",
              "      <td>75.0</td>\n",
              "      <td>0-1</td>\n",
              "      <td>0.0</td>\n",
              "      <td>5-6</td>\n",
              "      <td>83.3</td>\n",
              "      <td>6</td>\n",
              "      <td>2</td>\n",
              "      <td>0</td>\n",
              "      <td>0</td>\n",
              "      <td>6</td>\n",
              "      <td>4</td>\n",
              "      <td>11</td>\n",
              "    </tr>\n",
              "    <tr>\n",
              "      <th>12</th>\n",
              "      <td>2017</td>\n",
              "      <td>Sáb 8/10</td>\n",
              "      <td>emLAL</td>\n",
              "      <td>V101-97</td>\n",
              "      <td>29</td>\n",
              "      <td>3-9</td>\n",
              "      <td>33.3</td>\n",
              "      <td>0-2</td>\n",
              "      <td>0.0</td>\n",
              "      <td>2-2</td>\n",
              "      <td>100.0</td>\n",
              "      <td>10</td>\n",
              "      <td>3</td>\n",
              "      <td>1</td>\n",
              "      <td>4</td>\n",
              "      <td>3</td>\n",
              "      <td>2</td>\n",
              "      <td>8</td>\n",
              "    </tr>\n",
              "    <tr>\n",
              "      <th>13</th>\n",
              "      <td>2017</td>\n",
              "      <td>Ter 4/10</td>\n",
              "      <td>xTOR</td>\n",
              "      <td>V108-106</td>\n",
              "      <td>28</td>\n",
              "      <td>4-7</td>\n",
              "      <td>57.1</td>\n",
              "      <td>1-1</td>\n",
              "      <td>100.0</td>\n",
              "      <td>3-5</td>\n",
              "      <td>60.0</td>\n",
              "      <td>6</td>\n",
              "      <td>3</td>\n",
              "      <td>1</td>\n",
              "      <td>0</td>\n",
              "      <td>3</td>\n",
              "      <td>0</td>\n",
              "      <td>12</td>\n",
              "    </tr>\n",
              "    <tr>\n",
              "      <th>14</th>\n",
              "      <td>2018</td>\n",
              "      <td>Qua 11/10</td>\n",
              "      <td>xOKC</td>\n",
              "      <td>D96-86</td>\n",
              "      <td>23</td>\n",
              "      <td>5-16</td>\n",
              "      <td>31.3</td>\n",
              "      <td>0-3</td>\n",
              "      <td>0.0</td>\n",
              "      <td>2-4</td>\n",
              "      <td>50.0</td>\n",
              "      <td>11</td>\n",
              "      <td>3</td>\n",
              "      <td>0</td>\n",
              "      <td>0</td>\n",
              "      <td>2</td>\n",
              "      <td>3</td>\n",
              "      <td>12</td>\n",
              "    </tr>\n",
              "    <tr>\n",
              "      <th>15</th>\n",
              "      <td>2018</td>\n",
              "      <td>Dom 8/10</td>\n",
              "      <td>emSA</td>\n",
              "      <td>D122-100</td>\n",
              "      <td>24</td>\n",
              "      <td>7-13</td>\n",
              "      <td>53.8</td>\n",
              "      <td>1-1</td>\n",
              "      <td>100.0</td>\n",
              "      <td>4-4</td>\n",
              "      <td>100.0</td>\n",
              "      <td>7</td>\n",
              "      <td>4</td>\n",
              "      <td>1</td>\n",
              "      <td>1</td>\n",
              "      <td>4</td>\n",
              "      <td>3</td>\n",
              "      <td>19</td>\n",
              "    </tr>\n",
              "    <tr>\n",
              "      <th>16</th>\n",
              "      <td>2018</td>\n",
              "      <td>Ter 3/10</td>\n",
              "      <td>emLAL</td>\n",
              "      <td>V113-107</td>\n",
              "      <td>23</td>\n",
              "      <td>5-10</td>\n",
              "      <td>50.0</td>\n",
              "      <td>3-4</td>\n",
              "      <td>75.0</td>\n",
              "      <td>3-3</td>\n",
              "      <td>100.0</td>\n",
              "      <td>2</td>\n",
              "      <td>3</td>\n",
              "      <td>1</td>\n",
              "      <td>0</td>\n",
              "      <td>3</td>\n",
              "      <td>3</td>\n",
              "      <td>16</td>\n",
              "    </tr>\n",
              "    <tr>\n",
              "      <th>17</th>\n",
              "      <td>2018</td>\n",
              "      <td>Dom 1/10</td>\n",
              "      <td>emGS</td>\n",
              "      <td>V108-102</td>\n",
              "      <td>21</td>\n",
              "      <td>2-5</td>\n",
              "      <td>40.0</td>\n",
              "      <td>1-1</td>\n",
              "      <td>100.0</td>\n",
              "      <td>7-10</td>\n",
              "      <td>70.0</td>\n",
              "      <td>6</td>\n",
              "      <td>2</td>\n",
              "      <td>0</td>\n",
              "      <td>0</td>\n",
              "      <td>3</td>\n",
              "      <td>3</td>\n",
              "      <td>12</td>\n",
              "    </tr>\n",
              "    <tr>\n",
              "      <th>18</th>\n",
              "      <td>2019</td>\n",
              "      <td>Sáb 13/10</td>\n",
              "      <td>emCHI</td>\n",
              "      <td>V98-93</td>\n",
              "      <td>28</td>\n",
              "      <td>6-9</td>\n",
              "      <td>66.7</td>\n",
              "      <td>3-4</td>\n",
              "      <td>75.0</td>\n",
              "      <td>0-2</td>\n",
              "      <td>0.0</td>\n",
              "      <td>7</td>\n",
              "      <td>5</td>\n",
              "      <td>1</td>\n",
              "      <td>2</td>\n",
              "      <td>4</td>\n",
              "      <td>5</td>\n",
              "      <td>15</td>\n",
              "    </tr>\n",
              "    <tr>\n",
              "      <th>19</th>\n",
              "      <td>2019</td>\n",
              "      <td>Qua 10/10</td>\n",
              "      <td>emLAC</td>\n",
              "      <td>D109-103</td>\n",
              "      <td>12</td>\n",
              "      <td>1-3</td>\n",
              "      <td>33.3</td>\n",
              "      <td>0-1</td>\n",
              "      <td>0.0</td>\n",
              "      <td>2-2</td>\n",
              "      <td>100.0</td>\n",
              "      <td>1</td>\n",
              "      <td>3</td>\n",
              "      <td>0</td>\n",
              "      <td>1</td>\n",
              "      <td>2</td>\n",
              "      <td>2</td>\n",
              "      <td>4</td>\n",
              "    </tr>\n",
              "    <tr>\n",
              "      <th>20</th>\n",
              "      <td>2019</td>\n",
              "      <td>Sáb 6/10</td>\n",
              "      <td>xPERTH</td>\n",
              "      <td>V96-88</td>\n",
              "      <td>22</td>\n",
              "      <td>1-5</td>\n",
              "      <td>20.0</td>\n",
              "      <td>0-1</td>\n",
              "      <td>0.0</td>\n",
              "      <td>1-4</td>\n",
              "      <td>25.0</td>\n",
              "      <td>7</td>\n",
              "      <td>3</td>\n",
              "      <td>0</td>\n",
              "      <td>2</td>\n",
              "      <td>4</td>\n",
              "      <td>3</td>\n",
              "      <td>3</td>\n",
              "    </tr>\n",
              "    <tr>\n",
              "      <th>21</th>\n",
              "      <td>2019</td>\n",
              "      <td>Qua 3/10</td>\n",
              "      <td>emLAL</td>\n",
              "      <td>V113-111</td>\n",
              "      <td>23</td>\n",
              "      <td>7-10</td>\n",
              "      <td>70.0</td>\n",
              "      <td>2-2</td>\n",
              "      <td>100.0</td>\n",
              "      <td>4-5</td>\n",
              "      <td>80.0</td>\n",
              "      <td>6</td>\n",
              "      <td>4</td>\n",
              "      <td>0</td>\n",
              "      <td>1</td>\n",
              "      <td>2</td>\n",
              "      <td>3</td>\n",
              "      <td>20</td>\n",
              "    </tr>\n",
              "    <tr>\n",
              "      <th>22</th>\n",
              "      <td>2019</td>\n",
              "      <td>Seg 1/10</td>\n",
              "      <td>xLAL</td>\n",
              "      <td>V124-107</td>\n",
              "      <td>21</td>\n",
              "      <td>3-8</td>\n",
              "      <td>37.5</td>\n",
              "      <td>0-3</td>\n",
              "      <td>0.0</td>\n",
              "      <td>8-8</td>\n",
              "      <td>100.0</td>\n",
              "      <td>4</td>\n",
              "      <td>3</td>\n",
              "      <td>0</td>\n",
              "      <td>0</td>\n",
              "      <td>2</td>\n",
              "      <td>6</td>\n",
              "      <td>14</td>\n",
              "    </tr>\n",
              "    <tr>\n",
              "      <th>23</th>\n",
              "      <td>2020</td>\n",
              "      <td>Sex 18/10</td>\n",
              "      <td>xPOR</td>\n",
              "      <td>V110-104</td>\n",
              "      <td>16</td>\n",
              "      <td>5-8</td>\n",
              "      <td>62.5</td>\n",
              "      <td>1-3</td>\n",
              "      <td>33.3</td>\n",
              "      <td>0-0</td>\n",
              "      <td>0.0</td>\n",
              "      <td>3</td>\n",
              "      <td>1</td>\n",
              "      <td>0</td>\n",
              "      <td>1</td>\n",
              "      <td>1</td>\n",
              "      <td>0</td>\n",
              "      <td>11</td>\n",
              "    </tr>\n",
              "    <tr>\n",
              "      <th>24</th>\n",
              "      <td>2020</td>\n",
              "      <td>Ter 15/10</td>\n",
              "      <td>emPHX</td>\n",
              "      <td>V107-102</td>\n",
              "      <td>19</td>\n",
              "      <td>2-4</td>\n",
              "      <td>50.0</td>\n",
              "      <td>0-2</td>\n",
              "      <td>0.0</td>\n",
              "      <td>0-0</td>\n",
              "      <td>0.0</td>\n",
              "      <td>4</td>\n",
              "      <td>4</td>\n",
              "      <td>1</td>\n",
              "      <td>1</td>\n",
              "      <td>3</td>\n",
              "      <td>3</td>\n",
              "      <td>4</td>\n",
              "    </tr>\n",
              "    <tr>\n",
              "      <th>25</th>\n",
              "      <td>2020</td>\n",
              "      <td>Sex 11/10</td>\n",
              "      <td>emLAC</td>\n",
              "      <td>V111-91</td>\n",
              "      <td>22</td>\n",
              "      <td>5-7</td>\n",
              "      <td>71.4</td>\n",
              "      <td>0-1</td>\n",
              "      <td>0.0</td>\n",
              "      <td>0-0</td>\n",
              "      <td>0.0</td>\n",
              "      <td>11</td>\n",
              "      <td>3</td>\n",
              "      <td>1</td>\n",
              "      <td>3</td>\n",
              "      <td>1</td>\n",
              "      <td>3</td>\n",
              "      <td>10</td>\n",
              "    </tr>\n",
              "    <tr>\n",
              "      <th>26</th>\n",
              "      <td>2021</td>\n",
              "      <td>Sáb 19/12</td>\n",
              "      <td>xPOR</td>\n",
              "      <td>V129-96</td>\n",
              "      <td>17</td>\n",
              "      <td>2-3</td>\n",
              "      <td>66.7</td>\n",
              "      <td>0-1</td>\n",
              "      <td>0.0</td>\n",
              "      <td>0-0</td>\n",
              "      <td>0.0</td>\n",
              "      <td>5</td>\n",
              "      <td>6</td>\n",
              "      <td>1</td>\n",
              "      <td>2</td>\n",
              "      <td>0</td>\n",
              "      <td>0</td>\n",
              "      <td>4</td>\n",
              "    </tr>\n",
              "    <tr>\n",
              "      <th>27</th>\n",
              "      <td>2021</td>\n",
              "      <td>Qui 17/12</td>\n",
              "      <td>xPOR</td>\n",
              "      <td>V126-95</td>\n",
              "      <td>25</td>\n",
              "      <td>4-7</td>\n",
              "      <td>57.1</td>\n",
              "      <td>2-2</td>\n",
              "      <td>100.0</td>\n",
              "      <td>2-2</td>\n",
              "      <td>100.0</td>\n",
              "      <td>11</td>\n",
              "      <td>8</td>\n",
              "      <td>2</td>\n",
              "      <td>0</td>\n",
              "      <td>2</td>\n",
              "      <td>5</td>\n",
              "      <td>12</td>\n",
              "    </tr>\n",
              "    <tr>\n",
              "      <th>28</th>\n",
              "      <td>2021</td>\n",
              "      <td>Dom 13/12</td>\n",
              "      <td>emGS</td>\n",
              "      <td>D107-105</td>\n",
              "      <td>23</td>\n",
              "      <td>9-11</td>\n",
              "      <td>81.8</td>\n",
              "      <td>1-2</td>\n",
              "      <td>50.0</td>\n",
              "      <td>7-7</td>\n",
              "      <td>100.0</td>\n",
              "      <td>10</td>\n",
              "      <td>5</td>\n",
              "      <td>0</td>\n",
              "      <td>1</td>\n",
              "      <td>4</td>\n",
              "      <td>0</td>\n",
              "      <td>26</td>\n",
              "    </tr>\n",
              "    <tr>\n",
              "      <th>29</th>\n",
              "      <td>2022</td>\n",
              "      <td>Qui 14/10</td>\n",
              "      <td>emOKC</td>\n",
              "      <td>D108-99</td>\n",
              "      <td>30</td>\n",
              "      <td>8-11</td>\n",
              "      <td>72.7</td>\n",
              "      <td>1-1</td>\n",
              "      <td>100.0</td>\n",
              "      <td>5-5</td>\n",
              "      <td>100.0</td>\n",
              "      <td>12</td>\n",
              "      <td>5</td>\n",
              "      <td>1</td>\n",
              "      <td>3</td>\n",
              "      <td>4</td>\n",
              "      <td>2</td>\n",
              "      <td>22</td>\n",
              "    </tr>\n",
              "    <tr>\n",
              "      <th>30</th>\n",
              "      <td>2022</td>\n",
              "      <td>Sáb 9/10</td>\n",
              "      <td>xMIN</td>\n",
              "      <td>D114-112 TE</td>\n",
              "      <td>26</td>\n",
              "      <td>3-10</td>\n",
              "      <td>30.0</td>\n",
              "      <td>1-6</td>\n",
              "      <td>16.7</td>\n",
              "      <td>3-4</td>\n",
              "      <td>75.0</td>\n",
              "      <td>9</td>\n",
              "      <td>10</td>\n",
              "      <td>2</td>\n",
              "      <td>0</td>\n",
              "      <td>2</td>\n",
              "      <td>2</td>\n",
              "      <td>10</td>\n",
              "    </tr>\n",
              "    <tr>\n",
              "      <th>31</th>\n",
              "      <td>2022</td>\n",
              "      <td>Qui 7/10</td>\n",
              "      <td>emGS</td>\n",
              "      <td>D118-116</td>\n",
              "      <td>16</td>\n",
              "      <td>7-11</td>\n",
              "      <td>63.6</td>\n",
              "      <td>3-4</td>\n",
              "      <td>75.0</td>\n",
              "      <td>0-0</td>\n",
              "      <td>0.0</td>\n",
              "      <td>10</td>\n",
              "      <td>2</td>\n",
              "      <td>2</td>\n",
              "      <td>0</td>\n",
              "      <td>2</td>\n",
              "      <td>1</td>\n",
              "      <td>17</td>\n",
              "    </tr>\n",
              "    <tr>\n",
              "      <th>32</th>\n",
              "      <td>2023</td>\n",
              "      <td>Sáb 15/10</td>\n",
              "      <td>emGS</td>\n",
              "      <td>V119-112</td>\n",
              "      <td>22</td>\n",
              "      <td>4-5</td>\n",
              "      <td>80.0</td>\n",
              "      <td>1-2</td>\n",
              "      <td>50.0</td>\n",
              "      <td>8-9</td>\n",
              "      <td>88.9</td>\n",
              "      <td>4</td>\n",
              "      <td>5</td>\n",
              "      <td>1</td>\n",
              "      <td>0</td>\n",
              "      <td>3</td>\n",
              "      <td>6</td>\n",
              "      <td>17</td>\n",
              "    </tr>\n",
              "    <tr>\n",
              "      <th>33</th>\n",
              "      <td>2023</td>\n",
              "      <td>Qui 13/10</td>\n",
              "      <td>xLAC</td>\n",
              "      <td>V126-115</td>\n",
              "      <td>16</td>\n",
              "      <td>0-2</td>\n",
              "      <td>0.0</td>\n",
              "      <td>0-1</td>\n",
              "      <td>0.0</td>\n",
              "      <td>2-2</td>\n",
              "      <td>100.0</td>\n",
              "      <td>3</td>\n",
              "      <td>7</td>\n",
              "      <td>0</td>\n",
              "      <td>1</td>\n",
              "      <td>4</td>\n",
              "      <td>4</td>\n",
              "      <td>2</td>\n",
              "    </tr>\n",
              "    <tr>\n",
              "      <th>34</th>\n",
              "      <td>2023</td>\n",
              "      <td>Ter 4/10</td>\n",
              "      <td>xOKC</td>\n",
              "      <td>D112-101</td>\n",
              "      <td>15</td>\n",
              "      <td>0-1</td>\n",
              "      <td>0.0</td>\n",
              "      <td>0-1</td>\n",
              "      <td>0.0</td>\n",
              "      <td>2-2</td>\n",
              "      <td>100.0</td>\n",
              "      <td>5</td>\n",
              "      <td>3</td>\n",
              "      <td>0</td>\n",
              "      <td>2</td>\n",
              "      <td>0</td>\n",
              "      <td>3</td>\n",
              "      <td>2</td>\n",
              "    </tr>\n",
              "    <tr>\n",
              "      <th>35</th>\n",
              "      <td>2024</td>\n",
              "      <td>Sex 20/10</td>\n",
              "      <td>emLAC</td>\n",
              "      <td>V103-90</td>\n",
              "      <td>28</td>\n",
              "      <td>9-15</td>\n",
              "      <td>60.0</td>\n",
              "      <td>3-6</td>\n",
              "      <td>50.0</td>\n",
              "      <td>4-5</td>\n",
              "      <td>80.0</td>\n",
              "      <td>14</td>\n",
              "      <td>8</td>\n",
              "      <td>0</td>\n",
              "      <td>1</td>\n",
              "      <td>3</td>\n",
              "      <td>1</td>\n",
              "      <td>25</td>\n",
              "    </tr>\n",
              "    <tr>\n",
              "      <th>36</th>\n",
              "      <td>2024</td>\n",
              "      <td>Seg 16/10</td>\n",
              "      <td>xCHI</td>\n",
              "      <td>V116-102</td>\n",
              "      <td>23</td>\n",
              "      <td>6-9</td>\n",
              "      <td>66.7</td>\n",
              "      <td>1-3</td>\n",
              "      <td>33.3</td>\n",
              "      <td>2-5</td>\n",
              "      <td>40.0</td>\n",
              "      <td>9</td>\n",
              "      <td>5</td>\n",
              "      <td>1</td>\n",
              "      <td>1</td>\n",
              "      <td>4</td>\n",
              "      <td>2</td>\n",
              "      <td>15</td>\n",
              "    </tr>\n",
              "    <tr>\n",
              "      <th>37</th>\n",
              "      <td>2024</td>\n",
              "      <td>Sex 13/10</td>\n",
              "      <td>emCHI</td>\n",
              "      <td>D133-124 2TE</td>\n",
              "      <td>18</td>\n",
              "      <td>8-10</td>\n",
              "      <td>80.0</td>\n",
              "      <td>1-2</td>\n",
              "      <td>50.0</td>\n",
              "      <td>0-0</td>\n",
              "      <td>0.0</td>\n",
              "      <td>6</td>\n",
              "      <td>4</td>\n",
              "      <td>1</td>\n",
              "      <td>2</td>\n",
              "      <td>1</td>\n",
              "      <td>3</td>\n",
              "      <td>17</td>\n",
              "    </tr>\n",
              "    <tr>\n",
              "      <th>38</th>\n",
              "      <td>2024</td>\n",
              "      <td>Qua 11/10</td>\n",
              "      <td>emPHX</td>\n",
              "      <td>V115-107</td>\n",
              "      <td>18</td>\n",
              "      <td>4-11</td>\n",
              "      <td>36.4</td>\n",
              "      <td>0-3</td>\n",
              "      <td>0.0</td>\n",
              "      <td>1-1</td>\n",
              "      <td>100.0</td>\n",
              "      <td>3</td>\n",
              "      <td>2</td>\n",
              "      <td>0</td>\n",
              "      <td>2</td>\n",
              "      <td>2</td>\n",
              "      <td>2</td>\n",
              "      <td>9</td>\n",
              "    </tr>\n",
              "  </tbody>\n",
              "</table>\n",
              "</div>\n",
              "    <div class=\"colab-df-buttons\">\n",
              "\n",
              "  <div class=\"colab-df-container\">\n",
              "    <button class=\"colab-df-convert\" onclick=\"convertToInteractive('df-263fd54c-e9e9-4787-a3e8-d40425d8a349')\"\n",
              "            title=\"Convert this dataframe to an interactive table.\"\n",
              "            style=\"display:none;\">\n",
              "\n",
              "  <svg xmlns=\"http://www.w3.org/2000/svg\" height=\"24px\" viewBox=\"0 -960 960 960\">\n",
              "    <path d=\"M120-120v-720h720v720H120Zm60-500h600v-160H180v160Zm220 220h160v-160H400v160Zm0 220h160v-160H400v160ZM180-400h160v-160H180v160Zm440 0h160v-160H620v160ZM180-180h160v-160H180v160Zm440 0h160v-160H620v160Z\"/>\n",
              "  </svg>\n",
              "    </button>\n",
              "\n",
              "  <style>\n",
              "    .colab-df-container {\n",
              "      display:flex;\n",
              "      gap: 12px;\n",
              "    }\n",
              "\n",
              "    .colab-df-convert {\n",
              "      background-color: #E8F0FE;\n",
              "      border: none;\n",
              "      border-radius: 50%;\n",
              "      cursor: pointer;\n",
              "      display: none;\n",
              "      fill: #1967D2;\n",
              "      height: 32px;\n",
              "      padding: 0 0 0 0;\n",
              "      width: 32px;\n",
              "    }\n",
              "\n",
              "    .colab-df-convert:hover {\n",
              "      background-color: #E2EBFA;\n",
              "      box-shadow: 0px 1px 2px rgba(60, 64, 67, 0.3), 0px 1px 3px 1px rgba(60, 64, 67, 0.15);\n",
              "      fill: #174EA6;\n",
              "    }\n",
              "\n",
              "    .colab-df-buttons div {\n",
              "      margin-bottom: 4px;\n",
              "    }\n",
              "\n",
              "    [theme=dark] .colab-df-convert {\n",
              "      background-color: #3B4455;\n",
              "      fill: #D2E3FC;\n",
              "    }\n",
              "\n",
              "    [theme=dark] .colab-df-convert:hover {\n",
              "      background-color: #434B5C;\n",
              "      box-shadow: 0px 1px 3px 1px rgba(0, 0, 0, 0.15);\n",
              "      filter: drop-shadow(0px 1px 2px rgba(0, 0, 0, 0.3));\n",
              "      fill: #FFFFFF;\n",
              "    }\n",
              "  </style>\n",
              "\n",
              "    <script>\n",
              "      const buttonEl =\n",
              "        document.querySelector('#df-263fd54c-e9e9-4787-a3e8-d40425d8a349 button.colab-df-convert');\n",
              "      buttonEl.style.display =\n",
              "        google.colab.kernel.accessAllowed ? 'block' : 'none';\n",
              "\n",
              "      async function convertToInteractive(key) {\n",
              "        const element = document.querySelector('#df-263fd54c-e9e9-4787-a3e8-d40425d8a349');\n",
              "        const dataTable =\n",
              "          await google.colab.kernel.invokeFunction('convertToInteractive',\n",
              "                                                    [key], {});\n",
              "        if (!dataTable) return;\n",
              "\n",
              "        const docLinkHtml = 'Like what you see? Visit the ' +\n",
              "          '<a target=\"_blank\" href=https://colab.research.google.com/notebooks/data_table.ipynb>data table notebook</a>'\n",
              "          + ' to learn more about interactive tables.';\n",
              "        element.innerHTML = '';\n",
              "        dataTable['output_type'] = 'display_data';\n",
              "        await google.colab.output.renderOutput(dataTable, element);\n",
              "        const docLink = document.createElement('div');\n",
              "        docLink.innerHTML = docLinkHtml;\n",
              "        element.appendChild(docLink);\n",
              "      }\n",
              "    </script>\n",
              "  </div>\n",
              "\n",
              "\n",
              "<div id=\"df-61489af4-6f6e-44f4-9cbb-ee1c5f7c4e27\">\n",
              "  <button class=\"colab-df-quickchart\" onclick=\"quickchart('df-61489af4-6f6e-44f4-9cbb-ee1c5f7c4e27')\"\n",
              "            title=\"Suggest charts\"\n",
              "            style=\"display:none;\">\n",
              "\n",
              "<svg xmlns=\"http://www.w3.org/2000/svg\" height=\"24px\"viewBox=\"0 0 24 24\"\n",
              "     width=\"24px\">\n",
              "    <g>\n",
              "        <path d=\"M19 3H5c-1.1 0-2 .9-2 2v14c0 1.1.9 2 2 2h14c1.1 0 2-.9 2-2V5c0-1.1-.9-2-2-2zM9 17H7v-7h2v7zm4 0h-2V7h2v10zm4 0h-2v-4h2v4z\"/>\n",
              "    </g>\n",
              "</svg>\n",
              "  </button>\n",
              "\n",
              "<style>\n",
              "  .colab-df-quickchart {\n",
              "      --bg-color: #E8F0FE;\n",
              "      --fill-color: #1967D2;\n",
              "      --hover-bg-color: #E2EBFA;\n",
              "      --hover-fill-color: #174EA6;\n",
              "      --disabled-fill-color: #AAA;\n",
              "      --disabled-bg-color: #DDD;\n",
              "  }\n",
              "\n",
              "  [theme=dark] .colab-df-quickchart {\n",
              "      --bg-color: #3B4455;\n",
              "      --fill-color: #D2E3FC;\n",
              "      --hover-bg-color: #434B5C;\n",
              "      --hover-fill-color: #FFFFFF;\n",
              "      --disabled-bg-color: #3B4455;\n",
              "      --disabled-fill-color: #666;\n",
              "  }\n",
              "\n",
              "  .colab-df-quickchart {\n",
              "    background-color: var(--bg-color);\n",
              "    border: none;\n",
              "    border-radius: 50%;\n",
              "    cursor: pointer;\n",
              "    display: none;\n",
              "    fill: var(--fill-color);\n",
              "    height: 32px;\n",
              "    padding: 0;\n",
              "    width: 32px;\n",
              "  }\n",
              "\n",
              "  .colab-df-quickchart:hover {\n",
              "    background-color: var(--hover-bg-color);\n",
              "    box-shadow: 0 1px 2px rgba(60, 64, 67, 0.3), 0 1px 3px 1px rgba(60, 64, 67, 0.15);\n",
              "    fill: var(--button-hover-fill-color);\n",
              "  }\n",
              "\n",
              "  .colab-df-quickchart-complete:disabled,\n",
              "  .colab-df-quickchart-complete:disabled:hover {\n",
              "    background-color: var(--disabled-bg-color);\n",
              "    fill: var(--disabled-fill-color);\n",
              "    box-shadow: none;\n",
              "  }\n",
              "\n",
              "  .colab-df-spinner {\n",
              "    border: 2px solid var(--fill-color);\n",
              "    border-color: transparent;\n",
              "    border-bottom-color: var(--fill-color);\n",
              "    animation:\n",
              "      spin 1s steps(1) infinite;\n",
              "  }\n",
              "\n",
              "  @keyframes spin {\n",
              "    0% {\n",
              "      border-color: transparent;\n",
              "      border-bottom-color: var(--fill-color);\n",
              "      border-left-color: var(--fill-color);\n",
              "    }\n",
              "    20% {\n",
              "      border-color: transparent;\n",
              "      border-left-color: var(--fill-color);\n",
              "      border-top-color: var(--fill-color);\n",
              "    }\n",
              "    30% {\n",
              "      border-color: transparent;\n",
              "      border-left-color: var(--fill-color);\n",
              "      border-top-color: var(--fill-color);\n",
              "      border-right-color: var(--fill-color);\n",
              "    }\n",
              "    40% {\n",
              "      border-color: transparent;\n",
              "      border-right-color: var(--fill-color);\n",
              "      border-top-color: var(--fill-color);\n",
              "    }\n",
              "    60% {\n",
              "      border-color: transparent;\n",
              "      border-right-color: var(--fill-color);\n",
              "    }\n",
              "    80% {\n",
              "      border-color: transparent;\n",
              "      border-right-color: var(--fill-color);\n",
              "      border-bottom-color: var(--fill-color);\n",
              "    }\n",
              "    90% {\n",
              "      border-color: transparent;\n",
              "      border-bottom-color: var(--fill-color);\n",
              "    }\n",
              "  }\n",
              "</style>\n",
              "\n",
              "  <script>\n",
              "    async function quickchart(key) {\n",
              "      const quickchartButtonEl =\n",
              "        document.querySelector('#' + key + ' button');\n",
              "      quickchartButtonEl.disabled = true;  // To prevent multiple clicks.\n",
              "      quickchartButtonEl.classList.add('colab-df-spinner');\n",
              "      try {\n",
              "        const charts = await google.colab.kernel.invokeFunction(\n",
              "            'suggestCharts', [key], {});\n",
              "      } catch (error) {\n",
              "        console.error('Error during call to suggestCharts:', error);\n",
              "      }\n",
              "      quickchartButtonEl.classList.remove('colab-df-spinner');\n",
              "      quickchartButtonEl.classList.add('colab-df-quickchart-complete');\n",
              "    }\n",
              "    (() => {\n",
              "      let quickchartButtonEl =\n",
              "        document.querySelector('#df-61489af4-6f6e-44f4-9cbb-ee1c5f7c4e27 button');\n",
              "      quickchartButtonEl.style.display =\n",
              "        google.colab.kernel.accessAllowed ? 'block' : 'none';\n",
              "    })();\n",
              "  </script>\n",
              "</div>\n",
              "\n",
              "  <div id=\"id_ad5c36e6-c6ee-4d06-afff-1168e76e3bd5\">\n",
              "    <style>\n",
              "      .colab-df-generate {\n",
              "        background-color: #E8F0FE;\n",
              "        border: none;\n",
              "        border-radius: 50%;\n",
              "        cursor: pointer;\n",
              "        display: none;\n",
              "        fill: #1967D2;\n",
              "        height: 32px;\n",
              "        padding: 0 0 0 0;\n",
              "        width: 32px;\n",
              "      }\n",
              "\n",
              "      .colab-df-generate:hover {\n",
              "        background-color: #E2EBFA;\n",
              "        box-shadow: 0px 1px 2px rgba(60, 64, 67, 0.3), 0px 1px 3px 1px rgba(60, 64, 67, 0.15);\n",
              "        fill: #174EA6;\n",
              "      }\n",
              "\n",
              "      [theme=dark] .colab-df-generate {\n",
              "        background-color: #3B4455;\n",
              "        fill: #D2E3FC;\n",
              "      }\n",
              "\n",
              "      [theme=dark] .colab-df-generate:hover {\n",
              "        background-color: #434B5C;\n",
              "        box-shadow: 0px 1px 3px 1px rgba(0, 0, 0, 0.15);\n",
              "        filter: drop-shadow(0px 1px 2px rgba(0, 0, 0, 0.3));\n",
              "        fill: #FFFFFF;\n",
              "      }\n",
              "    </style>\n",
              "    <button class=\"colab-df-generate\" onclick=\"generateWithVariable('df_stats_jokic')\"\n",
              "            title=\"Generate code using this dataframe.\"\n",
              "            style=\"display:none;\">\n",
              "\n",
              "  <svg xmlns=\"http://www.w3.org/2000/svg\" height=\"24px\"viewBox=\"0 0 24 24\"\n",
              "       width=\"24px\">\n",
              "    <path d=\"M7,19H8.4L18.45,9,17,7.55,7,17.6ZM5,21V16.75L18.45,3.32a2,2,0,0,1,2.83,0l1.4,1.43a1.91,1.91,0,0,1,.58,1.4,1.91,1.91,0,0,1-.58,1.4L9.25,21ZM18.45,9,17,7.55Zm-12,3A5.31,5.31,0,0,0,4.9,8.1,5.31,5.31,0,0,0,1,6.5,5.31,5.31,0,0,0,4.9,4.9,5.31,5.31,0,0,0,6.5,1,5.31,5.31,0,0,0,8.1,4.9,5.31,5.31,0,0,0,12,6.5,5.46,5.46,0,0,0,6.5,12Z\"/>\n",
              "  </svg>\n",
              "    </button>\n",
              "    <script>\n",
              "      (() => {\n",
              "      const buttonEl =\n",
              "        document.querySelector('#id_ad5c36e6-c6ee-4d06-afff-1168e76e3bd5 button.colab-df-generate');\n",
              "      buttonEl.style.display =\n",
              "        google.colab.kernel.accessAllowed ? 'block' : 'none';\n",
              "\n",
              "      buttonEl.onclick = () => {\n",
              "        google.colab.notebook.generateWithVariable('df_stats_jokic');\n",
              "      }\n",
              "      })();\n",
              "    </script>\n",
              "  </div>\n",
              "\n",
              "    </div>\n",
              "  </div>\n"
            ]
          },
          "metadata": {},
          "execution_count": 61
        }
      ]
    },
    {
      "cell_type": "code",
      "source": [
        "# df_stats_jokic.to_csv('/content/drive/MyDrive/NBA Analysis/nba_stats_jokic_raw.csv',\n",
        "#                       encoding='utf-8',\n",
        "#                       sep=',',\n",
        "#                       index=False)"
      ],
      "metadata": {
        "id": "gXEuhsbDtrIe"
      },
      "execution_count": 62,
      "outputs": []
    },
    {
      "cell_type": "markdown",
      "source": [
        "# Dataset raw from csv"
      ],
      "metadata": {
        "id": "aDua_fnkuMtT"
      }
    },
    {
      "cell_type": "code",
      "source": [
        "df_stats_jokic = pd.read_csv('/content/drive/MyDrive/NBA Analysis/nba_stats_jokic_raw.csv',\n",
        "                             encoding='utf-8',\n",
        "                             sep=',')"
      ],
      "metadata": {
        "id": "WuQV4hCLuLP2"
      },
      "execution_count": null,
      "outputs": []
    },
    {
      "cell_type": "code",
      "source": [
        "df_stats_jokic.reset_index(drop=True, inplace=True)"
      ],
      "metadata": {
        "id": "88_MpGD3xlxY"
      },
      "execution_count": null,
      "outputs": []
    },
    {
      "cell_type": "code",
      "source": [
        "df_stats_jokic.head(6)"
      ],
      "metadata": {
        "id": "UrjRiXgyASDT"
      },
      "execution_count": null,
      "outputs": []
    },
    {
      "cell_type": "markdown",
      "source": [
        "# Data wrangling"
      ],
      "metadata": {
        "id": "PduA-UO8vayi"
      }
    },
    {
      "cell_type": "code",
      "source": [
        "df_stats_jokic.isnull().sum()"
      ],
      "metadata": {
        "id": "iL4uiDPRyGRD"
      },
      "execution_count": null,
      "outputs": []
    },
    {
      "cell_type": "code",
      "source": [
        "df_stats_jokic.drop(columns='Estat. Temporada Regular', inplace=True)\n",
        "\n",
        "df_stats_jokic.dropna(axis=0, how='any', inplace=True)"
      ],
      "metadata": {
        "id": "dH5I6oTN2crq"
      },
      "execution_count": null,
      "outputs": []
    },
    {
      "cell_type": "code",
      "source": [
        "df_stats_jokic.isnull().sum()"
      ],
      "metadata": {
        "id": "bPNev0mp2_dN"
      },
      "execution_count": null,
      "outputs": []
    },
    {
      "cell_type": "code",
      "source": [
        "renamed_columns = {'Date': 'Data',\n",
        "                   'V': 'Assistencias',\n",
        "                   'PF': 'Faltas',\n",
        "                   'TO': 'Tunovers',\n",
        "                   'MIN': 'Minutos',\n",
        "                   'REB': 'Rebotes',\n",
        "                   'BLK': 'Bloqueios',\n",
        "                   'STL': 'Desarmes',\n",
        "                   'PTS': 'Pontos'}\n",
        "\n",
        "df_stats_jokic.rename(columns=renamed_columns, inplace=True)"
      ],
      "metadata": {
        "id": "4iNLqzKTrydF"
      },
      "execution_count": null,
      "outputs": []
    },
    {
      "cell_type": "code",
      "source": [
        "df_stats_jokic.head(6)"
      ],
      "metadata": {
        "id": "L2G6FYHIxSFl"
      },
      "execution_count": null,
      "outputs": []
    },
    {
      "cell_type": "code",
      "source": [
        "# Remoção de linhas com texto de nome de meses\n",
        "df_stats_jokic = df_stats_jokic[(df_stats_jokic['Data']   != 'january')\n",
        "                                & (df_stats_jokic['Data'] != 'february')\n",
        "                                & (df_stats_jokic['Data'] != 'march')\n",
        "                                & (df_stats_jokic['Data'] != 'april')\n",
        "                                & (df_stats_jokic['Data'] != 'may')\n",
        "                                & (df_stats_jokic['Data'] != 'june')\n",
        "                                & (df_stats_jokic['Data'] != 'july')\n",
        "                                & (df_stats_jokic['Data'] != 'august')\n",
        "                                & (df_stats_jokic['Data'] != 'september')\n",
        "                                & (df_stats_jokic['Data'] != 'october')\n",
        "                                & (df_stats_jokic['Data'] != 'november')\n",
        "                                & (df_stats_jokic['Data'] != 'december')]\n",
        "\n",
        "df_stats_jokic.reset_index(drop=True, inplace=True)"
      ],
      "metadata": {
        "id": "lIkUzU83BgJP"
      },
      "execution_count": null,
      "outputs": []
    },
    {
      "cell_type": "code",
      "source": [
        "# Verifica a remoção de linhas com texto de nome de meses\n",
        "df_stats_jokic[(df_stats_jokic['Data']   == 'january')\n",
        "               | (df_stats_jokic['Data'] == 'february')\n",
        "               | (df_stats_jokic['Data'] == 'march')\n",
        "               | (df_stats_jokic['Data'] == 'april')\n",
        "               | (df_stats_jokic['Data'] == 'may')\n",
        "               | (df_stats_jokic['Data'] == 'june')\n",
        "               | (df_stats_jokic['Data'] == 'july')\n",
        "               | (df_stats_jokic['Data'] == 'august')\n",
        "               | (df_stats_jokic['Data'] == 'september')\n",
        "               | (df_stats_jokic['Data'] == 'october')\n",
        "               | (df_stats_jokic['Data'] == 'november')\n",
        "               | (df_stats_jokic['Data'] == 'december')]"
      ],
      "metadata": {
        "id": "dSOsIptaBw-Q"
      },
      "execution_count": null,
      "outputs": []
    },
    {
      "cell_type": "code",
      "source": [
        "# Regex de informações das colunas para novas colunas exclusivas\n",
        "df_stats_jokic['FG_Tentativas'] = df_stats_jokic['FG'].str.extract(r'-(\\d+)').astype(int)\n",
        "\n",
        "df_stats_jokic['FG_Acertos'] = df_stats_jokic['FG'].str.extract(r'(\\d+)-').astype(int)\n",
        "\n",
        "df_stats_jokic['3PT_Tentativas'] = df_stats_jokic['3PT'].str.extract(r'-(\\d+)').astype(int)\n",
        "\n",
        "df_stats_jokic['3PT_Acertos'] = df_stats_jokic['3PT'].str.extract(r'(\\d+)-').astype(int)\n",
        "\n",
        "df_stats_jokic['FT_Tentativas'] = df_stats_jokic['FT'].str.extract(r'-(\\d+)').astype(int)\n",
        "\n",
        "df_stats_jokic['FT_Acertos'] = df_stats_jokic['FT'].str.extract(r'(\\d+)-').astype(int)\n",
        "\n",
        "df_stats_jokic['Adversario'] = df_stats_jokic['ADV'].str.extract(r'(?:em|x)([A-Z]+)')  # (?:em|x) - non-capturing group that matches 'em' or 'x'\n",
        "\n",
        "df_stats_jokic['Placar'] = df_stats_jokic['Resultado'].str.extract(r'(\\d+-\\d+)')\n",
        "\n",
        "df_stats_jokic['V_D'] = df_stats_jokic['Resultado'].str.extract(r'(^D|V)')\n",
        "\n",
        "df_stats_jokic['Casa_Fora'] = df_stats_jokic['ADV'].str.extract(r'(em|x)')\n",
        "\n",
        "df_stats_jokic['Dia_semana'] = df_stats_jokic['Data'].str.extract(r'([A-Za-z0-9_À-ÿ]+)')\n",
        "\n",
        "df_stats_jokic['Mes'] = df_stats_jokic['Data'].str.extract(r'\\b\\d+/\\b(\\d+)')"
      ],
      "metadata": {
        "id": "n9b9bmIvDsLK"
      },
      "execution_count": null,
      "outputs": []
    },
    {
      "cell_type": "code",
      "source": [
        "df_stats_jokic[(df_stats_jokic['Adversario'] == 'LEB')\n",
        "               | (df_stats_jokic['Adversario'] == 'GIA')\n",
        "               | (df_stats_jokic['Adversario'] == 'DUR')]  # Participações no All-Star"
      ],
      "metadata": {
        "id": "AiolYxSlDlwB"
      },
      "execution_count": null,
      "outputs": []
    },
    {
      "cell_type": "code",
      "source": [
        "df_stats_jokic = df_stats_jokic.replace('^LEB$', 'ALL', regex=True)\n",
        "df_stats_jokic = df_stats_jokic.replace('^GIA$', 'ALL', regex=True)\n",
        "df_stats_jokic = df_stats_jokic.replace('^DUR$', 'ALL', regex=True)"
      ],
      "metadata": {
        "id": "28hNo_jEHOMv"
      },
      "execution_count": null,
      "outputs": []
    },
    {
      "cell_type": "code",
      "source": [
        "df_stats_jokic['Dia_semana'] = (df_stats_jokic['Dia_semana'].map({'Seg': 0,\n",
        "                                                                  'Ter': 1,\n",
        "                                                                  'Qua': 2,\n",
        "                                                                  'Qui': 3,\n",
        "                                                                  'Sex': 4,\n",
        "                                                                  'Sáb': 5,\n",
        "                                                                  'Dom': 6}))  # Dias da semana no padrão python"
      ],
      "metadata": {
        "id": "AC4X0MuZEhTX"
      },
      "execution_count": null,
      "outputs": []
    },
    {
      "cell_type": "code",
      "source": [
        "pd.set_option('display.max_columns', None)\n",
        "\n",
        "df_stats_jokic['%FG'] = round(df_stats_jokic['FG_Acertos'] / df_stats_jokic['FG_Tentativas'], 2)\n",
        "\n",
        "df_stats_jokic['%3PT'] = round(df_stats_jokic['3PT_Acertos'] / df_stats_jokic['3PT_Tentativas'], 2)\n",
        "\n",
        "df_stats_jokic['%FT'] = round(df_stats_jokic['FT_Acertos'] / df_stats_jokic['FT_Tentativas'], 2)\n",
        "\n",
        "df_stats_jokic['Casa_Fora'] = df_stats_jokic['Casa_Fora'].map({'em': 'fora','x': 'casa'})"
      ],
      "metadata": {
        "id": "ku8nt3P0_-7f"
      },
      "execution_count": null,
      "outputs": []
    },
    {
      "cell_type": "markdown",
      "source": [
        "## Análise do placar"
      ],
      "metadata": {
        "id": "Z3TRhFFeEqqY"
      }
    },
    {
      "cell_type": "code",
      "source": [
        "# Cria colunas nos respectivos indexes\n",
        "df_stats_jokic.insert(26, 'Placar_Denver', '')\n",
        "df_stats_jokic.insert(27, 'Placar_Adversario', '')\n",
        "df_stats_jokic.insert(28, 'Placar_Vencedor', '')\n",
        "df_stats_jokic.insert(29, 'Placar_Perdedor', '')"
      ],
      "metadata": {
        "id": "_iwc1nxdCEBw"
      },
      "execution_count": null,
      "outputs": []
    },
    {
      "cell_type": "code",
      "source": [
        "df_stats_jokic['Placar_Vencedor'] = df_stats_jokic['Placar'].str.extract(r'(\\d+)-').astype(int)\n",
        "\n",
        "df_stats_jokic['Placar_Perdedor'] = df_stats_jokic['Placar'].str.extract(r'-(\\d+)').astype(int)"
      ],
      "metadata": {
        "id": "4Bft2PXEAdF5"
      },
      "execution_count": null,
      "outputs": []
    },
    {
      "cell_type": "code",
      "source": [
        "\"\"\"\n",
        "Identifica se o jogo foi vitória ou derrota.\n",
        "\n",
        "O padrão do placar é sempre o nº de pontos do vencedor na frente.\n",
        "\n",
        "Se o Denver ganhou, atribui o Placar_Vencedor para a coluna Placar_Denver\n",
        "e Placar_Perdedor para Placar_Adversario.\n",
        "\n",
        "Se o Denver perdeu é realizado o processo oposto.\n",
        "\"\"\"\n",
        "for i_resultado, resultado in enumerate(df_stats_jokic['V_D']):\n",
        "\n",
        "    if resultado == 'D':\n",
        "        df_stats_jokic['Placar_Denver'].loc[i_resultado] = df_stats_jokic['Placar_Perdedor'].loc[i_resultado]\n",
        "        df_stats_jokic['Placar_Adversario'].loc[i_resultado] = df_stats_jokic['Placar_Vencedor'].loc[i_resultado]\n",
        "\n",
        "    else:\n",
        "        df_stats_jokic['Placar_Denver'].loc[i_resultado] = df_stats_jokic['Placar_Vencedor'].loc[i_resultado]\n",
        "        df_stats_jokic['Placar_Adversario'].loc[i_resultado] = df_stats_jokic['Placar_Perdedor'].loc[i_resultado]"
      ],
      "metadata": {
        "id": "x1ZqS_6NAw3C"
      },
      "execution_count": null,
      "outputs": []
    },
    {
      "cell_type": "code",
      "source": [
        "df_stats_jokic.head()"
      ],
      "metadata": {
        "id": "7pN1_IX5D_0K"
      },
      "execution_count": null,
      "outputs": []
    },
    {
      "cell_type": "markdown",
      "source": [
        "## Identificando as conferências dos times"
      ],
      "metadata": {
        "id": "ONEgk7K0or_K"
      }
    },
    {
      "cell_type": "code",
      "source": [
        "conferencia_leste = ['ATL', 'BOS', 'BKN', 'CHA', 'CHI', 'CLE', 'DET', 'IND', 'MIA', 'MIL', 'NY', 'ORL', 'PHI', 'TOR', 'WSH']\n",
        "conferencia_oeste = ['DAL', 'DEN', 'GS', 'HOU', 'LAC', 'LAL', 'MEM', 'MIN', 'NO', 'OKC', 'PHX', 'POR', 'SAC', 'SA', 'UTAH']"
      ],
      "metadata": {
        "id": "m7pLr9sM9p2L"
      },
      "execution_count": null,
      "outputs": []
    },
    {
      "cell_type": "code",
      "source": [
        "df_stats_jokic.insert(25, 'Conferencia', '')  # Cria a coluna Liga no index 16"
      ],
      "metadata": {
        "id": "8CvDA0_LEQs6"
      },
      "execution_count": null,
      "outputs": []
    },
    {
      "cell_type": "code",
      "source": [
        "def conferencia(time):\n",
        "    \"\"\"\n",
        "    Identifica a qual liga o time pertence\n",
        "    \"\"\"\n",
        "    if time in conferencia_leste:\n",
        "        return 'Leste'\n",
        "    elif time in conferencia_oeste:\n",
        "        return 'Oeste'\n",
        "    else:\n",
        "        return '-'"
      ],
      "metadata": {
        "id": "WkzanNkaKzHt"
      },
      "execution_count": null,
      "outputs": []
    },
    {
      "cell_type": "code",
      "source": [
        "# series.apply aplica a função sobre a série Adversario\n",
        "# Depois a respectiva liga é inserida na coluna Conferencia\n",
        "df_stats_jokic['Conferencia'] = df_stats_jokic['Adversario'].apply(conferencia)"
      ],
      "metadata": {
        "id": "cLpyV_siLBSE"
      },
      "execution_count": null,
      "outputs": []
    },
    {
      "cell_type": "code",
      "source": [
        "df_stats_jokic.drop(columns=['Data', 'ADV', 'Resultado', 'FG', 'FG%', '3PT',\n",
        "                             '3P%', 'FT', 'FT%', 'Placar', 'Placar_Vencedor',\n",
        "                             'Placar_Perdedor'], inplace=True)\n",
        "\n",
        "df_stats_jokic.head()"
      ],
      "metadata": {
        "id": "QL6GaR_pEsGp"
      },
      "execution_count": null,
      "outputs": []
    },
    {
      "cell_type": "markdown",
      "source": [
        "## Salva dataset ajustado"
      ],
      "metadata": {
        "id": "sEQOvJlN80B1"
      }
    },
    {
      "cell_type": "code",
      "source": [
        "# df_stats_jokic.to_csv('/content/drive/MyDrive/NBA Analysis/nba_stats_jokic_ajustado.csv',\n",
        "#                       encoding='utf-8',\n",
        "#                       sep=',',\n",
        "#                       index=False)"
      ],
      "metadata": {
        "id": "Mbkjujzt4Z3Q"
      },
      "execution_count": null,
      "outputs": []
    },
    {
      "cell_type": "markdown",
      "source": [
        "# Dataset from csv"
      ],
      "metadata": {
        "id": "ok3z0a8ywBLh"
      }
    },
    {
      "cell_type": "code",
      "source": [
        "df_stats_jokic = pd.read_csv('/content/drive/MyDrive/NBA Analysis/nba_stats_jokic_ajustado.csv',\n",
        "                             encoding='utf-8',\n",
        "                             sep=',')\n",
        "\n",
        "df_stats_jokic = df_stats_jokic[df_stats_jokic['Adversario'] != 'ALL'].copy()  # Remova as linhas com dados do All-Star"
      ],
      "metadata": {
        "id": "kJVdIG88wBLi"
      },
      "execution_count": null,
      "outputs": []
    },
    {
      "cell_type": "code",
      "source": [
        "df_stats_jokic['V_D'].value_counts()"
      ],
      "metadata": {
        "id": "q7TkFrkZx8mi"
      },
      "execution_count": null,
      "outputs": []
    },
    {
      "cell_type": "code",
      "source": [
        "df_stats_jokic.fillna(0, inplace=True)\n",
        "df_stats_jokic.isnull().sum()"
      ],
      "metadata": {
        "id": "Yn2XdVaJBNAA"
      },
      "execution_count": null,
      "outputs": []
    },
    {
      "cell_type": "markdown",
      "source": [
        "# Análise gráfica"
      ],
      "metadata": {
        "id": "P5mJg8Yzm87s"
      }
    },
    {
      "cell_type": "markdown",
      "source": [
        "## %stats"
      ],
      "metadata": {
        "id": "2eGwinFgsULO"
      }
    },
    {
      "cell_type": "code",
      "source": [
        "media_porcent_temporadas = df_stats_jokic[['Temporada', '%FG', '%FT', '%3PT']].groupby('Temporada').mean()"
      ],
      "metadata": {
        "id": "uu2SDMo0q5YW"
      },
      "execution_count": null,
      "outputs": []
    },
    {
      "cell_type": "code",
      "source": [
        "fig = px.line(media_porcent_temporadas,\n",
        "              x=media_porcent_temporadas.index,\n",
        "              y=['%FG', '%FT', '%3PT'],\n",
        "              labels={'variable': ''})\n",
        "\n",
        "fig.update_layout(height=400,\n",
        "                  width=1000,\n",
        "                  showlegend=True,\n",
        "                  title='Jokic %stats',\n",
        "                  margin=dict(l=50,\n",
        "                              r=50,\n",
        "                              b=50,\n",
        "                              t=50))\n",
        "\n",
        "fig.update_xaxes(title_text=None)\n",
        "fig.update_yaxes(title_text=None)\n",
        "fig.show()"
      ],
      "metadata": {
        "id": "o3EFdWOQm_6Q"
      },
      "execution_count": null,
      "outputs": []
    },
    {
      "cell_type": "markdown",
      "source": [
        "## Pontos"
      ],
      "metadata": {
        "id": "3Q_EE3uvsXfu"
      }
    },
    {
      "cell_type": "code",
      "source": [
        "media_pontos_temporadas = df_stats_jokic[['Temporada', 'Pontos']].groupby('Temporada').mean()\n",
        "\n",
        "media_pontos_temporadas_por_tipo = df_stats_jokic[['Temporada', 'FG_Acertos', 'FT_Acertos', '3PT_Acertos']].groupby('Temporada').mean()"
      ],
      "metadata": {
        "id": "L4y9DyFAsXfu"
      },
      "execution_count": null,
      "outputs": []
    },
    {
      "cell_type": "code",
      "source": [
        "media_pontos_temporadas_por_tipo['FG_Pontos'] = media_pontos_temporadas_por_tipo['FG_Acertos'] * 2\n",
        "\n",
        "media_pontos_temporadas_por_tipo['FT_Pontos'] = media_pontos_temporadas_por_tipo['FT_Acertos'] * 1\n",
        "\n",
        "media_pontos_temporadas_por_tipo['3_Pontos'] = media_pontos_temporadas_por_tipo['3PT_Acertos'] * 3\n",
        "\n",
        "media_pontos_temporadas_por_tipo"
      ],
      "metadata": {
        "id": "_PGIjvOvs_TU"
      },
      "execution_count": null,
      "outputs": []
    },
    {
      "cell_type": "code",
      "source": [
        "fig = make_subplots(shared_xaxes=True)\n",
        "\n",
        "fig.add_trace(go.Scatter(x=media_pontos_temporadas_por_tipo.index,\n",
        "                         y=media_pontos_temporadas_por_tipo['FG_Pontos'],\n",
        "                         mode='lines',\n",
        "                         line=dict(color='#845EC2'),\n",
        "                         name='FG'))\n",
        "\n",
        "fig.add_trace(go.Scatter(x=media_pontos_temporadas_por_tipo.index,\n",
        "                         y=media_pontos_temporadas_por_tipo['FT_Pontos'],\n",
        "                         mode='lines',\n",
        "                         line=dict(color='#008BC9'),\n",
        "                         name='FT'))\n",
        "\n",
        "fig.add_trace(go.Scatter(x=media_pontos_temporadas_por_tipo.index,\n",
        "                         y=media_pontos_temporadas_por_tipo['3_Pontos'],\n",
        "                         mode='lines',\n",
        "                         line=dict(color='#FF8066'),\n",
        "                         name='3PT'))\n",
        "\n",
        "fig.add_trace(go.Scatter(x=media_pontos_temporadas.index,\n",
        "                         y=media_pontos_temporadas['Pontos'],\n",
        "                         mode='lines',\n",
        "                         line=dict(color='#936C00'),\n",
        "                         name='Média geral'))\n",
        "\n",
        "fig.update_layout(height=400,\n",
        "                  width=1000,\n",
        "                  showlegend=True,\n",
        "                  title='Jokic - média de pontos nas temporadas',\n",
        "                  margin=dict(l=50,\n",
        "                              r=50,\n",
        "                              b=50,\n",
        "                              t=50))\n",
        "\n",
        "fig.update_xaxes(title_text=None)\n",
        "\n",
        "fig.update_yaxes(title_text=None)\n",
        "\n",
        "fig.show()"
      ],
      "metadata": {
        "id": "abMfE_DzwPfL"
      },
      "execution_count": null,
      "outputs": []
    },
    {
      "cell_type": "markdown",
      "source": [
        "## Correlação"
      ],
      "metadata": {
        "id": "HjIVGcPv5rB0"
      }
    },
    {
      "cell_type": "code",
      "source": [
        "correlacao = df_stats_jokic[['Temporada',\n",
        "                             'Minutos',\n",
        "                             'Rebotes',\n",
        "                             'Assistencias',\n",
        "                             'Bloqueios',\n",
        "                             'Desarmes',\n",
        "                             'Faltas',\n",
        "                             'Tunovers',\n",
        "                             'Pontos',\n",
        "                             'FG_Tentativas',\n",
        "                             'FG_Acertos',\n",
        "                             '3PT_Tentativas',\n",
        "                             '3PT_Acertos',\n",
        "                             'FT_Tentativas',\n",
        "                             'FT_Acertos',\n",
        "                             'Dia_semana',\n",
        "                             'Mes',\n",
        "                             '%FG',\n",
        "                             '%3PT',\n",
        "                             '%FT']].corr().round(2)\n",
        "\n",
        "fig = px.imshow(correlacao, text_auto=True, aspect='auto', color_continuous_scale='RdBu_r')\n",
        "\n",
        "fig.update_layout(margin=dict(t=80,\n",
        "                              r=50,\n",
        "                              b=50,\n",
        "                              l=50),\n",
        "                  showlegend=False,\n",
        "                  width=1200,\n",
        "                  height=1200)\n",
        "\n",
        "fig.update_xaxes(side='top')\n",
        "\n",
        "fig.show()"
      ],
      "metadata": {
        "id": "xqKDJ_53wMKb"
      },
      "execution_count": null,
      "outputs": []
    },
    {
      "cell_type": "markdown",
      "source": [
        "±0.9 → correlação muito forte\n",
        "\n",
        "±0.7 a ±0.9 → correlação forte\n",
        "\n",
        "±0.5 a ±0.7 → correlação moderada\n",
        "\n",
        "±0.3 a ±0.5 → correlação fraca"
      ],
      "metadata": {
        "id": "g3cdgSGjc3Je"
      }
    },
    {
      "cell_type": "markdown",
      "source": [
        "### Correlação com pontos"
      ],
      "metadata": {
        "id": "BuezwvTEGHgM"
      }
    },
    {
      "cell_type": "markdown",
      "source": [
        "#### Correlação muito forte"
      ],
      "metadata": {
        "id": "3Kg5Ygkvd4Tz"
      }
    },
    {
      "cell_type": "code",
      "source": [
        "correlacao.loc[correlacao['Pontos'] >= 0.9].index"
      ],
      "metadata": {
        "id": "mYyWn-xwdkoD"
      },
      "execution_count": null,
      "outputs": []
    },
    {
      "cell_type": "markdown",
      "source": [
        "#### Correlação forte"
      ],
      "metadata": {
        "id": "Xr9xJ2W_eTjJ"
      }
    },
    {
      "cell_type": "code",
      "source": [
        "correlacao.loc[(correlacao['Pontos'] >= 0.7)\n",
        "               & (correlacao['Pontos'] < 0.9)].index"
      ],
      "metadata": {
        "id": "I6qnFMZIeJMD"
      },
      "execution_count": null,
      "outputs": []
    },
    {
      "cell_type": "markdown",
      "source": [
        "#### Correlação moderada"
      ],
      "metadata": {
        "id": "63y6e1M4eWcc"
      }
    },
    {
      "cell_type": "code",
      "source": [
        "correlacao.loc[(correlacao['Pontos'] >= 0.5)\n",
        "               & (correlacao['Pontos'] < 0.7)].index"
      ],
      "metadata": {
        "id": "1TuhCptqeWcc"
      },
      "execution_count": null,
      "outputs": []
    },
    {
      "cell_type": "markdown",
      "source": [
        "#### Correlação fraca"
      ],
      "metadata": {
        "id": "vES0u4J1eWhq"
      }
    },
    {
      "cell_type": "code",
      "source": [
        "correlacao.loc[(correlacao['Pontos'] >= 0.3)\n",
        "               & (correlacao['Pontos'] < 0.5)].index"
      ],
      "metadata": {
        "id": "MkaiqmzKeWhq"
      },
      "execution_count": null,
      "outputs": []
    },
    {
      "cell_type": "markdown",
      "source": [
        "### Conclusões"
      ],
      "metadata": {
        "id": "zOMYZRgVekMv"
      }
    },
    {
      "cell_type": "markdown",
      "source": [
        "#### Pontuação"
      ],
      "metadata": {
        "id": "c8swLHM4hVFr"
      }
    },
    {
      "cell_type": "markdown",
      "source": [
        "Os pontos do Jokic tem correlação:\n",
        "* Muito forte com lances de quadra (FG)\n",
        "* Moderada com lances livres (FT)\n",
        "* Fraca com lances de 3 pontos (3PT)"
      ],
      "metadata": {
        "id": "FL7Vf93WenM0"
      }
    },
    {
      "cell_type": "code",
      "source": [
        "media_acertos_fg = df_stats_jokic['FG_Acertos'].mean().round(2)\n",
        "media_acertos_ft = df_stats_jokic['FT_Acertos'].mean().round(2)\n",
        "media_acertos_3pt = df_stats_jokic['3PT_Acertos'].mean().round(2)\n",
        "\n",
        "print('Média de acertos FG por jogo:', media_acertos_fg)\n",
        "print('Média de acertos FT por jogo:', media_acertos_ft)\n",
        "print('Média de acertos 3PT por jogo:', media_acertos_3pt)"
      ],
      "metadata": {
        "id": "j_3S78xqfL5V"
      },
      "execution_count": null,
      "outputs": []
    },
    {
      "cell_type": "markdown",
      "source": [
        "#### Aproveitamento"
      ],
      "metadata": {
        "id": "sfrLXW0XhXFP"
      }
    },
    {
      "cell_type": "code",
      "source": [
        "media_aproveitamento_porcent_fg = (df_stats_jokic['%FG'].mean() * 100).round(2)\n",
        "media_aproveitamento_porcent_ft = (df_stats_jokic['%FT'].mean() * 100).round(2)\n",
        "media_aproveitamento_porcent_3pt = (df_stats_jokic['%3PT'].mean() * 100).round(2)\n",
        "\n",
        "print('Média de aproveitamento FG por jogo:', media_aproveitamento_porcent_fg, '%')\n",
        "print('Média de aproveitamento FT por jogo:', media_aproveitamento_porcent_ft, '%')\n",
        "print('Média de aproveitamento 3PT por jogo:', media_aproveitamento_porcent_3pt, '%')"
      ],
      "metadata": {
        "id": "TazDKiXfgigj"
      },
      "execution_count": null,
      "outputs": []
    },
    {
      "cell_type": "markdown",
      "source": [
        "A maior porcentagem de aproveitamento é de lances livres (FT)\n",
        "\n",
        "Apesar do bom aproveitamento, a correlação é mais forte com FG por valer mais pontos que FT"
      ],
      "metadata": {
        "id": "1ZCIMqjLg8tN"
      }
    },
    {
      "cell_type": "markdown",
      "source": [
        "#### Média de pontos"
      ],
      "metadata": {
        "id": "y9_Uu_gVhaSX"
      }
    },
    {
      "cell_type": "code",
      "source": [
        "pontos_fg = 2\n",
        "pontos_ft = 1\n",
        "pontos_3pt = 3\n",
        "\n",
        "media_pontos_fg = (df_stats_jokic['FG_Acertos'].mean() * pontos_fg).round(2)\n",
        "media_pontos_ft = (df_stats_jokic['FT_Acertos'].mean() * pontos_ft).round(2)\n",
        "media_pontos_3pt = (df_stats_jokic['3PT_Acertos'].mean() * pontos_3pt).round(2)\n",
        "media_pontos_por_jogo = (df_stats_jokic['Pontos'].mean()).round(2)\n",
        "\n",
        "print('Média de pontos FG:', media_pontos_fg)\n",
        "print('Média de pontos FT:', media_pontos_ft)\n",
        "print('Média de pontos 3PT:', media_pontos_3pt)\n",
        "print('Média de pontos por jogo:', media_pontos_por_jogo)"
      ],
      "metadata": {
        "id": "BkY4lr5vhhjB"
      },
      "execution_count": null,
      "outputs": []
    },
    {
      "cell_type": "markdown",
      "source": [
        "# Substituição de variáveis categóricas"
      ],
      "metadata": {
        "id": "7dH5NS0Vb9q2"
      }
    },
    {
      "cell_type": "markdown",
      "source": [
        "## Dummies"
      ],
      "metadata": {
        "id": "nfnGdiH7l9gm"
      }
    },
    {
      "cell_type": "code",
      "source": [
        "df_stats_jokic_for_dummies = df_stats_jokic.copy()\n",
        "df_stats_jokic_for_dummies.reset_index(drop=True, inplace=True)"
      ],
      "metadata": {
        "id": "5bxiFWfRnIoU"
      },
      "execution_count": null,
      "outputs": []
    },
    {
      "cell_type": "code",
      "source": [
        "df_stats_jokic_dummies = pd.get_dummies(df_stats_jokic_for_dummies, prefix='', prefix_sep='')\n",
        "df_stats_jokic_dummies"
      ],
      "metadata": {
        "id": "vxMK0xlIl-vD"
      },
      "execution_count": null,
      "outputs": []
    },
    {
      "cell_type": "markdown",
      "source": [
        "### Correlação dummies"
      ],
      "metadata": {
        "id": "7690n2KOqLST"
      }
    },
    {
      "cell_type": "code",
      "source": [
        "correlacao_dummies = df_stats_jokic_dummies.corr().round(2)\n",
        "\n",
        "fig = px.imshow(correlacao_dummies, text_auto=True, aspect='auto', color_continuous_scale='RdBu_r')\n",
        "\n",
        "fig.update_layout(margin=dict(t=80,\n",
        "                              r=50,\n",
        "                              b=50,\n",
        "                              l=50),\n",
        "                  showlegend=False,\n",
        "                  width=1800,\n",
        "                  height=1800)\n",
        "\n",
        "fig.update_xaxes(side='top')\n",
        "\n",
        "fig.show()"
      ],
      "metadata": {
        "id": "orTMAg0hqLSU"
      },
      "execution_count": null,
      "outputs": []
    },
    {
      "cell_type": "markdown",
      "source": [
        "# Principal Component Analysis (PCA)"
      ],
      "metadata": {
        "id": "wdIt1NrAdrMZ"
      }
    },
    {
      "cell_type": "markdown",
      "source": [
        "## Teste de Esfericidade de Bartlett\n",
        "\n",
        "Hipótese Nula que a matriz de correlação ρ da sua base de dados é estatisticamente igual a uma matriz identidade.\n",
        "\n",
        "*   Significa que temos uma base de dados onde não existe correlação entre nenhuma das variáveis que compõem essa base. Importante salientar que o teste verifica se as correlações entre as variáveis são ESTATISTICAMENTE IGUAIS a 0, o que não quer dizer que elas sejam 0.\n",
        "\n",
        "\n",
        "Hipótese Alternativa, temos que a matriz de correlações da sua base de dados não é ESTATISTICAMENTE IGUAL a uma matriz identidade.\n",
        "\n",
        "Para **rejeitarmos** a Hipótese Nula, que é o que queremos, temos de ter que o valor calculado na distribuição qui quadrada acima deve ser maior que o valor dessa mesma distribuição para o nível de significância desejado. Se for maior, podemos rejeitar a hipótese nula e aceitarmos a hipótese alternativa.\n",
        "\n",
        "Fonte: [Abrindo a Caixa Preta: PCA (Análise de Componentes Principais)](https://medium.com/@felipeverasaraujo/abrindo-a-caixa-preta-pca-an%C3%A1lise-de-componentes-principais-d5d400781dfe)"
      ],
      "metadata": {
        "id": "QOA5kKtgMI3r"
      }
    },
    {
      "cell_type": "code",
      "source": [
        "stats, p_value = bartlett(df_stats_jokic_dummies['Temporada'], df_stats_jokic_dummies['Minutos'], df_stats_jokic_dummies['Rebotes'], df_stats_jokic_dummies['Assistencias'], df_stats_jokic_dummies['Bloqueios'],\n",
        "                          df_stats_jokic_dummies['Desarmes'], df_stats_jokic_dummies['Faltas'], df_stats_jokic_dummies['Tunovers'], df_stats_jokic_dummies['Pontos'], df_stats_jokic_dummies['FG_Tentativas'],\n",
        "                          df_stats_jokic_dummies['FG_Acertos'], df_stats_jokic_dummies['3PT_Tentativas'], df_stats_jokic_dummies['3PT_Acertos'], df_stats_jokic_dummies['FT_Tentativas'],\n",
        "                          df_stats_jokic_dummies['FT_Acertos'], df_stats_jokic_dummies['Placar_Denver'], df_stats_jokic_dummies['Placar_Adversario'], df_stats_jokic_dummies['Dia_semana'], df_stats_jokic_dummies['Mes'],\n",
        "                          df_stats_jokic_dummies['%FG'], df_stats_jokic_dummies['%3PT'], df_stats_jokic_dummies['%FT'], df_stats_jokic_dummies['ATL'], df_stats_jokic_dummies['BKN'], df_stats_jokic_dummies['BOS'], df_stats_jokic_dummies['CHA'],\n",
        "                          df_stats_jokic_dummies['CHI'], df_stats_jokic_dummies['CLE'], df_stats_jokic_dummies['DAL'], df_stats_jokic_dummies['DET'], df_stats_jokic_dummies['GS'], df_stats_jokic_dummies['HOU'], df_stats_jokic_dummies['IND'],\n",
        "                          df_stats_jokic_dummies['LAC'], df_stats_jokic_dummies['LAL'], df_stats_jokic_dummies['MEM'], df_stats_jokic_dummies['MIA'], df_stats_jokic_dummies['MIL'], df_stats_jokic_dummies['MIN'],df_stats_jokic_dummies['NO'],\n",
        "                          df_stats_jokic_dummies['NY'], df_stats_jokic_dummies['OKC'], df_stats_jokic_dummies['ORL'], df_stats_jokic_dummies['PHI'], df_stats_jokic_dummies['PHX'], df_stats_jokic_dummies['POR'], df_stats_jokic_dummies['SA'],\n",
        "                          df_stats_jokic_dummies['SAC'], df_stats_jokic_dummies['TOR'],df_stats_jokic_dummies['UTAH'], df_stats_jokic_dummies['WSH'], df_stats_jokic_dummies['casa'], df_stats_jokic_dummies['fora'], df_stats_jokic_dummies['D'],\n",
        "                          df_stats_jokic_dummies['V'], df_stats_jokic_dummies['Leste'], df_stats_jokic_dummies['Oeste'])"
      ],
      "metadata": {
        "id": "hPAVEbqrK_mi"
      },
      "execution_count": null,
      "outputs": []
    },
    {
      "cell_type": "code",
      "source": [
        "significancia = 0.05"
      ],
      "metadata": {
        "id": "fhOqVHLzNOHH"
      },
      "execution_count": null,
      "outputs": []
    },
    {
      "cell_type": "code",
      "source": [
        "p_value"
      ],
      "metadata": {
        "id": "XbHaokXTMBgY"
      },
      "execution_count": null,
      "outputs": []
    },
    {
      "cell_type": "code",
      "source": [
        "if p_value < significancia:\n",
        "    print('Hipótese nula rejeitada\\nÉ possível utilizar PCA')\n",
        "else:\n",
        "    print('Hipótese nula aceita\\nNão é possível utilizar PCA')"
      ],
      "metadata": {
        "id": "owPNfadzNY80"
      },
      "execution_count": null,
      "outputs": []
    },
    {
      "cell_type": "markdown",
      "source": [
        "## PCA"
      ],
      "metadata": {
        "id": "DIfmGIMr4nfF"
      }
    },
    {
      "cell_type": "markdown",
      "source": [
        "1. Padronização dos dados\n",
        "2. Obtenção dos autovalores e autovetores\n",
        "3. Obtenção das componentes principais\n",
        "4. Correlação entre valores padronizados e scores dos componentes principais"
      ],
      "metadata": {
        "id": "w-XnU0xdHn_J"
      }
    },
    {
      "cell_type": "code",
      "source": [
        "df_stats_jokic_pca = df_stats_jokic.copy()"
      ],
      "metadata": {
        "id": "XevmNxfm8dta"
      },
      "execution_count": null,
      "outputs": []
    },
    {
      "cell_type": "code",
      "source": [
        "df_stats_jokic_pca.drop(columns=['Adversario', 'Conferencia', 'V_D', 'Casa_Fora'], inplace=True)"
      ],
      "metadata": {
        "id": "qYYJHCyaBae6"
      },
      "execution_count": null,
      "outputs": []
    },
    {
      "cell_type": "code",
      "source": [
        "df_stats_jokic_pca"
      ],
      "metadata": {
        "id": "vMtSCMfiBs8b"
      },
      "execution_count": null,
      "outputs": []
    },
    {
      "cell_type": "markdown",
      "source": [
        "### 1. Padronização dos dados"
      ],
      "metadata": {
        "id": "GaOcPNuwIG2a"
      }
    },
    {
      "cell_type": "code",
      "source": [
        "scaler = StandardScaler()\n",
        "stats_jokic_pca_scaled = scaler.fit_transform(df_stats_jokic_pca)"
      ],
      "metadata": {
        "id": "dYdh6Dk18gVe"
      },
      "execution_count": null,
      "outputs": []
    },
    {
      "cell_type": "code",
      "source": [
        "stats_jokic_pca_scaled"
      ],
      "metadata": {
        "id": "JmjuJXga8ryW"
      },
      "execution_count": null,
      "outputs": []
    },
    {
      "cell_type": "code",
      "source": [
        "columns = df_stats_jokic_pca.columns\n",
        "data = stats_jokic_pca_scaled\n",
        "\n",
        "df_stats_jokic_pca_scaled = pd.DataFrame(data=data, columns=columns)\n",
        "\n",
        "df_stats_jokic_pca_scaled"
      ],
      "metadata": {
        "id": "9WYqJH5b9vs6"
      },
      "execution_count": null,
      "outputs": []
    },
    {
      "cell_type": "code",
      "source": [
        "pca = PCA(random_state=0)\n",
        "pca = pca.fit(df_stats_jokic_pca_scaled)"
      ],
      "metadata": {
        "id": "4EyRz-kxb8Qj"
      },
      "execution_count": null,
      "outputs": []
    },
    {
      "cell_type": "code",
      "source": [
        "fig = px.line(x=range(1, len(pca.explained_variance_) + 1),\n",
        "              y=pca.explained_variance_,\n",
        "              labels={'x': 'N de componentes', 'y': 'Eigenvalues'})\n",
        "\n",
        "fig.update_layout(margin=dict(t=50,\n",
        "                              r=50,\n",
        "                              b=50,\n",
        "                              l=50),\n",
        "                  showlegend=False,\n",
        "                  width=1000,\n",
        "                  height=400,\n",
        "                  title='Scree plot')\n",
        "\n",
        "fig.add_hline(y=1, line_width=2, line_dash='dash', line_color='red')\n",
        "\n",
        "fig.show()"
      ],
      "metadata": {
        "id": "3JN2AnMEv_7D"
      },
      "execution_count": null,
      "outputs": []
    },
    {
      "cell_type": "markdown",
      "source": [
        "* **Autovalores**: Para o universo da PCA, podemos dizer que os autovalores mostram quantas variáveis cada autovalor representa em termos de variância. Quando dividimos os Autovalores pelo número de variáveis na base de dados, conseguimos entender a variância explicada que cada fator terá sobre a variância total das variáveis originais.\n",
        "\n",
        "* **Autovetores**: Para o universo da PCA, podemos definir os autovetores como sendo as projeções das variâncias capturadas das variáveis originais. Ele vai mostrar o quanto cada fator está capturando da variância de cada variável.\n",
        "\n",
        "*Obs: Enquanto o autovalor vai mostrar o quanto cada fator explica da variância TOTAL das variáveis, os autovetores vão mostrar o quanto da variância DE CADA variável está sendo explicada por cada fator.*\n",
        "\n",
        "Fonte: [Abrindo a Caixa Preta: PCA (Análise de Componentes Principais)](https://medium.com/@felipeverasaraujo/abrindo-a-caixa-preta-pca-an%C3%A1lise-de-componentes-principais-d5d400781dfe)"
      ],
      "metadata": {
        "id": "2NcIOzDS6DAF"
      }
    },
    {
      "cell_type": "markdown",
      "source": [
        "### 2. Obtenção dos autovalores e autovetores"
      ],
      "metadata": {
        "id": "HLgo4ZVCIMZ6"
      }
    },
    {
      "cell_type": "code",
      "source": [
        "matriz_autovalores = np.round(pca.explained_variance_, 2)  # Autovalores\n",
        "# Variância explicada por cada uma das componentes principais\n",
        "matriz_autovalores"
      ],
      "metadata": {
        "id": "FMY2p_bRdUwO"
      },
      "execution_count": null,
      "outputs": []
    },
    {
      "cell_type": "code",
      "source": [
        "(pca.explained_variance_).sum()  # Variância total do conjunto de dados padronizados (após normalização)"
      ],
      "metadata": {
        "id": "cs1na05L-5JL"
      },
      "execution_count": null,
      "outputs": []
    },
    {
      "cell_type": "code",
      "source": [
        "matriz_autovetores = pca.components_\n",
        "matriz_autovetores.shape"
      ],
      "metadata": {
        "id": "4znmFDZedg6R"
      },
      "execution_count": null,
      "outputs": []
    },
    {
      "cell_type": "code",
      "source": [
        "np.round(pca.explained_variance_ratio_, 2)\n",
        "# Cada valor é o resultado da divisão de cada autovalor pela soma dos autovalores"
      ],
      "metadata": {
        "id": "9Ef1VKEva2rD"
      },
      "execution_count": null,
      "outputs": []
    },
    {
      "cell_type": "code",
      "source": [
        "exp_var_cumul = np.cumsum(pca.explained_variance_ratio_)\n",
        "\n",
        "fig = px.area(x=range(1, exp_var_cumul.shape[0] + 1),\n",
        "              y=exp_var_cumul,\n",
        "              labels={'x': 'N de Components', 'y': 'Explained Variance'})\n",
        "\n",
        "fig.update_layout(yaxis=dict(tickmode='linear',\n",
        "                               tick0=0,\n",
        "                               dtick=0.1),\n",
        "                  xaxis=dict(tickmode='linear',\n",
        "                               tick0=0,\n",
        "                               dtick=5),\n",
        "                  margin=dict(t=50,\n",
        "                              r=50,\n",
        "                              b=50,\n",
        "                              l=50),\n",
        "                  showlegend=False,\n",
        "                  width=1000,\n",
        "                  height=400)\n",
        "\n",
        "fig.add_hline(y=0.8, line_width=2, line_dash='dash', line_color='green')\n",
        "\n",
        "fig.add_hline(y=0.9, line_width=2, line_dash='dash', line_color='red')\n",
        "\n",
        "fig.show()"
      ],
      "metadata": {
        "id": "HiWFZxRCgrn0"
      },
      "execution_count": null,
      "outputs": []
    },
    {
      "cell_type": "code",
      "source": [
        "exp_var_cumul_series = pd.Series(exp_var_cumul)\n",
        "\n",
        "exp_var_cumul_series_90_porcent = exp_var_cumul_series[exp_var_cumul_series >= 0.9]\n",
        "\n",
        "n_components = exp_var_cumul_series_90_porcent.index[0]\n",
        "# Número mínimo de componentes principais que explicam 90%\n",
        "# da variação do conjunto de dados\n",
        "n_components"
      ],
      "metadata": {
        "id": "Kwu5e-wwDnbc"
      },
      "execution_count": null,
      "outputs": []
    },
    {
      "cell_type": "markdown",
      "source": [
        "\n",
        "### Nº de componentes definido"
      ],
      "metadata": {
        "id": "4t0ofGnMD0dm"
      }
    },
    {
      "cell_type": "code",
      "source": [
        "nomes_colunas = {}\n",
        "\n",
        "for i, componente_principal in enumerate(range(1, n_components + 1)):\n",
        "    nome_componente = 'CP' + str(componente_principal)\n",
        "    colunas = {i: nome_componente}\n",
        "    nomes_colunas.update(colunas)\n",
        "\n",
        "nomes_colunas"
      ],
      "metadata": {
        "id": "5R-0HHK_HbNo"
      },
      "execution_count": null,
      "outputs": []
    },
    {
      "cell_type": "code",
      "source": [
        "pca_n_components = PCA(random_state=0, n_components=n_components)\n",
        "pca_n_components = pca.fit(df_stats_jokic_pca_scaled)"
      ],
      "metadata": {
        "id": "JFLc_6yGDZb7"
      },
      "execution_count": null,
      "outputs": []
    },
    {
      "cell_type": "code",
      "source": [
        "matriz_autovetores_n_components = pca_n_components.components_"
      ],
      "metadata": {
        "id": "9ZKGRDkGDQOZ"
      },
      "execution_count": null,
      "outputs": []
    },
    {
      "cell_type": "markdown",
      "source": [
        "### 3. Obtenção das componentes principais"
      ],
      "metadata": {
        "id": "G7coZQNOHe_4"
      }
    },
    {
      "cell_type": "code",
      "source": [
        "matriz_autovetores_n_components.shape"
      ],
      "metadata": {
        "id": "AK6dc_REsEMv"
      },
      "execution_count": null,
      "outputs": []
    },
    {
      "cell_type": "code",
      "source": [
        "matriz_autovetores_12_components = matriz_autovetores_n_components[:, 0:12]\n",
        "matriz_autovetores_12_components.shape"
      ],
      "metadata": {
        "id": "YA9f2j-TuAuy"
      },
      "execution_count": null,
      "outputs": []
    },
    {
      "cell_type": "code",
      "source": [
        "matrix_componentes_principais = np.matmul(df_stats_jokic_pca_scaled, matriz_autovetores_12_components)\n",
        "matrix_componentes_principais.rename(columns=nomes_colunas, inplace=True)"
      ],
      "metadata": {
        "id": "B9HwN5z-CxgW"
      },
      "execution_count": null,
      "outputs": []
    },
    {
      "cell_type": "markdown",
      "source": [
        "### 4. Correlação entre valores padronizados e scores dos componentes principais"
      ],
      "metadata": {
        "id": "MtCgWIrnIUth"
      }
    },
    {
      "cell_type": "code",
      "source": [
        "# Calculate correlations between each column of df_stats_jokic_pca_scaled and matrix_componentes_principais\n",
        "correlations = pd.DataFrame(index=df_stats_jokic_pca_scaled.columns, columns=matrix_componentes_principais.columns)\n",
        "\n",
        "for col1 in df_stats_jokic_pca_scaled.columns:\n",
        "    for col2 in matrix_componentes_principais.columns:\n",
        "        correlation_value = np.corrcoef(df_stats_jokic_pca_scaled[col1], matrix_componentes_principais[col2])[0, 1]\n",
        "        correlations.loc[col1, col2] = correlation_value.round(2)\n",
        "\n",
        "# Convert the correlation values to numeric type\n",
        "correlations = correlations.apply(pd.to_numeric)"
      ],
      "metadata": {
        "id": "kLRk8Q4NKVuF"
      },
      "execution_count": null,
      "outputs": []
    },
    {
      "cell_type": "code",
      "source": [
        "df_correlacoes = pd.DataFrame(correlations)\n",
        "df_correlacoes.rename(columns=nomes_colunas, inplace=True)\n",
        "\n",
        "fig = px.imshow(df_correlacoes,\n",
        "                text_auto=True,\n",
        "                aspect='auto',\n",
        "                color_continuous_scale='RdBu_r',\n",
        "                title='Correlação entre valores padronizados e scores das componentes principais')\n",
        "\n",
        "fig.update_layout(margin=dict(t=80,\n",
        "                              r=50,\n",
        "                              b=50,\n",
        "                              l=50),\n",
        "                  showlegend=False,\n",
        "                  width=1200,\n",
        "                  height=1200)\n",
        "\n",
        "fig.update_xaxes(side='top')\n",
        "\n",
        "fig.show()"
      ],
      "metadata": {
        "id": "CcMYr4rJK_xz"
      },
      "execution_count": null,
      "outputs": []
    },
    {
      "cell_type": "markdown",
      "source": [
        "#### Principais características para o estudo de similaridade"
      ],
      "metadata": {
        "id": "Wppu9rkb3aRS"
      }
    },
    {
      "cell_type": "code",
      "source": [
        "for i, coluna in enumerate(correlations):\n",
        "    componente_principal = 'CP' + str(i + 1)\n",
        "    caracteristicas_importantes = correlations[(correlations[componente_principal] >= 0.7)\n",
        "                                               | (correlations[componente_principal] <= -0.7)].index\n",
        "    print(coluna, caracteristicas_importantes)"
      ],
      "metadata": {
        "id": "YB4MNBvV14ab"
      },
      "execution_count": null,
      "outputs": []
    },
    {
      "cell_type": "markdown",
      "source": [
        "# RNN PyTorch"
      ],
      "metadata": {
        "id": "CmPHnG0GLk0e"
      }
    },
    {
      "cell_type": "code",
      "source": [
        "df_stats_jokic_rnn = df_stats_jokic_dummies.copy()\n",
        "df_stats_jokic_rnn"
      ],
      "metadata": {
        "id": "POqyZ3laEc8S"
      },
      "execution_count": null,
      "outputs": []
    },
    {
      "cell_type": "markdown",
      "source": [
        "## Normalização features"
      ],
      "metadata": {
        "id": "w9NUG1VcPZdF"
      }
    },
    {
      "cell_type": "code",
      "source": [
        "norm = Normalizer()\n",
        "\n",
        "X = df_stats_jokic_rnn.drop(columns=['Rebotes',\n",
        "                                     'Assistencias',\n",
        "                                     'Bloqueios',\n",
        "                                     'Desarmes',\n",
        "                                     'Faltas',\n",
        "                                     'Tunovers',\n",
        "                                     'Pontos'])\n",
        "\n",
        "y = df_stats_jokic_rnn['Pontos']"
      ],
      "metadata": {
        "id": "UY8lxJqNFkKq"
      },
      "execution_count": null,
      "outputs": []
    },
    {
      "cell_type": "code",
      "source": [
        "X.columns"
      ],
      "metadata": {
        "id": "VtOLMDwRGKw7"
      },
      "execution_count": null,
      "outputs": []
    },
    {
      "cell_type": "code",
      "source": [
        "X_norm = norm.fit_transform(X)\n",
        "\n",
        "df_x_norm = pd.DataFrame(X_norm, columns=X.columns)\n",
        "\n",
        "df_x_norm.head()"
      ],
      "metadata": {
        "id": "MN44fzegGftJ"
      },
      "execution_count": null,
      "outputs": []
    },
    {
      "cell_type": "markdown",
      "source": [
        "## Encoding targets"
      ],
      "metadata": {
        "id": "wWtOZySePktF"
      }
    },
    {
      "cell_type": "code",
      "source": [
        "encoder =  LabelEncoder()\n",
        "y_encod = encoder.fit_transform(y)"
      ],
      "metadata": {
        "id": "rfxp-DexPWIx"
      },
      "execution_count": null,
      "outputs": []
    },
    {
      "cell_type": "markdown",
      "source": [
        "## Train-Test Split"
      ],
      "metadata": {
        "id": "D4h6o8l6gFJS"
      }
    },
    {
      "cell_type": "code",
      "source": [
        "X_train, X_test, y_train, y_test = train_test_split(X_norm, y_encod, test_size=0.2, random_state=0)"
      ],
      "metadata": {
        "id": "G_1Li5YIgJVe"
      },
      "execution_count": null,
      "outputs": []
    },
    {
      "cell_type": "code",
      "source": [
        "x_train, x_valid, y_train, y_valid = train_test_split(X_train, y_train, test_size=0.1, random_state=0)"
      ],
      "metadata": {
        "id": "j5FW9tHsS7we"
      },
      "execution_count": null,
      "outputs": []
    },
    {
      "cell_type": "code",
      "source": [
        "import  torch\n",
        "from    torch import nn\n",
        "from    torchsummary import summary"
      ],
      "metadata": {
        "id": "SfuA94oSMZn_"
      },
      "execution_count": null,
      "outputs": []
    },
    {
      "cell_type": "code",
      "source": [],
      "metadata": {
        "id": "4XeBs0EBMv0g"
      },
      "execution_count": null,
      "outputs": []
    },
    {
      "cell_type": "code",
      "source": [],
      "metadata": {
        "id": "65TY2aSNLnZR"
      },
      "execution_count": null,
      "outputs": []
    },
    {
      "cell_type": "code",
      "source": [],
      "metadata": {
        "id": "dvSHcI4yMFLT"
      },
      "execution_count": null,
      "outputs": []
    },
    {
      "cell_type": "markdown",
      "source": [
        "## Foward"
      ],
      "metadata": {
        "id": "_-q15CbiOGR2"
      }
    },
    {
      "cell_type": "code",
      "source": [],
      "metadata": {
        "id": "J9PjCovqMU6B"
      },
      "execution_count": null,
      "outputs": []
    },
    {
      "cell_type": "code",
      "source": [],
      "metadata": {
        "id": "7jKM_CzhOVD7"
      },
      "execution_count": null,
      "outputs": []
    }
  ]
}